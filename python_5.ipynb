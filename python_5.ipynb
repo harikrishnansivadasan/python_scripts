{
  "nbformat": 4,
  "nbformat_minor": 0,
  "metadata": {
    "colab": {
      "provenance": []
    },
    "kernelspec": {
      "name": "python3",
      "display_name": "Python 3"
    },
    "language_info": {
      "name": "python"
    }
  },
  "cells": [
    {
      "cell_type": "code",
      "execution_count": null,
      "metadata": {
        "id": "ZknHtZNUzn1B"
      },
      "outputs": [],
      "source": [
        "my_list=['apple','banana','cherry','mango','orange']\n",
        "my_list.append('coconut')"
      ]
    },
    {
      "cell_type": "code",
      "source": [
        "print(my_list)"
      ],
      "metadata": {
        "colab": {
          "base_uri": "https://localhost:8080/"
        },
        "id": "xYjykcgk0Eju",
        "outputId": "7174fa0f-6e8c-4f06-c335-2c1321dc94e2"
      },
      "execution_count": null,
      "outputs": [
        {
          "output_type": "stream",
          "name": "stdout",
          "text": [
            "['apple', 'banana', 'cherry', 'mango', 'orange', 'coconut']\n"
          ]
        }
      ]
    },
    {
      "cell_type": "code",
      "source": [
        "my_list.insert(2,'lemon')\n",
        "print(my_list)"
      ],
      "metadata": {
        "colab": {
          "base_uri": "https://localhost:8080/"
        },
        "id": "h-hz3P-D0IvM",
        "outputId": "07191785-1b36-45ee-9afa-5575bb620fab"
      },
      "execution_count": null,
      "outputs": [
        {
          "output_type": "stream",
          "name": "stdout",
          "text": [
            "['apple', 'banana', 'lemon', 'cherry', 'mango', 'orange', 'coconut']\n"
          ]
        }
      ]
    },
    {
      "cell_type": "code",
      "source": [
        "last=my_list.pop()\n",
        "print(last)\n"
      ],
      "metadata": {
        "colab": {
          "base_uri": "https://localhost:8080/"
        },
        "id": "7tBMjXvE0cSB",
        "outputId": "fb1f8aba-c356-4903-eac4-b3c2fecdebda"
      },
      "execution_count": null,
      "outputs": [
        {
          "output_type": "stream",
          "name": "stdout",
          "text": [
            "coconut\n"
          ]
        }
      ]
    },
    {
      "cell_type": "code",
      "source": [
        "my_list.remove('apple')\n",
        "print(my_list)"
      ],
      "metadata": {
        "colab": {
          "base_uri": "https://localhost:8080/"
        },
        "id": "V1MrmR0e0hfp",
        "outputId": "f2dd492d-7880-4165-cb8d-0341dad6d866"
      },
      "execution_count": null,
      "outputs": [
        {
          "output_type": "stream",
          "name": "stdout",
          "text": [
            "['banana', 'lemon', 'cherry', 'mango', 'orange']\n"
          ]
        }
      ]
    },
    {
      "cell_type": "code",
      "source": [
        "print(my_list)"
      ],
      "metadata": {
        "colab": {
          "base_uri": "https://localhost:8080/"
        },
        "id": "e1_WjIDs0tTn",
        "outputId": "83f1758c-eadf-4de9-adc5-16343e4e7a76"
      },
      "execution_count": null,
      "outputs": [
        {
          "output_type": "stream",
          "name": "stdout",
          "text": [
            "['banana', 'lemon', 'cherry', 'mango', 'orange']\n"
          ]
        }
      ]
    },
    {
      "cell_type": "code",
      "source": [
        "my_list.reverse()\n",
        "print(my_list)"
      ],
      "metadata": {
        "colab": {
          "base_uri": "https://localhost:8080/"
        },
        "id": "BNsdxuDM1siF",
        "outputId": "9bb132ce-18cb-4a43-bca0-892c4d78fb91"
      },
      "execution_count": null,
      "outputs": [
        {
          "output_type": "stream",
          "name": "stdout",
          "text": [
            "['orange', 'mango', 'cherry', 'lemon', 'banana']\n"
          ]
        }
      ]
    },
    {
      "cell_type": "code",
      "source": [
        "def squared():\n",
        "  m=list(map(int,input('Enter numbers:').split(' ')))\n",
        "  return [i**2 for i in m]\n",
        "\n",
        "print(squared())"
      ],
      "metadata": {
        "colab": {
          "base_uri": "https://localhost:8080/"
        },
        "id": "N3APXguN99kR",
        "outputId": "4128a8b6-ce42-4ab5-fb0d-ccd78f598fb1"
      },
      "execution_count": null,
      "outputs": [
        {
          "output_type": "stream",
          "name": "stdout",
          "text": [
            "Enter numbers:12 2 3\n",
            "[144, 4, 9]\n"
          ]
        }
      ]
    },
    {
      "cell_type": "code",
      "source": [
        "num=[5, 3, 9, 1, 7]\n",
        "nums=[i for i in sorted(set(num))]\n",
        "nums[-2]\n"
      ],
      "metadata": {
        "colab": {
          "base_uri": "https://localhost:8080/"
        },
        "id": "cWn2cLD-_HgR",
        "outputId": "b8577c9a-6ab0-452a-c81b-3eda0a4d3fe6"
      },
      "execution_count": null,
      "outputs": [
        {
          "output_type": "execute_result",
          "data": {
            "text/plain": [
              "7"
            ]
          },
          "metadata": {},
          "execution_count": 46
        }
      ]
    },
    {
      "cell_type": "code",
      "source": [
        "def high(d):\n",
        "  for i,j in d.items():\n",
        "    if j==max(d.values()):\n",
        "      return {i:j}\n",
        "d={'apple': 2, 'banana': 1, 'cherry': 3}\n",
        "print(high(d))"
      ],
      "metadata": {
        "colab": {
          "base_uri": "https://localhost:8080/"
        },
        "id": "fVKOeL8yAMD2",
        "outputId": "36034d85-296a-447e-a236-6118aec5eebf"
      },
      "execution_count": null,
      "outputs": [
        {
          "output_type": "stream",
          "name": "stdout",
          "text": [
            "{'cherry': 3}\n"
          ]
        }
      ]
    },
    {
      "cell_type": "code",
      "source": [
        "dict1 = {'a': 1, 'b': 2}\n",
        "dict2 = {'b': 3, 'c': 4}\n",
        "dict3={i:j for i,j in dict1.items()}\n",
        "for i,j in dict2.items():\n",
        "  if i in dict3.keys():\n",
        "    dict3[i]+=dict2[i]\n",
        "  else:\n",
        "    dict3[i]=j\n",
        "\n",
        "print(dict3)"
      ],
      "metadata": {
        "colab": {
          "base_uri": "https://localhost:8080/"
        },
        "id": "0SyBcXooBNJC",
        "outputId": "31a8226c-1469-4a55-b3a7-4c2c574fd6de"
      },
      "execution_count": null,
      "outputs": [
        {
          "output_type": "stream",
          "name": "stdout",
          "text": [
            "{'a': 1, 'b': 5, 'c': 4}\n"
          ]
        }
      ]
    },
    {
      "cell_type": "code",
      "source": [
        "set1 = {1, 2, 3}\n",
        "set2 = {2, 3, 4}\n",
        "set3={i for i in set1 if i in set2}\n",
        "print(set3)"
      ],
      "metadata": {
        "colab": {
          "base_uri": "https://localhost:8080/"
        },
        "id": "dmm4MFWRH8JM",
        "outputId": "88462ea3-caaf-4a72-ef69-14ad7457f2a5"
      },
      "execution_count": null,
      "outputs": [
        {
          "output_type": "stream",
          "name": "stdout",
          "text": [
            "{2, 3}\n"
          ]
        }
      ]
    },
    {
      "cell_type": "code",
      "source": [
        "data=[('Alice', 85), ('Bob', 90), ('Charlie', 82)]\n",
        "datas=sorted(data, key=lambda x:x[1],reverse=True)\n",
        "print(datas)"
      ],
      "metadata": {
        "colab": {
          "base_uri": "https://localhost:8080/"
        },
        "id": "w8bSEvvjIy7t",
        "outputId": "600e3f86-336b-4d7b-faaf-8b45ac9cca0c"
      },
      "execution_count": null,
      "outputs": [
        {
          "output_type": "stream",
          "name": "stdout",
          "text": [
            "[('Bob', 90), ('Alice', 85), ('Charlie', 82)]\n"
          ]
        }
      ]
    },
    {
      "cell_type": "code",
      "source": [
        "inp= [[1, 2], [3, 4], [5, 6]]\n",
        "tup=tuple((tuple(i) for i in inp))\n",
        "print(tup)"
      ],
      "metadata": {
        "colab": {
          "base_uri": "https://localhost:8080/"
        },
        "id": "uc25x0C3KrND",
        "outputId": "fdc85a6c-b8c0-4369-871b-8c9d9f9a9a39"
      },
      "execution_count": null,
      "outputs": [
        {
          "output_type": "stream",
          "name": "stdout",
          "text": [
            "((1, 2), (3, 4), (5, 6))\n"
          ]
        }
      ]
    },
    {
      "cell_type": "code",
      "source": [
        "num=[1, 2, 3, 4, 5, 6]\n",
        "even=[i for i in num if i%2==0]\n",
        "print(even)"
      ],
      "metadata": {
        "colab": {
          "base_uri": "https://localhost:8080/"
        },
        "id": "YtNNga2SLQ_q",
        "outputId": "a4f6bcde-c2cc-4c92-bad4-03a899580294"
      },
      "execution_count": null,
      "outputs": [
        {
          "output_type": "stream",
          "name": "stdout",
          "text": [
            "[2, 4, 6]\n"
          ]
        }
      ]
    },
    {
      "cell_type": "code",
      "source": [],
      "metadata": {
        "id": "cZQwsjSCLuwL"
      },
      "execution_count": null,
      "outputs": []
    },
    {
      "cell_type": "code",
      "source": [
        "num=[1, 2, 3, 4, 5, 6]\n",
        "even=list(filter(lambda x:x%2==0,num))\n",
        "print(even)"
      ],
      "metadata": {
        "colab": {
          "base_uri": "https://localhost:8080/"
        },
        "outputId": "8079b8e1-be0c-4992-ae88-3c4b2ae1ddb3",
        "id": "mOHXmzWVLwA5"
      },
      "execution_count": null,
      "outputs": [
        {
          "output_type": "stream",
          "name": "stdout",
          "text": [
            "[2, 4, 6]\n"
          ]
        }
      ]
    },
    {
      "cell_type": "code",
      "source": [
        "num=[1, 2, 3, 4]\n",
        "nums=list(map(lambda x:x*3,num))\n",
        "nums"
      ],
      "metadata": {
        "colab": {
          "base_uri": "https://localhost:8080/"
        },
        "id": "4FS7EaGGMNJ6",
        "outputId": "34b7d50b-3a0b-4645-d0d7-7c86d4739de7"
      },
      "execution_count": null,
      "outputs": [
        {
          "output_type": "execute_result",
          "data": {
            "text/plain": [
              "[3, 6, 9, 12]"
            ]
          },
          "metadata": {},
          "execution_count": 74
        }
      ]
    },
    {
      "cell_type": "code",
      "source": [
        "from functools import reduce\n",
        "num=[1, 2, 3, 4]\n",
        "prod=reduce(lambda x,y:x*y, num)\n",
        "prod"
      ],
      "metadata": {
        "colab": {
          "base_uri": "https://localhost:8080/"
        },
        "id": "hHwj5z8ZMeaq",
        "outputId": "e669595a-ed1c-440f-d46a-821197e4b5ab"
      },
      "execution_count": null,
      "outputs": [
        {
          "output_type": "execute_result",
          "data": {
            "text/plain": [
              "24"
            ]
          },
          "metadata": {},
          "execution_count": 75
        }
      ]
    },
    {
      "cell_type": "code",
      "source": [
        "num=[1, 2, 3, 4, 5, 6]\n",
        "sqr=[i**2 for i in num if i%2==0]\n",
        "sqr"
      ],
      "metadata": {
        "colab": {
          "base_uri": "https://localhost:8080/"
        },
        "id": "ntjEyL-wM9c4",
        "outputId": "4996504f-564c-403e-ed69-a2185818b61c"
      },
      "execution_count": null,
      "outputs": [
        {
          "output_type": "execute_result",
          "data": {
            "text/plain": [
              "[4, 16, 36]"
            ]
          },
          "metadata": {},
          "execution_count": 76
        }
      ]
    },
    {
      "cell_type": "code",
      "source": [
        "k=[1, 2, 3, 4]\n",
        "dic={i:i**3 for i in k}\n",
        "dic"
      ],
      "metadata": {
        "colab": {
          "base_uri": "https://localhost:8080/"
        },
        "id": "ChtEP-YCNdGQ",
        "outputId": "08f8c537-e531-415b-fe05-d7d81e4b1316"
      },
      "execution_count": null,
      "outputs": [
        {
          "output_type": "execute_result",
          "data": {
            "text/plain": [
              "{1: 1, 2: 8, 3: 27, 4: 64}"
            ]
          },
          "metadata": {},
          "execution_count": 77
        }
      ]
    },
    {
      "cell_type": "code",
      "source": [
        "word=['apple', 'banana', 'pear', 'kiwi']\n",
        "ln={len(i) for i in word}\n",
        "ln"
      ],
      "metadata": {
        "colab": {
          "base_uri": "https://localhost:8080/"
        },
        "id": "TrVbNqH0N7Bv",
        "outputId": "80801db5-264e-41b6-8330-43b8c0dd5f67"
      },
      "execution_count": null,
      "outputs": [
        {
          "output_type": "execute_result",
          "data": {
            "text/plain": [
              "{4, 5, 6}"
            ]
          },
          "metadata": {},
          "execution_count": 78
        }
      ]
    },
    {
      "cell_type": "code",
      "source": [
        "num=[-1, 2,0, -3, 4, -5, 6]\n",
        "nums=[i for i in num if i>0]\n",
        "nums"
      ],
      "metadata": {
        "colab": {
          "base_uri": "https://localhost:8080/"
        },
        "id": "gITRyiNGOMYO",
        "outputId": "44b127ee-181a-4380-a77a-ef0da834a18c"
      },
      "execution_count": null,
      "outputs": [
        {
          "output_type": "execute_result",
          "data": {
            "text/plain": [
              "[2, 4, 6]"
            ]
          },
          "metadata": {},
          "execution_count": 80
        }
      ]
    },
    {
      "cell_type": "code",
      "source": [
        "name='hello'\n",
        "num={i:name.count(i) for i in name}\n",
        "num"
      ],
      "metadata": {
        "colab": {
          "base_uri": "https://localhost:8080/"
        },
        "id": "1obM1wzxOvvm",
        "outputId": "1ffa39d0-ae44-4557-ab4d-04bdc027fc3e"
      },
      "execution_count": null,
      "outputs": [
        {
          "output_type": "execute_result",
          "data": {
            "text/plain": [
              "{'h': 1, 'e': 1, 'l': 2, 'o': 1}"
            ]
          },
          "metadata": {},
          "execution_count": 81
        }
      ]
    },
    {
      "cell_type": "code",
      "source": [
        "num=[-1, 2,0, -3, 4, -5, 6]\n",
        "dub=list(map(lambda x:x*2,num))\n",
        "dub"
      ],
      "metadata": {
        "colab": {
          "base_uri": "https://localhost:8080/"
        },
        "id": "4JZq1Ef7PJ2Q",
        "outputId": "bed290c3-7b5a-4471-ed10-616b657d3b02"
      },
      "execution_count": null,
      "outputs": [
        {
          "output_type": "execute_result",
          "data": {
            "text/plain": [
              "[-2, 4, 0, -6, 8, -10, 12]"
            ]
          },
          "metadata": {},
          "execution_count": 82
        }
      ]
    },
    {
      "cell_type": "code",
      "source": [
        "name=[\"apple\", \"banana\", \"cherry\"]\n",
        "nam=list(map(lambda x:x.upper(),name))\n",
        "nam"
      ],
      "metadata": {
        "colab": {
          "base_uri": "https://localhost:8080/"
        },
        "id": "2rM-lwTrP4Dt",
        "outputId": "38873fa4-41a0-463b-841d-ca47eec1ee1e"
      },
      "execution_count": null,
      "outputs": [
        {
          "output_type": "execute_result",
          "data": {
            "text/plain": [
              "['APPLE', 'BANANA', 'CHERRY']"
            ]
          },
          "metadata": {},
          "execution_count": 84
        }
      ]
    },
    {
      "cell_type": "code",
      "source": [
        "num=[1, 2, 3, 4, 5, 6]\n",
        "nums=list(filter(lambda x:x%2!=0,num))\n",
        "\n",
        "nums"
      ],
      "metadata": {
        "colab": {
          "base_uri": "https://localhost:8080/"
        },
        "id": "zr9Wzp0JQjGs",
        "outputId": "e913e6a0-7e02-44fa-9834-8c050b9f5fb2"
      },
      "execution_count": null,
      "outputs": [
        {
          "output_type": "execute_result",
          "data": {
            "text/plain": [
              "[1, 3, 5]"
            ]
          },
          "metadata": {},
          "execution_count": 86
        }
      ]
    },
    {
      "cell_type": "code",
      "source": [
        "name=[\"apple\", \"banana\", \"cherry\"]\n",
        "coun=list(map(lambda x:len(x),name))\n",
        "coun"
      ],
      "metadata": {
        "colab": {
          "base_uri": "https://localhost:8080/"
        },
        "id": "9hprGlwaQ-GN",
        "outputId": "5b2faeaa-47f0-47e5-914b-2cd6e0a1bd84"
      },
      "execution_count": null,
      "outputs": [
        {
          "output_type": "execute_result",
          "data": {
            "text/plain": [
              "[5, 6, 6]"
            ]
          },
          "metadata": {},
          "execution_count": 88
        }
      ]
    },
    {
      "cell_type": "code",
      "source": [
        "word=\"hello world\"\n",
        "v=['a','e','i','o','u']\n",
        "def vow(word):\n",
        "  res=''.join([char for char in word if char not in v])\n",
        "  return res\n",
        "print(vow(word))\n"
      ],
      "metadata": {
        "colab": {
          "base_uri": "https://localhost:8080/"
        },
        "id": "GeVKAK-3Re5a",
        "outputId": "4ab5ae2a-8b00-471c-8a0f-f6179d716e30"
      },
      "execution_count": null,
      "outputs": [
        {
          "output_type": "stream",
          "name": "stdout",
          "text": [
            "hll wrld\n"
          ]
        }
      ]
    },
    {
      "cell_type": "code",
      "source": [
        "num=[-1, 2, 3, -4, 5]\n",
        "nums=list(map(lambda x:x**2,[i for i in num if i>0]))\n",
        "nums"
      ],
      "metadata": {
        "colab": {
          "base_uri": "https://localhost:8080/"
        },
        "id": "UN3mVIWaVQuI",
        "outputId": "7695d8f3-64e5-4a94-ae7a-9a414ff0d638"
      },
      "execution_count": null,
      "outputs": [
        {
          "output_type": "execute_result",
          "data": {
            "text/plain": [
              "[4, 9, 25]"
            ]
          },
          "metadata": {},
          "execution_count": 98
        }
      ]
    },
    {
      "cell_type": "code",
      "source": [
        "name=[\"apple\", \"banana\", \"pear\", \"kiwi\"]\n",
        "names=sorted(name,key=lambda x:len(x))\n",
        "names"
      ],
      "metadata": {
        "colab": {
          "base_uri": "https://localhost:8080/"
        },
        "id": "Sody4Mk1WmkW",
        "outputId": "ce3c3839-4d3c-4c05-f240-94b85224d745"
      },
      "execution_count": null,
      "outputs": [
        {
          "output_type": "execute_result",
          "data": {
            "text/plain": [
              "['pear', 'kiwi', 'apple', 'banana']"
            ]
          },
          "metadata": {},
          "execution_count": 99
        }
      ]
    },
    {
      "cell_type": "code",
      "source": [
        "num=[1, 2, 2, 3, 4, 4, 5]\n",
        "uni=[]\n",
        "for i in num:\n",
        "  if i not in uni:\n",
        "    uni.append(i)\n",
        "\n",
        "uni"
      ],
      "metadata": {
        "colab": {
          "base_uri": "https://localhost:8080/"
        },
        "id": "7zNVYVOEXP7I",
        "outputId": "5b1c38f2-ef06-4631-d387-4ca571899e04"
      },
      "execution_count": null,
      "outputs": [
        {
          "output_type": "execute_result",
          "data": {
            "text/plain": [
              "[1, 2, 3, 4, 5]"
            ]
          },
          "metadata": {},
          "execution_count": 101
        }
      ]
    },
    {
      "cell_type": "code",
      "source": [
        "arr=[3, 1, 4, 2]\n",
        "arr.sort(reverse=True)\n",
        "arr"
      ],
      "metadata": {
        "colab": {
          "base_uri": "https://localhost:8080/"
        },
        "id": "xCcYbreLX47k",
        "outputId": "b025fb67-ada8-4c72-b1f8-1397d5d66c9e"
      },
      "execution_count": null,
      "outputs": [
        {
          "output_type": "execute_result",
          "data": {
            "text/plain": [
              "[4, 3, 2, 1]"
            ]
          },
          "metadata": {},
          "execution_count": 104
        }
      ]
    },
    {
      "cell_type": "code",
      "source": [
        "name=[\"apple\", \"banana\", \"orange\", \"kiwi\"]\n",
        "v=['a','e','i','o','u']\n",
        "nm=[i for i in name if i[0] in v]\n",
        "nm\n"
      ],
      "metadata": {
        "colab": {
          "base_uri": "https://localhost:8080/"
        },
        "id": "7dGkTG6gYb_O",
        "outputId": "e61ff800-05eb-4cfc-81e5-17aff110bad7"
      },
      "execution_count": null,
      "outputs": [
        {
          "output_type": "execute_result",
          "data": {
            "text/plain": [
              "['apple', 'orange']"
            ]
          },
          "metadata": {},
          "execution_count": 105
        }
      ]
    },
    {
      "cell_type": "code",
      "source": [
        "num=[-1, 2, 3, -4, 5]\n",
        "sum1=sum(list(filter(lambda x:x>0,num)))\n",
        "sum1"
      ],
      "metadata": {
        "colab": {
          "base_uri": "https://localhost:8080/"
        },
        "id": "Sl3hK3ZRY3pa",
        "outputId": "2c723f81-c5f7-44d4-a4cd-ef41dd78117f"
      },
      "execution_count": null,
      "outputs": [
        {
          "output_type": "execute_result",
          "data": {
            "text/plain": [
              "10"
            ]
          },
          "metadata": {},
          "execution_count": 106
        }
      ]
    },
    {
      "cell_type": "code",
      "source": [
        "num=[-1, 2, 3, -4, 5]\n",
        "sum1=reduce(lambda x,y:x+y,list(filter(lambda x:x>0,num)))\n",
        "sum1"
      ],
      "metadata": {
        "colab": {
          "base_uri": "https://localhost:8080/"
        },
        "id": "5fO2XJkRZP-7",
        "outputId": "9ef5a2a7-603d-4ed4-d5f9-eb30b4fdda39"
      },
      "execution_count": null,
      "outputs": [
        {
          "output_type": "execute_result",
          "data": {
            "text/plain": [
              "10"
            ]
          },
          "metadata": {},
          "execution_count": 108
        }
      ]
    },
    {
      "cell_type": "code",
      "source": [
        "num=[1, 2, 3, 4, 5, 6]\n",
        "su=list(map(lambda x:x**3,list(filter(lambda x:x%2==0,num))))\n",
        "su"
      ],
      "metadata": {
        "colab": {
          "base_uri": "https://localhost:8080/"
        },
        "id": "w-RWDxMyZpiC",
        "outputId": "70b52d9f-724a-42b9-9d7e-589fe813b51b"
      },
      "execution_count": null,
      "outputs": [
        {
          "output_type": "execute_result",
          "data": {
            "text/plain": [
              "[8, 64, 216]"
            ]
          },
          "metadata": {},
          "execution_count": 114
        }
      ]
    },
    {
      "cell_type": "code",
      "source": [
        "name=\"hello world\"\n",
        "nam=[i for i in name if i!=' ']\n",
        "dic={i:name.count(i) for i in nam}\n",
        "dic"
      ],
      "metadata": {
        "colab": {
          "base_uri": "https://localhost:8080/"
        },
        "id": "RTBH6BlBas87",
        "outputId": "abd68116-9682-46da-bd1e-d7c32e968ec4"
      },
      "execution_count": null,
      "outputs": [
        {
          "output_type": "execute_result",
          "data": {
            "text/plain": [
              "{'h': 1, 'e': 1, 'l': 3, 'o': 2, 'w': 1, 'r': 1, 'd': 1}"
            ]
          },
          "metadata": {},
          "execution_count": 116
        }
      ]
    },
    {
      "cell_type": "code",
      "source": [
        "nm=[1, 5, 8, 10]\n",
        "op=[i for i in nm if i>5]\n",
        "op"
      ],
      "metadata": {
        "colab": {
          "base_uri": "https://localhost:8080/"
        },
        "id": "QU2T93GcbWOh",
        "outputId": "3ec61054-12c5-4894-c7b0-4af600bb8149"
      },
      "execution_count": null,
      "outputs": [
        {
          "output_type": "execute_result",
          "data": {
            "text/plain": [
              "[8, 10]"
            ]
          },
          "metadata": {},
          "execution_count": 118
        }
      ]
    },
    {
      "cell_type": "code",
      "source": [
        "ip=\"hello world\"\n",
        "words=list(map(str,ip.split(' ')))\n",
        "dic={i:len(i) for i in words}\n",
        "dic"
      ],
      "metadata": {
        "colab": {
          "base_uri": "https://localhost:8080/"
        },
        "id": "tBjfoEihcNW5",
        "outputId": "964d0950-49ad-435f-9ea6-4caed48f0030"
      },
      "execution_count": null,
      "outputs": [
        {
          "output_type": "execute_result",
          "data": {
            "text/plain": [
              "{'hello': 5, 'world': 5}"
            ]
          },
          "metadata": {},
          "execution_count": 121
        }
      ]
    },
    {
      "cell_type": "code",
      "source": [
        "def prime(n):\n",
        "  if n<=1 :\n",
        "    return False\n",
        "  for i in range(2,(n//2)+1):\n",
        "    if n%i==0 and i!=n:\n",
        "      return False\n",
        "  return True\n",
        "\n",
        "num=[1, 2, 3, 4, 5, 6, 7, 8, 9, 10]\n",
        "primes=list(filter(lambda x:prime(x),num))\n",
        "primes"
      ],
      "metadata": {
        "colab": {
          "base_uri": "https://localhost:8080/"
        },
        "id": "D4pwJKYpsiie",
        "outputId": "7e5f9806-1fcb-4d9e-a971-04d734cbfff7"
      },
      "execution_count": null,
      "outputs": [
        {
          "output_type": "execute_result",
          "data": {
            "text/plain": [
              "[2, 3, 5, 7]"
            ]
          },
          "metadata": {},
          "execution_count": 133
        }
      ]
    },
    {
      "cell_type": "code",
      "source": [
        "name=[('Alice', 30), ('Bob', 15), ('Charlie', 25), ('David', 17)]\n",
        "old=[i[0] for i in name if i[1]>=18]\n",
        "old"
      ],
      "metadata": {
        "colab": {
          "base_uri": "https://localhost:8080/"
        },
        "id": "vOoZ_pHLwnzp",
        "outputId": "a02bce78-37f5-497f-c163-917dc95dc3f3"
      },
      "execution_count": null,
      "outputs": [
        {
          "output_type": "execute_result",
          "data": {
            "text/plain": [
              "['Alice', 'Charlie']"
            ]
          },
          "metadata": {},
          "execution_count": 134
        }
      ]
    },
    {
      "cell_type": "code",
      "source": [
        "name=[\"racecar\", \"hello\", \"level\", \"world\", \"radar\"]\n",
        "def palindrome(name):\n",
        "  l=0\n",
        "  r=len(name)-1\n",
        "  while l<r:\n",
        "    if name[l]!=name[r]:\n",
        "      return False\n",
        "    l+=1\n",
        "    r-=1\n",
        "  return True\n",
        "\n",
        "nm=list(filter(lambda x:palindrome(x),name))\n",
        "nm"
      ],
      "metadata": {
        "colab": {
          "base_uri": "https://localhost:8080/"
        },
        "id": "UGCR6SHYw-oi",
        "outputId": "8b51a831-57a8-41bc-9616-fc0b3fc674be"
      },
      "execution_count": null,
      "outputs": [
        {
          "output_type": "execute_result",
          "data": {
            "text/plain": [
              "['racecar', 'level', 'radar']"
            ]
          },
          "metadata": {},
          "execution_count": 137
        }
      ]
    },
    {
      "cell_type": "code",
      "source": [
        "num=[1, 2, 2, 3, 4, 4, 5]\n",
        "print(sum(set(num)))"
      ],
      "metadata": {
        "colab": {
          "base_uri": "https://localhost:8080/"
        },
        "id": "bgIHHPYvyXz6",
        "outputId": "30cc5006-4dea-4bc6-9d53-18f410b06f82"
      },
      "execution_count": null,
      "outputs": [
        {
          "output_type": "stream",
          "name": "stdout",
          "text": [
            "15\n"
          ]
        }
      ]
    },
    {
      "cell_type": "code",
      "source": [
        "num=[1, 2, 3, 4, 5]\n",
        "nums=[i for i in num if i>(sum(num)/len(num))]\n",
        "nums"
      ],
      "metadata": {
        "colab": {
          "base_uri": "https://localhost:8080/"
        },
        "id": "UY-qq58SynSn",
        "outputId": "df341aa4-a4b2-4ed0-d734-d7388262ee7b"
      },
      "execution_count": null,
      "outputs": [
        {
          "output_type": "execute_result",
          "data": {
            "text/plain": [
              "[4, 5]"
            ]
          },
          "metadata": {},
          "execution_count": 139
        }
      ]
    },
    {
      "cell_type": "markdown",
      "source": [
        "_____________________OOPS______________________\n"
      ],
      "metadata": {
        "id": "Hku3Wtj9F6JV"
      }
    },
    {
      "cell_type": "code",
      "source": [
        "class car:\n",
        "  def __init__(self,make,model,year,ctype):\n",
        "    self.__make=make\n",
        "    self.__model=model\n",
        "    self.__year=year\n",
        "    self.__ctype=ctype\n",
        "  def get_display(self):\n",
        "    print(\"---- car details----\")\n",
        "    print(self.__make)\n",
        "    print(self.__model)\n",
        "    print(self.__year)\n",
        "  def set_make(self,val):\n",
        "    self.__make=val\n",
        "  def set_model(self,val):\n",
        "    self.__model=val\n",
        "  def set_year(self,val):\n",
        "    self.__year=val\n",
        "\n",
        "  def cartype(self):\n",
        "    return self.__ctype\n",
        "\n",
        "obj=car('Ford','F-150',2019,'petrol')\n",
        "obj.get_display()\n",
        "obj.set_make('Nissan')\n",
        "print()\n",
        "obj.get_display()\n",
        "print(obj.cartype())\n",
        "\n",
        "class Electriccar(car):\n",
        "  def __init__(self,make,model,year,ctype,battery_capacity):\n",
        "    super().__init__(make,model,year,ctype)\n",
        "    self.__battery_capacity=battery_capacity\n",
        "  def get_display(self):\n",
        "    print(\"----Electric car details----\")\n",
        "    super().get_display()\n",
        "    return self.__battery_capacity\n",
        "\n",
        "\n",
        "eobj=Electriccar('Tesla','model-y','2024','Electric Car',12000)\n",
        "eobj.get_display()\n",
        "print(eobj.cartype())"
      ],
      "metadata": {
        "colab": {
          "base_uri": "https://localhost:8080/"
        },
        "id": "0XMOmFsvGF6r",
        "outputId": "21d2f090-d99b-4d81-df6b-3e35eabfd8a7"
      },
      "execution_count": null,
      "outputs": [
        {
          "output_type": "stream",
          "name": "stdout",
          "text": [
            "---- car details----\n",
            "Ford\n",
            "F-150\n",
            "2019\n",
            "\n",
            "---- car details----\n",
            "Nissan\n",
            "F-150\n",
            "2019\n",
            "petrol\n",
            "----Electric car details----\n",
            "---- car details----\n",
            "Tesla\n",
            "model-y\n",
            "2024\n",
            "Electric Car\n"
          ]
        }
      ]
    },
    {
      "cell_type": "code",
      "source": [],
      "metadata": {
        "id": "RdriD1d63D2R"
      },
      "execution_count": null,
      "outputs": []
    },
    {
      "cell_type": "markdown",
      "source": [
        "oops(3-10-2024)\n"
      ],
      "metadata": {
        "id": "qcxcfgI639BR"
      }
    },
    {
      "cell_type": "code",
      "source": [
        "class BankAccount:\n",
        "  def __init__(self,account_holder,balance=0):\n",
        "    self.account_holder=account_holder\n",
        "    self.balance=balance\n",
        "  def deposit(self,amount):\n",
        "    self.balance+=amount\n",
        "    print(f\"Money Credited:{amount}\")\n",
        "  def withdraw(self,amount):\n",
        "    if amount>self.balance:\n",
        "      print(\"Insufficient Balance\")\n",
        "    else:\n",
        "      self.balance-=amount\n",
        "      print(f\"Money Debited:{amount}\")\n",
        "  def display_balance(self):\n",
        "    print(f\"Account Balance: {self.balance}\")\n"
      ],
      "metadata": {
        "id": "alQunEee4Bkv"
      },
      "execution_count": null,
      "outputs": []
    },
    {
      "cell_type": "code",
      "source": [
        "h=BankAccount('Hari',25000)\n",
        "h.display_balance()"
      ],
      "metadata": {
        "colab": {
          "base_uri": "https://localhost:8080/"
        },
        "id": "iZRLFg9r5PQe",
        "outputId": "83b7315f-7d6f-4507-d050-8926d79467ab"
      },
      "execution_count": null,
      "outputs": [
        {
          "output_type": "stream",
          "name": "stdout",
          "text": [
            "Account Balance: 25000\n"
          ]
        }
      ]
    },
    {
      "cell_type": "code",
      "source": [
        "h.deposit(2000)\n",
        "h.display_balance()"
      ],
      "metadata": {
        "colab": {
          "base_uri": "https://localhost:8080/"
        },
        "id": "BjynM3sQ5ryb",
        "outputId": "47d551ac-995f-435b-f820-0ccf57eb950f"
      },
      "execution_count": null,
      "outputs": [
        {
          "output_type": "stream",
          "name": "stdout",
          "text": [
            "Money Credited:2000\n",
            "Account Balance: 22450\n"
          ]
        }
      ]
    },
    {
      "cell_type": "code",
      "source": [
        "h.withdraw(2850)\n",
        "h.display_balance()"
      ],
      "metadata": {
        "colab": {
          "base_uri": "https://localhost:8080/"
        },
        "id": "qBtB9gxd51G5",
        "outputId": "9d58a4d1-58c3-40e3-9772-05db95c19978"
      },
      "execution_count": null,
      "outputs": [
        {
          "output_type": "stream",
          "name": "stdout",
          "text": [
            "Money Debited:2850\n",
            "Account Balance: 19600\n"
          ]
        }
      ]
    },
    {
      "cell_type": "code",
      "source": [
        "class Employee:\n",
        "  def __init__(self,name,position,salary):\n",
        "    self.name=name\n",
        "    self.position=position\n",
        "    self.salary=salary\n",
        "  def give_raise(self,amount):\n",
        "    self.salary+=amount\n",
        "  def display_info(self):\n",
        "    print(\"Name:\",self.name)\n",
        "    print(\"Position:\",self.position)\n",
        "    print(\"Salary:\",self.salary)\n",
        "\n",
        "emp1=Employee(\"Hari\",\"Accountant\",25000)\n",
        "emp1.give_raise(5000)\n",
        "emp1.display_info()\n"
      ],
      "metadata": {
        "colab": {
          "base_uri": "https://localhost:8080/"
        },
        "id": "2GnOGQGR7LXj",
        "outputId": "f19ca4ce-ca8d-48b1-93ef-5ff5d2c5bda2"
      },
      "execution_count": null,
      "outputs": [
        {
          "output_type": "stream",
          "name": "stdout",
          "text": [
            "Name: Hari\n",
            "Position: Accountant\n",
            "Salary: 30000\n"
          ]
        }
      ]
    },
    {
      "cell_type": "code",
      "source": [
        "class Manager(Employee):\n",
        "  def __init__(self,name,position,salary,department):\n",
        "    super().__init__(name,position,salary)\n",
        "    self.department=department\n",
        "  def display_info(self):\n",
        "    super().display_info()\n",
        "    print(\"Department:\",self.department)\n",
        "\n",
        "emp2=Manager(\"giri\",\"Accounts Manager\",50000,\"Accounts\")\n",
        "emp2.give_raise(5000)\n",
        "emp2.display_info()\n",
        "print()\n",
        "emp1.display_info()"
      ],
      "metadata": {
        "colab": {
          "base_uri": "https://localhost:8080/"
        },
        "id": "fjHIGx2r8b3X",
        "outputId": "fca80f15-cc22-4412-95d5-26865cc3c9d0"
      },
      "execution_count": null,
      "outputs": [
        {
          "output_type": "stream",
          "name": "stdout",
          "text": [
            "Name: giri\n",
            "Position: Accounts Manager\n",
            "Salary: 55000\n",
            "Department: Accounts\n",
            "\n",
            "Name: Hari\n",
            "Position: Accountant\n",
            "Salary: 30000\n"
          ]
        }
      ]
    },
    {
      "cell_type": "code",
      "source": [
        "class Rectangle:\n",
        "  def __init__(self,length,width) -> None:\n",
        "    self.length=length\n",
        "    self.width=width\n",
        "  def area(self):\n",
        "    area=self.length*self.width\n",
        "    print(f\"Area is: {area}\")\n",
        "  def perimeter(self):\n",
        "    perimeter=2*(self.length+self.width)\n",
        "    print(f\"Perimeter is {perimeter}\")\n",
        "\n",
        "class Square(Rectangle):\n",
        "  def __init__(self,side):\n",
        "    super().__init__(side,side)\n",
        "\n",
        "r=Rectangle(4,2)\n",
        "r.area()\n",
        "r.perimeter()\n",
        "s=Square(4)\n",
        "s.area()\n",
        "s.perimeter()"
      ],
      "metadata": {
        "colab": {
          "base_uri": "https://localhost:8080/"
        },
        "id": "8LRwg5VI-frf",
        "outputId": "112271cf-a882-4723-bae2-fa585bfd4c78"
      },
      "execution_count": null,
      "outputs": [
        {
          "output_type": "stream",
          "name": "stdout",
          "text": [
            "Area is: 8\n",
            "Perimeter is 12\n",
            "Area is: 16\n",
            "Perimeter is 16\n"
          ]
        }
      ]
    },
    {
      "cell_type": "code",
      "source": [
        "class shape:\n",
        "  def __init__(self,l=0,w=0,h=0,name='Rectangle') -> None:\n",
        "    self.l=l\n",
        "    self.w=w\n",
        "    self.h=h\n",
        "    self.name=name\n",
        "  def area(self):\n",
        "    pass\n",
        "\n",
        "class Rectangle(shape):\n",
        "  def __init__(self,l,w=None) -> None:\n",
        "    if w is None:\n",
        "      name='Square'\n",
        "      super().__init__(l,l,name=name)\n",
        "    else:\n",
        "      name='Rectangle'\n",
        "      super().__init__(l,w,name=name)\n",
        "  def area(self):\n",
        "    res=self.l*self.w\n",
        "    print(f\"Area of {self.name}: {res} M^2\")\n",
        "\n",
        "class Circle(shape):\n",
        "  def __init__(self,r) -> None:\n",
        "    self.r=r\n",
        "  def area(self):\n",
        "    res=3.14*(self.r**2)\n",
        "    print(f\"Area of Circle: {res} M^2\")\n",
        "\n",
        "c=Circle(5)\n",
        "c.area()\n",
        "r=Rectangle(4)\n",
        "r.area()\n",
        "r1=Rectangle(4,5)\n",
        "r1.area()"
      ],
      "metadata": {
        "colab": {
          "base_uri": "https://localhost:8080/"
        },
        "id": "zq8iAkT-SQnb",
        "outputId": "d8bba609-d6f9-4a77-cb17-51607ec75ec8"
      },
      "execution_count": null,
      "outputs": [
        {
          "output_type": "stream",
          "name": "stdout",
          "text": [
            "Area of Circle: 78.5 M^2\n",
            "Area of Square: 16 M^2\n",
            "Area of Rectangle: 20 M^2\n"
          ]
        }
      ]
    },
    {
      "cell_type": "code",
      "source": [
        "class stringadd:\n",
        "  def __init__(self,a):\n",
        "    self.a=a\n",
        "\n",
        "  def __add__(self,other):\n",
        "    return int(self.a)+int(other.a)\n",
        "\n",
        "\n",
        "a=stringadd(1)\n",
        "b=stringadd('3')\n",
        "res=a+b\n",
        "print(res)\n",
        "\n"
      ],
      "metadata": {
        "colab": {
          "base_uri": "https://localhost:8080/"
        },
        "id": "2-m4eHfnZuK4",
        "outputId": "988ebe58-b0af-40bd-c27f-5d05eeac40d0"
      },
      "execution_count": null,
      "outputs": [
        {
          "output_type": "stream",
          "name": "stdout",
          "text": [
            "4\n"
          ]
        }
      ]
    },
    {
      "cell_type": "markdown",
      "source": [
        "ABSTARCTION"
      ],
      "metadata": {
        "id": "OaIeumuDSdeN"
      }
    },
    {
      "cell_type": "code",
      "source": [
        "from abc import ABC,abstractmethod\n",
        "class Account(ABC):\n",
        "  def __init__(self,balance=1000):\n",
        "    self.balance=balance\n",
        "  @abstractmethod\n",
        "  def calcint(self):\n",
        "    pass\n",
        "  def get_balance(self):\n",
        "    return self.balance\n",
        "\n",
        "class SavingsAcc(Account):\n",
        "  def __init__(self,bal):\n",
        "    super().__init__(balance=bal)\n",
        "\n",
        "\n",
        "  def calcint(self):\n",
        "    interest=self.balance*0.04\n",
        "    self.balance+=interest\n",
        "    return interest\n",
        "\n",
        "class CurrentsAcc(Account):\n",
        "  def __init__(self,bal):\n",
        "    super().__init__(balance=bal)\n",
        "  def calcint(self):\n",
        "    interest=self.balance*0.02\n",
        "    self.balance+=interest\n",
        "    return interest\n",
        "\n",
        "s1=CurrentsAcc(2000)\n",
        "print(s1.get_balance())\n",
        "print(s1.calcint())\n",
        "print(s1.get_balance())\n",
        "\n",
        "\n",
        "\n"
      ],
      "metadata": {
        "colab": {
          "base_uri": "https://localhost:8080/"
        },
        "id": "2cs5pI8RSc0d",
        "outputId": "91fe4830-b5f9-42d2-ae06-c4df4ae98068"
      },
      "execution_count": null,
      "outputs": [
        {
          "output_type": "stream",
          "name": "stdout",
          "text": [
            "2000\n",
            "40.0\n",
            "2040.0\n"
          ]
        }
      ]
    },
    {
      "cell_type": "markdown",
      "source": [
        "ENcapsulation"
      ],
      "metadata": {
        "id": "D696DF5JZ7wO"
      }
    },
    {
      "cell_type": "code",
      "source": [
        "class BankAccount:\n",
        "  def __init__(self,accno,name,balance):\n",
        "    self.__accno=accno\n",
        "    self.__name=name\n",
        "    self.__balance=balance\n",
        "\n",
        "  def get_balance(self,password):\n",
        "    if self.__authorise(password):\n",
        "      return (f\"Account Balance: {self.__balance}\")\n",
        "    else:\n",
        "      print(\"Incorreect password\")\n",
        "\n",
        "  def set_balance(self,amount,password):\n",
        "    if self.__authorise(password):\n",
        "      self.__balance+=amount\n",
        "      print(f\"{amount} Deposited in {self.__accno}\")\n",
        "    else:\n",
        "      print(\"Incorreect password\")\n",
        "  def get_money(self,amount,password):\n",
        "    if self.__authorise(password):\n",
        "      if amount>self.__balance:\n",
        "        print(\"Not Enough Balance\")\n",
        "      else:\n",
        "        self.__balance-=amount\n",
        "        print(f\"{amount} Deducted from {self.__accno}\")\n",
        "        print(self.get_balance())\n",
        "    else:\n",
        "      print(\"Incorreect password\")\n",
        "\n",
        "  def __authorise(self,password):\n",
        "    O_password='asdf123'\n",
        "    return O_password==password\n",
        "\n",
        "user=BankAccount('256Hari','Harikrishnan',25000)\n",
        "print(user.get_balance('asdf123'))\n",
        "user.set_balance(5000,'asdf123')\n",
        "print(user.get_balance('asdf123'))\n",
        "\n",
        "\n"
      ],
      "metadata": {
        "colab": {
          "base_uri": "https://localhost:8080/"
        },
        "id": "C0COA8bcZ7Y4",
        "outputId": "9489e4f4-a995-479c-a7b2-81c8c2a3dcb8"
      },
      "execution_count": null,
      "outputs": [
        {
          "output_type": "stream",
          "name": "stdout",
          "text": [
            "Account Balance: 25000\n",
            "5000 Deposited in 256Hari\n",
            "Account Balance: 30000\n"
          ]
        }
      ]
    },
    {
      "cell_type": "markdown",
      "source": [
        "Challenges\n"
      ],
      "metadata": {
        "id": "1BDeEGSopVHd"
      }
    },
    {
      "cell_type": "code",
      "source": [
        "my_list = [2, 4, [6, 8], 10, [12, [14, 16]], 18]\n",
        "my_list[4][1][1]"
      ],
      "metadata": {
        "colab": {
          "base_uri": "https://localhost:8080/"
        },
        "id": "e43tuNgGpUnm",
        "outputId": "22925896-1009-42dc-9fab-e46f104703ea"
      },
      "execution_count": null,
      "outputs": [
        {
          "output_type": "execute_result",
          "data": {
            "text/plain": [
              "16"
            ]
          },
          "metadata": {},
          "execution_count": 4
        }
      ]
    },
    {
      "cell_type": "code",
      "source": [
        "my_string = \"Python is fun!\"\n",
        "l=''\n",
        "r=len(my_string)-1\n",
        "while r>=0:\n",
        "  l=l+my_string[r]\n",
        "  r-=1\n",
        "l"
      ],
      "metadata": {
        "colab": {
          "base_uri": "https://localhost:8080/",
          "height": 35
        },
        "id": "irPOSJ-sqkro",
        "outputId": "59f16108-076b-490c-b88e-f3fb3d29ddad"
      },
      "execution_count": null,
      "outputs": [
        {
          "output_type": "execute_result",
          "data": {
            "text/plain": [
              "'!nuf si nohtyP'"
            ],
            "application/vnd.google.colaboratory.intrinsic+json": {
              "type": "string"
            }
          },
          "metadata": {},
          "execution_count": 6
        }
      ]
    },
    {
      "cell_type": "code",
      "source": [
        "my_tuple = (1, 2, (3, 4), (5, (6, 7), 8), 9)\n",
        "my_tuple[3][1][1]"
      ],
      "metadata": {
        "colab": {
          "base_uri": "https://localhost:8080/"
        },
        "id": "tSIybWzurs4W",
        "outputId": "e0331656-e83d-4d7e-f6dc-8a421c816c2a"
      },
      "execution_count": null,
      "outputs": [
        {
          "output_type": "execute_result",
          "data": {
            "text/plain": [
              "7"
            ]
          },
          "metadata": {},
          "execution_count": 7
        }
      ]
    },
    {
      "cell_type": "code",
      "source": [
        "my_dict = {\n",
        "    \"name\": \"Alice\",\n",
        "    \"age\": 30,\n",
        "    \"address\": {\n",
        "        \"city\": \"Wonderland\",\n",
        "        \"zipcode\": 12345,\n",
        "        \"coordinates\": {\n",
        "            \"lat\": 52.52,\n",
        "            \"long\": 13.405\n",
        "        }\n",
        "    },\n",
        "    \"skills\": [\"Python\", \"Django\", \"Data Science\"]\n",
        "}\n",
        "\n",
        "my_dict[\"address\"]['coordinates']['long']"
      ],
      "metadata": {
        "colab": {
          "base_uri": "https://localhost:8080/"
        },
        "id": "sgsMwIs0tcJd",
        "outputId": "e354b627-2533-4847-abb6-86992dd59c92"
      },
      "execution_count": null,
      "outputs": [
        {
          "output_type": "execute_result",
          "data": {
            "text/plain": [
              "13.405"
            ]
          },
          "metadata": {},
          "execution_count": 10
        }
      ]
    },
    {
      "cell_type": "code",
      "source": [
        "my_dict.keys()"
      ],
      "metadata": {
        "colab": {
          "base_uri": "https://localhost:8080/"
        },
        "id": "l_dbb1K4t9Kd",
        "outputId": "bc9df7ce-a660-43c1-80c6-09193814430b"
      },
      "execution_count": null,
      "outputs": [
        {
          "output_type": "execute_result",
          "data": {
            "text/plain": [
              "dict_keys(['name', 'age', 'address', 'skills'])"
            ]
          },
          "metadata": {},
          "execution_count": 11
        }
      ]
    },
    {
      "cell_type": "code",
      "source": [
        "def print_dict(d, indent=0):\n",
        "    for key, value in d.items():\n",
        "        print('  ' * indent + str(key) + \": \", end=\"\")\n",
        "        if isinstance(value, dict):\n",
        "            print()  # Print a new line for nested dictionary\n",
        "            print_dict(value, indent + 1)  # Recur for nested dictionaries\n",
        "        else:\n",
        "            print(value)  # Print the value\n",
        "print_dict(my_dict)"
      ],
      "metadata": {
        "colab": {
          "base_uri": "https://localhost:8080/"
        },
        "id": "Wyl0iLe6ugLf",
        "outputId": "eb85a8bf-59e7-4da8-a774-9d29c98703d9"
      },
      "execution_count": null,
      "outputs": [
        {
          "output_type": "stream",
          "name": "stdout",
          "text": [
            "name: Alice\n",
            "age: 30\n",
            "address: \n",
            "  city: Wonderland\n",
            "  zipcode: 12345\n",
            "  coordinates: \n",
            "    lat: 52.52\n",
            "    long: 13.405\n",
            "skills: ['Python', 'Django', 'Data Science']\n"
          ]
        }
      ]
    },
    {
      "cell_type": "code",
      "source": [
        "my_dict['address']['city']"
      ],
      "metadata": {
        "colab": {
          "base_uri": "https://localhost:8080/",
          "height": 35
        },
        "id": "n6bTvV9zvY3a",
        "outputId": "401d6569-50ec-4ba1-93cf-aecf145849c3"
      },
      "execution_count": null,
      "outputs": [
        {
          "output_type": "execute_result",
          "data": {
            "text/plain": [
              "'Wonderland'"
            ],
            "application/vnd.google.colaboratory.intrinsic+json": {
              "type": "string"
            }
          },
          "metadata": {},
          "execution_count": 13
        }
      ]
    },
    {
      "cell_type": "code",
      "source": [
        "numbers = [1, 2, 3, 4, 5]\n",
        "sqr=[i**2 for i in numbers]\n",
        "sqr"
      ],
      "metadata": {
        "colab": {
          "base_uri": "https://localhost:8080/"
        },
        "id": "MH65WVwOvlNc",
        "outputId": "81b641ea-82db-456e-8e7d-56d0a851e844"
      },
      "execution_count": null,
      "outputs": [
        {
          "output_type": "execute_result",
          "data": {
            "text/plain": [
              "[1, 4, 9, 16, 25]"
            ]
          },
          "metadata": {},
          "execution_count": 15
        }
      ]
    },
    {
      "cell_type": "code",
      "source": [
        "my_string = \"hello world\"\n",
        "print(my_string.upper())"
      ],
      "metadata": {
        "colab": {
          "base_uri": "https://localhost:8080/"
        },
        "id": "MDMTy5skvx66",
        "outputId": "db5e9eaa-ca3f-49e0-87de-faaf1dcf6d9c"
      },
      "execution_count": null,
      "outputs": [
        {
          "output_type": "stream",
          "name": "stdout",
          "text": [
            "HELLO WORLD\n"
          ]
        }
      ]
    },
    {
      "cell_type": "code",
      "source": [
        "my_tuple = (10, 20, 30, 40, 50)\n",
        "my_tuple[2]"
      ],
      "metadata": {
        "colab": {
          "base_uri": "https://localhost:8080/"
        },
        "id": "oLdNfBEbv7tB",
        "outputId": "cee36e4d-7259-4d34-c65d-92d9eec5c4b1"
      },
      "execution_count": null,
      "outputs": [
        {
          "output_type": "execute_result",
          "data": {
            "text/plain": [
              "30"
            ]
          },
          "metadata": {},
          "execution_count": 17
        }
      ]
    },
    {
      "cell_type": "code",
      "source": [
        "nested_list = [[1, 2, 3], [4, 5, [6, 7]], [8, 9]]\n",
        "nested_list[1][2][0]"
      ],
      "metadata": {
        "colab": {
          "base_uri": "https://localhost:8080/"
        },
        "id": "p0x0ihElwFVg",
        "outputId": "3e3ab84b-93dd-441b-9af5-65c08198b138"
      },
      "execution_count": null,
      "outputs": [
        {
          "output_type": "execute_result",
          "data": {
            "text/plain": [
              "6"
            ]
          },
          "metadata": {},
          "execution_count": 19
        }
      ]
    },
    {
      "cell_type": "code",
      "source": [
        "my_list = [1, 2, 3, 4, 5]\n",
        "my_list.append(6)\n",
        "print(my_list)\n",
        "print(my_list[1])\n",
        "my_list[3]=40\n",
        "print(my_list)\n",
        "my_list.remove(2)\n",
        "my_list"
      ],
      "metadata": {
        "colab": {
          "base_uri": "https://localhost:8080/"
        },
        "id": "AzmynfBjxCei",
        "outputId": "15151d15-9cff-4bb6-ef99-a112a4419aa5"
      },
      "execution_count": null,
      "outputs": [
        {
          "output_type": "stream",
          "name": "stdout",
          "text": [
            "[1, 2, 3, 4, 5, 6]\n",
            "2\n",
            "[1, 2, 3, 40, 5, 6]\n"
          ]
        },
        {
          "output_type": "execute_result",
          "data": {
            "text/plain": [
              "[1, 3, 40, 5, 6]"
            ]
          },
          "metadata": {},
          "execution_count": 22
        }
      ]
    },
    {
      "cell_type": "code",
      "source": [
        "my_dict = {\n",
        "    \"name\": \"Bob\",\n",
        "    \"age\": 25,\n",
        "}\n",
        "my_dict['city']='New York'\n",
        "print(my_dict['name'])\n",
        "my_dict['age']=26\n",
        "print(my_dict)\n",
        "del my_dict['name']\n",
        "print(my_dict)"
      ],
      "metadata": {
        "colab": {
          "base_uri": "https://localhost:8080/"
        },
        "id": "vKU-hNk97xNv",
        "outputId": "6ce47b73-35a3-4809-bc41-804f164dd53a"
      },
      "execution_count": null,
      "outputs": [
        {
          "output_type": "stream",
          "name": "stdout",
          "text": [
            "Bob\n",
            "{'name': 'Bob', 'age': 26, 'city': 'New York'}\n",
            "{'age': 26, 'city': 'New York'}\n"
          ]
        }
      ]
    },
    {
      "cell_type": "code",
      "source": [
        "my_set = {1, 2, 3}\n",
        "my_set.add(4)\n",
        "print(my_set)\n",
        "if 3 in my_set:\n",
        "  print('Yes')\n",
        "my_set.remove(1)\n",
        "my_set"
      ],
      "metadata": {
        "colab": {
          "base_uri": "https://localhost:8080/"
        },
        "id": "6nlpT2ms8kQ9",
        "outputId": "c8b77cc3-5e1f-4ec9-bb5a-ffdbb8747033"
      },
      "execution_count": null,
      "outputs": [
        {
          "output_type": "stream",
          "name": "stdout",
          "text": [
            "{1, 2, 3, 4}\n",
            "Yes\n"
          ]
        },
        {
          "output_type": "execute_result",
          "data": {
            "text/plain": [
              "{2, 3, 4}"
            ]
          },
          "metadata": {},
          "execution_count": 26
        }
      ]
    },
    {
      "cell_type": "code",
      "source": [
        "my_tuple = (10, 20, 30)\n",
        "my_tuple=list(my_tuple)\n",
        "my_tuple.append(40)\n",
        "my_tuple=tuple(my_tuple)\n",
        "print(my_tuple)\n",
        "print(my_tuple[1])\n",
        "new=list(my_tuple)\n",
        "new[1]=25\n",
        "new=tuple(new)\n",
        "print(new)\n"
      ],
      "metadata": {
        "colab": {
          "base_uri": "https://localhost:8080/"
        },
        "id": "cN9HHJYPVdvP",
        "outputId": "846a3772-1c26-4ae4-eef2-659bc0aae07f"
      },
      "execution_count": null,
      "outputs": [
        {
          "output_type": "stream",
          "name": "stdout",
          "text": [
            "(10, 20, 30, 40)\n",
            "20\n",
            "(10, 25, 30, 40)\n"
          ]
        }
      ]
    },
    {
      "cell_type": "code",
      "source": [
        "my_string = \"Hello, World!\"\n",
        "new=\"\"+my_string+' How are you?'\n",
        "newl=new.split(' ')\n",
        "newl[1]='there!'\n",
        "new2=' '.join(newl)\n",
        "print(new2)\n",
        "new3=new2.replace('there','Hari')\n",
        "print(new3)"
      ],
      "metadata": {
        "colab": {
          "base_uri": "https://localhost:8080/"
        },
        "id": "qfbzGlxOalse",
        "outputId": "22b8c499-e70c-4785-ec52-b8c63027f6bf"
      },
      "execution_count": null,
      "outputs": [
        {
          "output_type": "stream",
          "name": "stdout",
          "text": [
            "Hello, there! How are you?\n",
            "Hello, Hari! How are you?\n"
          ]
        }
      ]
    },
    {
      "cell_type": "code",
      "source": [
        "num = [1, 2, 3, 4, 5, 6, 7, 8, 9, 10]\n",
        "nums=[i**2 for i in num if i%2==0]\n",
        "nums"
      ],
      "metadata": {
        "colab": {
          "base_uri": "https://localhost:8080/"
        },
        "id": "1Wers2QFecv3",
        "outputId": "342d7b68-a70a-4ff6-e478-8749a548555d"
      },
      "execution_count": null,
      "outputs": [
        {
          "output_type": "execute_result",
          "data": {
            "text/plain": [
              "[4, 16, 36, 64, 100]"
            ]
          },
          "metadata": {},
          "execution_count": 47
        }
      ]
    },
    {
      "cell_type": "code",
      "source": [
        "nums=[i**2 if i%2==0 else i**3 for i in num]\n",
        "nums"
      ],
      "metadata": {
        "colab": {
          "base_uri": "https://localhost:8080/"
        },
        "id": "Uxmo6uwper4E",
        "outputId": "62f7fede-47c2-4f20-aaae-7673a62986ad"
      },
      "execution_count": null,
      "outputs": [
        {
          "output_type": "execute_result",
          "data": {
            "text/plain": [
              "[1, 4, 27, 16, 125, 36, 343, 64, 729, 100]"
            ]
          },
          "metadata": {},
          "execution_count": 48
        }
      ]
    },
    {
      "cell_type": "code",
      "source": [
        "people = [(\"Alice\", 30), (\"Bob\", 25), (\"Charlie\", 35)]\n",
        "name={i[0]:i[1] for i in people}\n",
        "name"
      ],
      "metadata": {
        "colab": {
          "base_uri": "https://localhost:8080/"
        },
        "id": "pWXC4AZIfBaB",
        "outputId": "a40f7ccc-d177-47b5-f404-6a4b83ed40b6"
      },
      "execution_count": null,
      "outputs": [
        {
          "output_type": "execute_result",
          "data": {
            "text/plain": [
              "{'Alice': 30, 'Bob': 25, 'Charlie': 35}"
            ]
          },
          "metadata": {},
          "execution_count": 49
        }
      ]
    },
    {
      "cell_type": "code",
      "source": [
        "numbers = [1, 2, 3, 2, 4, 5, 3, 4, 5]\n",
        "num={i for i in numbers if i%2==0}\n",
        "num"
      ],
      "metadata": {
        "colab": {
          "base_uri": "https://localhost:8080/"
        },
        "id": "sHJ7ocrAfcXg",
        "outputId": "d0b98003-868e-492d-c9a0-8b235d409977"
      },
      "execution_count": null,
      "outputs": [
        {
          "output_type": "execute_result",
          "data": {
            "text/plain": [
              "{2, 4}"
            ]
          },
          "metadata": {},
          "execution_count": 50
        }
      ]
    },
    {
      "cell_type": "code",
      "source": [
        "matrix = [[1, 2, 3], [4, 5, 6], [7, 8, 9]]\n",
        "nums=[i for li in matrix for i in li]\n",
        "nums"
      ],
      "metadata": {
        "colab": {
          "base_uri": "https://localhost:8080/"
        },
        "id": "rugkpUsbfomi",
        "outputId": "d8806353-1166-4829-dca9-44e47f05e524"
      },
      "execution_count": null,
      "outputs": [
        {
          "output_type": "execute_result",
          "data": {
            "text/plain": [
              "[1, 2, 3, 4, 5, 6, 7, 8, 9]"
            ]
          },
          "metadata": {},
          "execution_count": 52
        }
      ]
    },
    {
      "cell_type": "code",
      "source": [
        "numbers = [1, 2, 3, 4, 5]\n",
        "nums=list(map(lambda x:x**3,numbers))\n",
        "nums"
      ],
      "metadata": {
        "colab": {
          "base_uri": "https://localhost:8080/"
        },
        "id": "4rJ01euygRhP",
        "outputId": "1465707e-f752-4506-bdea-979730490f2e"
      },
      "execution_count": null,
      "outputs": [
        {
          "output_type": "execute_result",
          "data": {
            "text/plain": [
              "[1, 8, 27, 64, 125]"
            ]
          },
          "metadata": {},
          "execution_count": 54
        }
      ]
    },
    {
      "cell_type": "code",
      "source": [
        "numbers = [1, 2, 3, 4, 5, 6, 7, 8, 9, 10]\n",
        "even=list(filter(lambda x:x%2==0,numbers))\n",
        "even"
      ],
      "metadata": {
        "colab": {
          "base_uri": "https://localhost:8080/"
        },
        "id": "mO4rnKkPgw90",
        "outputId": "f48739a3-1f0d-4fcf-905d-9c1f7892199c"
      },
      "execution_count": null,
      "outputs": [
        {
          "output_type": "execute_result",
          "data": {
            "text/plain": [
              "[2, 4, 6, 8, 10]"
            ]
          },
          "metadata": {},
          "execution_count": 56
        }
      ]
    },
    {
      "cell_type": "code",
      "source": [
        "from functools import reduce\n",
        "numbers = [1, 2, 3, 4, 5]\n",
        "product=reduce(lambda x,y:x*y,numbers)\n",
        "product"
      ],
      "metadata": {
        "colab": {
          "base_uri": "https://localhost:8080/"
        },
        "id": "7XFAPmgKhO8E",
        "outputId": "ac53c189-5343-482f-fb92-8ee8fc2689a1"
      },
      "execution_count": null,
      "outputs": [
        {
          "output_type": "execute_result",
          "data": {
            "text/plain": [
              "120"
            ]
          },
          "metadata": {},
          "execution_count": 59
        }
      ]
    },
    {
      "cell_type": "code",
      "source": [
        "def log_decorator(fun):\n",
        "  def wrapper(*args):\n",
        "    print(f\"First arg:{args[0]}\")\n",
        "    print(f\"Second arg:{args[1]}\")\n",
        "    res=fun(*args)\n",
        "    return res\n",
        "  return wrapper\n",
        "\n",
        "@log_decorator\n",
        "def add(a,b):\n",
        "  return a+b\n",
        "\n",
        "print(add(2,8))"
      ],
      "metadata": {
        "colab": {
          "base_uri": "https://localhost:8080/"
        },
        "id": "_ki9R78vsK6z",
        "outputId": "84dbe660-03c6-4543-9e81-0807478d1efc"
      },
      "execution_count": null,
      "outputs": [
        {
          "output_type": "stream",
          "name": "stdout",
          "text": [
            "First arg:2\n",
            "Second arg:8\n",
            "10\n"
          ]
        }
      ]
    },
    {
      "cell_type": "code",
      "source": [
        "students = {\n",
        "    'Alice': 88,\n",
        "    'Bob': 95,\n",
        "    'Charlie': 87,\n",
        "    'David': 92\n",
        "}\n",
        "h=max(students.values())\n",
        "for i,j in students.items():\n",
        "  if j==h:\n",
        "    print(i,':',j)"
      ],
      "metadata": {
        "id": "q_tgMbPfth-d",
        "colab": {
          "base_uri": "https://localhost:8080/",
          "height": 0
        },
        "outputId": "391756a8-9fef-4a5e-d9f2-487011f5b0d9"
      },
      "execution_count": 2,
      "outputs": [
        {
          "output_type": "stream",
          "name": "stdout",
          "text": [
            "Bob : 95\n"
          ]
        }
      ]
    },
    {
      "cell_type": "code",
      "source": [
        "products = {\n",
        "    'Laptop': 800,\n",
        "    'Phone': 600,\n",
        "    'Tablet': 300\n",
        "}\n",
        "for i,j in products.items():\n",
        "  j=j*1.10\n",
        "  products[i]=round(j,2)\n",
        "\n",
        "products"
      ],
      "metadata": {
        "colab": {
          "base_uri": "https://localhost:8080/",
          "height": 0
        },
        "id": "u5q8ZXCIGAS_",
        "outputId": "e6909448-d883-43df-d000-7974391a9061"
      },
      "execution_count": 5,
      "outputs": [
        {
          "output_type": "execute_result",
          "data": {
            "text/plain": [
              "{'Laptop': 880.0, 'Phone': 660.0, 'Tablet': 330.0}"
            ]
          },
          "metadata": {},
          "execution_count": 5
        }
      ]
    },
    {
      "cell_type": "code",
      "source": [
        "employees = {\n",
        "    'Alice': ['task1', 'task2', 'task3'],\n",
        "    'Bob': ['task1', 'task2'],\n",
        "    'Charlie': ['task1', 'task2', 'task3', 'task4'],\n",
        "    'David': ['task1']\n",
        "}\n",
        "emp={i:len(j) for i,j in employees.items()}\n",
        "h=max(emp.values())\n",
        "for i,j in emp.items():\n",
        "  if j==h:\n",
        "    print(i)"
      ],
      "metadata": {
        "colab": {
          "base_uri": "https://localhost:8080/",
          "height": 0
        },
        "id": "SkYlagzlHCWd",
        "outputId": "278bf336-817e-49c7-fb23-3e4e92da2529"
      },
      "execution_count": 16,
      "outputs": [
        {
          "output_type": "stream",
          "name": "stdout",
          "text": [
            "Charlie\n"
          ]
        }
      ]
    },
    {
      "cell_type": "code",
      "source": [
        "cities = {\n",
        "    'CityA': {'population': 500000, 'area': 400},\n",
        "    'CityB': {'population': 1200000, 'area': 850},\n",
        "    'CityC': {'population': 700000, 'area': 300}\n",
        "}\n",
        "pop={i:j['population']/j['area'] for i,j in cities.items()}\n",
        "print(pop)\n",
        "h=max(pop.values())\n",
        "for i,j in pop.items():\n",
        "  if j==h:\n",
        "    print(i)"
      ],
      "metadata": {
        "colab": {
          "base_uri": "https://localhost:8080/",
          "height": 0
        },
        "id": "j7YwHwCTKnDo",
        "outputId": "d132e27b-4194-44db-bf45-22548545176c"
      },
      "execution_count": 19,
      "outputs": [
        {
          "output_type": "stream",
          "name": "stdout",
          "text": [
            "{'CityA': 1250.0, 'CityB': 1411.764705882353, 'CityC': 2333.3333333333335}\n",
            "CityC\n"
          ]
        }
      ]
    }
  ]
}