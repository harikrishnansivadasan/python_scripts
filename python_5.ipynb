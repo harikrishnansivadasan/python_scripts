{
  "nbformat": 4,
  "nbformat_minor": 0,
  "metadata": {
    "colab": {
      "provenance": [],
      "gpuType": "T4"
    },
    "kernelspec": {
      "name": "python3",
      "display_name": "Python 3"
    },
    "language_info": {
      "name": "python"
    }
  },
  "cells": [
    {
      "cell_type": "code",
      "execution_count": null,
      "metadata": {
        "id": "ZknHtZNUzn1B"
      },
      "outputs": [],
      "source": [
        "my_list=['apple','banana','cherry','mango','orange']\n",
        "my_list.append('coconut')"
      ]
    },
    {
      "cell_type": "code",
      "source": [
        "print(my_list)"
      ],
      "metadata": {
        "colab": {
          "base_uri": "https://localhost:8080/"
        },
        "id": "xYjykcgk0Eju",
        "outputId": "7174fa0f-6e8c-4f06-c335-2c1321dc94e2"
      },
      "execution_count": null,
      "outputs": [
        {
          "output_type": "stream",
          "name": "stdout",
          "text": [
            "['apple', 'banana', 'cherry', 'mango', 'orange', 'coconut']\n"
          ]
        }
      ]
    },
    {
      "cell_type": "code",
      "source": [
        "my_list.insert(2,'lemon')\n",
        "print(my_list)"
      ],
      "metadata": {
        "colab": {
          "base_uri": "https://localhost:8080/"
        },
        "id": "h-hz3P-D0IvM",
        "outputId": "07191785-1b36-45ee-9afa-5575bb620fab"
      },
      "execution_count": null,
      "outputs": [
        {
          "output_type": "stream",
          "name": "stdout",
          "text": [
            "['apple', 'banana', 'lemon', 'cherry', 'mango', 'orange', 'coconut']\n"
          ]
        }
      ]
    },
    {
      "cell_type": "code",
      "source": [
        "last=my_list.pop()\n",
        "print(last)\n"
      ],
      "metadata": {
        "colab": {
          "base_uri": "https://localhost:8080/"
        },
        "id": "7tBMjXvE0cSB",
        "outputId": "fb1f8aba-c356-4903-eac4-b3c2fecdebda"
      },
      "execution_count": null,
      "outputs": [
        {
          "output_type": "stream",
          "name": "stdout",
          "text": [
            "coconut\n"
          ]
        }
      ]
    },
    {
      "cell_type": "code",
      "source": [
        "my_list.remove('apple')\n",
        "print(my_list)"
      ],
      "metadata": {
        "colab": {
          "base_uri": "https://localhost:8080/"
        },
        "id": "V1MrmR0e0hfp",
        "outputId": "f2dd492d-7880-4165-cb8d-0341dad6d866"
      },
      "execution_count": null,
      "outputs": [
        {
          "output_type": "stream",
          "name": "stdout",
          "text": [
            "['banana', 'lemon', 'cherry', 'mango', 'orange']\n"
          ]
        }
      ]
    },
    {
      "cell_type": "code",
      "source": [
        "print(my_list)"
      ],
      "metadata": {
        "colab": {
          "base_uri": "https://localhost:8080/"
        },
        "id": "e1_WjIDs0tTn",
        "outputId": "83f1758c-eadf-4de9-adc5-16343e4e7a76"
      },
      "execution_count": null,
      "outputs": [
        {
          "output_type": "stream",
          "name": "stdout",
          "text": [
            "['banana', 'lemon', 'cherry', 'mango', 'orange']\n"
          ]
        }
      ]
    },
    {
      "cell_type": "code",
      "source": [
        "my_list.reverse()\n",
        "print(my_list)"
      ],
      "metadata": {
        "colab": {
          "base_uri": "https://localhost:8080/"
        },
        "id": "BNsdxuDM1siF",
        "outputId": "9bb132ce-18cb-4a43-bca0-892c4d78fb91"
      },
      "execution_count": null,
      "outputs": [
        {
          "output_type": "stream",
          "name": "stdout",
          "text": [
            "['orange', 'mango', 'cherry', 'lemon', 'banana']\n"
          ]
        }
      ]
    },
    {
      "cell_type": "code",
      "source": [
        "def squared():\n",
        "  m=list(map(int,input('Enter numbers:').split(' ')))\n",
        "  return [i**2 for i in m]\n",
        "\n",
        "print(squared())"
      ],
      "metadata": {
        "colab": {
          "base_uri": "https://localhost:8080/"
        },
        "id": "N3APXguN99kR",
        "outputId": "4128a8b6-ce42-4ab5-fb0d-ccd78f598fb1"
      },
      "execution_count": null,
      "outputs": [
        {
          "output_type": "stream",
          "name": "stdout",
          "text": [
            "Enter numbers:12 2 3\n",
            "[144, 4, 9]\n"
          ]
        }
      ]
    },
    {
      "cell_type": "code",
      "source": [
        "num=[5, 3, 9, 1, 7]\n",
        "nums=[i for i in sorted(set(num))]\n",
        "nums[-2]\n"
      ],
      "metadata": {
        "colab": {
          "base_uri": "https://localhost:8080/"
        },
        "id": "cWn2cLD-_HgR",
        "outputId": "b8577c9a-6ab0-452a-c81b-3eda0a4d3fe6"
      },
      "execution_count": null,
      "outputs": [
        {
          "output_type": "execute_result",
          "data": {
            "text/plain": [
              "7"
            ]
          },
          "metadata": {},
          "execution_count": 46
        }
      ]
    },
    {
      "cell_type": "code",
      "source": [
        "def high(d):\n",
        "  for i,j in d.items():\n",
        "    if j==max(d.values()):\n",
        "      return {i:j}\n",
        "d={'apple': 2, 'banana': 1, 'cherry': 3}\n",
        "print(high(d))"
      ],
      "metadata": {
        "colab": {
          "base_uri": "https://localhost:8080/"
        },
        "id": "fVKOeL8yAMD2",
        "outputId": "36034d85-296a-447e-a236-6118aec5eebf"
      },
      "execution_count": null,
      "outputs": [
        {
          "output_type": "stream",
          "name": "stdout",
          "text": [
            "{'cherry': 3}\n"
          ]
        }
      ]
    },
    {
      "cell_type": "code",
      "source": [
        "dict1 = {'a': 1, 'b': 2}\n",
        "dict2 = {'b': 3, 'c': 4}\n",
        "dict3={i:j for i,j in dict1.items()}\n",
        "for i,j in dict2.items():\n",
        "  if i in dict3.keys():\n",
        "    dict3[i]+=dict2[i]\n",
        "  else:\n",
        "    dict3[i]=j\n",
        "\n",
        "print(dict3)"
      ],
      "metadata": {
        "colab": {
          "base_uri": "https://localhost:8080/"
        },
        "id": "0SyBcXooBNJC",
        "outputId": "31a8226c-1469-4a55-b3a7-4c2c574fd6de"
      },
      "execution_count": null,
      "outputs": [
        {
          "output_type": "stream",
          "name": "stdout",
          "text": [
            "{'a': 1, 'b': 5, 'c': 4}\n"
          ]
        }
      ]
    },
    {
      "cell_type": "code",
      "source": [
        "set1 = {1, 2, 3}\n",
        "set2 = {2, 3, 4}\n",
        "set3={i for i in set1 if i in set2}\n",
        "print(set3)"
      ],
      "metadata": {
        "colab": {
          "base_uri": "https://localhost:8080/"
        },
        "id": "dmm4MFWRH8JM",
        "outputId": "88462ea3-caaf-4a72-ef69-14ad7457f2a5"
      },
      "execution_count": null,
      "outputs": [
        {
          "output_type": "stream",
          "name": "stdout",
          "text": [
            "{2, 3}\n"
          ]
        }
      ]
    },
    {
      "cell_type": "code",
      "source": [
        "data=[('Alice', 85), ('Bob', 90), ('Charlie', 82)]\n",
        "datas=sorted(data, key=lambda x:x[1],reverse=True)\n",
        "print(datas)"
      ],
      "metadata": {
        "colab": {
          "base_uri": "https://localhost:8080/"
        },
        "id": "w8bSEvvjIy7t",
        "outputId": "600e3f86-336b-4d7b-faaf-8b45ac9cca0c"
      },
      "execution_count": null,
      "outputs": [
        {
          "output_type": "stream",
          "name": "stdout",
          "text": [
            "[('Bob', 90), ('Alice', 85), ('Charlie', 82)]\n"
          ]
        }
      ]
    },
    {
      "cell_type": "code",
      "source": [
        "inp= [[1, 2], [3, 4], [5, 6]]\n",
        "tup=tuple((tuple(i) for i in inp))\n",
        "print(tup)"
      ],
      "metadata": {
        "colab": {
          "base_uri": "https://localhost:8080/"
        },
        "id": "uc25x0C3KrND",
        "outputId": "fdc85a6c-b8c0-4369-871b-8c9d9f9a9a39"
      },
      "execution_count": null,
      "outputs": [
        {
          "output_type": "stream",
          "name": "stdout",
          "text": [
            "((1, 2), (3, 4), (5, 6))\n"
          ]
        }
      ]
    },
    {
      "cell_type": "code",
      "source": [
        "num=[1, 2, 3, 4, 5, 6]\n",
        "even=[i for i in num if i%2==0]\n",
        "print(even)"
      ],
      "metadata": {
        "colab": {
          "base_uri": "https://localhost:8080/"
        },
        "id": "YtNNga2SLQ_q",
        "outputId": "a4f6bcde-c2cc-4c92-bad4-03a899580294"
      },
      "execution_count": null,
      "outputs": [
        {
          "output_type": "stream",
          "name": "stdout",
          "text": [
            "[2, 4, 6]\n"
          ]
        }
      ]
    },
    {
      "cell_type": "code",
      "source": [],
      "metadata": {
        "id": "cZQwsjSCLuwL"
      },
      "execution_count": null,
      "outputs": []
    },
    {
      "cell_type": "code",
      "source": [
        "num=[1, 2, 3, 4, 5, 6]\n",
        "even=list(filter(lambda x:x%2==0,num))\n",
        "print(even)"
      ],
      "metadata": {
        "colab": {
          "base_uri": "https://localhost:8080/"
        },
        "outputId": "8079b8e1-be0c-4992-ae88-3c4b2ae1ddb3",
        "id": "mOHXmzWVLwA5"
      },
      "execution_count": null,
      "outputs": [
        {
          "output_type": "stream",
          "name": "stdout",
          "text": [
            "[2, 4, 6]\n"
          ]
        }
      ]
    },
    {
      "cell_type": "code",
      "source": [
        "num=[1, 2, 3, 4]\n",
        "nums=list(map(lambda x:x*3,num))\n",
        "nums"
      ],
      "metadata": {
        "colab": {
          "base_uri": "https://localhost:8080/"
        },
        "id": "4FS7EaGGMNJ6",
        "outputId": "34b7d50b-3a0b-4645-d0d7-7c86d4739de7"
      },
      "execution_count": null,
      "outputs": [
        {
          "output_type": "execute_result",
          "data": {
            "text/plain": [
              "[3, 6, 9, 12]"
            ]
          },
          "metadata": {},
          "execution_count": 74
        }
      ]
    },
    {
      "cell_type": "code",
      "source": [
        "from functools import reduce\n",
        "num=[1, 2, 3, 4]\n",
        "prod=reduce(lambda x,y:x*y, num)\n",
        "prod"
      ],
      "metadata": {
        "colab": {
          "base_uri": "https://localhost:8080/"
        },
        "id": "hHwj5z8ZMeaq",
        "outputId": "e669595a-ed1c-440f-d46a-821197e4b5ab"
      },
      "execution_count": null,
      "outputs": [
        {
          "output_type": "execute_result",
          "data": {
            "text/plain": [
              "24"
            ]
          },
          "metadata": {},
          "execution_count": 75
        }
      ]
    },
    {
      "cell_type": "code",
      "source": [
        "num=[1, 2, 3, 4, 5, 6]\n",
        "sqr=[i**2 for i in num if i%2==0]\n",
        "sqr"
      ],
      "metadata": {
        "colab": {
          "base_uri": "https://localhost:8080/"
        },
        "id": "ntjEyL-wM9c4",
        "outputId": "4996504f-564c-403e-ed69-a2185818b61c"
      },
      "execution_count": null,
      "outputs": [
        {
          "output_type": "execute_result",
          "data": {
            "text/plain": [
              "[4, 16, 36]"
            ]
          },
          "metadata": {},
          "execution_count": 76
        }
      ]
    },
    {
      "cell_type": "code",
      "source": [
        "k=[1, 2, 3, 4]\n",
        "dic={i:i**3 for i in k}\n",
        "dic"
      ],
      "metadata": {
        "colab": {
          "base_uri": "https://localhost:8080/"
        },
        "id": "ChtEP-YCNdGQ",
        "outputId": "08f8c537-e531-415b-fe05-d7d81e4b1316"
      },
      "execution_count": null,
      "outputs": [
        {
          "output_type": "execute_result",
          "data": {
            "text/plain": [
              "{1: 1, 2: 8, 3: 27, 4: 64}"
            ]
          },
          "metadata": {},
          "execution_count": 77
        }
      ]
    },
    {
      "cell_type": "code",
      "source": [
        "word=['apple', 'banana', 'pear', 'kiwi']\n",
        "ln={len(i) for i in word}\n",
        "ln"
      ],
      "metadata": {
        "colab": {
          "base_uri": "https://localhost:8080/"
        },
        "id": "TrVbNqH0N7Bv",
        "outputId": "80801db5-264e-41b6-8330-43b8c0dd5f67"
      },
      "execution_count": null,
      "outputs": [
        {
          "output_type": "execute_result",
          "data": {
            "text/plain": [
              "{4, 5, 6}"
            ]
          },
          "metadata": {},
          "execution_count": 78
        }
      ]
    },
    {
      "cell_type": "code",
      "source": [
        "num=[-1, 2,0, -3, 4, -5, 6]\n",
        "nums=[i for i in num if i>0]\n",
        "nums"
      ],
      "metadata": {
        "colab": {
          "base_uri": "https://localhost:8080/"
        },
        "id": "gITRyiNGOMYO",
        "outputId": "44b127ee-181a-4380-a77a-ef0da834a18c"
      },
      "execution_count": null,
      "outputs": [
        {
          "output_type": "execute_result",
          "data": {
            "text/plain": [
              "[2, 4, 6]"
            ]
          },
          "metadata": {},
          "execution_count": 80
        }
      ]
    },
    {
      "cell_type": "code",
      "source": [
        "name='hello'\n",
        "num={i:name.count(i) for i in name}\n",
        "num"
      ],
      "metadata": {
        "colab": {
          "base_uri": "https://localhost:8080/"
        },
        "id": "1obM1wzxOvvm",
        "outputId": "1ffa39d0-ae44-4557-ab4d-04bdc027fc3e"
      },
      "execution_count": null,
      "outputs": [
        {
          "output_type": "execute_result",
          "data": {
            "text/plain": [
              "{'h': 1, 'e': 1, 'l': 2, 'o': 1}"
            ]
          },
          "metadata": {},
          "execution_count": 81
        }
      ]
    },
    {
      "cell_type": "code",
      "source": [
        "num=[-1, 2,0, -3, 4, -5, 6]\n",
        "dub=list(map(lambda x:x*2,num))\n",
        "dub"
      ],
      "metadata": {
        "colab": {
          "base_uri": "https://localhost:8080/"
        },
        "id": "4JZq1Ef7PJ2Q",
        "outputId": "bed290c3-7b5a-4471-ed10-616b657d3b02"
      },
      "execution_count": null,
      "outputs": [
        {
          "output_type": "execute_result",
          "data": {
            "text/plain": [
              "[-2, 4, 0, -6, 8, -10, 12]"
            ]
          },
          "metadata": {},
          "execution_count": 82
        }
      ]
    },
    {
      "cell_type": "code",
      "source": [
        "name=[\"apple\", \"banana\", \"cherry\"]\n",
        "nam=list(map(lambda x:x.upper(),name))\n",
        "nam"
      ],
      "metadata": {
        "colab": {
          "base_uri": "https://localhost:8080/"
        },
        "id": "2rM-lwTrP4Dt",
        "outputId": "38873fa4-41a0-463b-841d-ca47eec1ee1e"
      },
      "execution_count": null,
      "outputs": [
        {
          "output_type": "execute_result",
          "data": {
            "text/plain": [
              "['APPLE', 'BANANA', 'CHERRY']"
            ]
          },
          "metadata": {},
          "execution_count": 84
        }
      ]
    },
    {
      "cell_type": "code",
      "source": [
        "num=[1, 2, 3, 4, 5, 6]\n",
        "nums=list(filter(lambda x:x%2!=0,num))\n",
        "\n",
        "nums"
      ],
      "metadata": {
        "colab": {
          "base_uri": "https://localhost:8080/"
        },
        "id": "zr9Wzp0JQjGs",
        "outputId": "e913e6a0-7e02-44fa-9834-8c050b9f5fb2"
      },
      "execution_count": null,
      "outputs": [
        {
          "output_type": "execute_result",
          "data": {
            "text/plain": [
              "[1, 3, 5]"
            ]
          },
          "metadata": {},
          "execution_count": 86
        }
      ]
    },
    {
      "cell_type": "code",
      "source": [
        "name=[\"apple\", \"banana\", \"cherry\"]\n",
        "coun=list(map(lambda x:len(x),name))\n",
        "coun"
      ],
      "metadata": {
        "colab": {
          "base_uri": "https://localhost:8080/"
        },
        "id": "9hprGlwaQ-GN",
        "outputId": "5b2faeaa-47f0-47e5-914b-2cd6e0a1bd84"
      },
      "execution_count": null,
      "outputs": [
        {
          "output_type": "execute_result",
          "data": {
            "text/plain": [
              "[5, 6, 6]"
            ]
          },
          "metadata": {},
          "execution_count": 88
        }
      ]
    },
    {
      "cell_type": "code",
      "source": [
        "word=\"hello world\"\n",
        "v=['a','e','i','o','u']\n",
        "def vow(word):\n",
        "  res=''.join([char for char in word if char not in v])\n",
        "  return res\n",
        "print(vow(word))\n"
      ],
      "metadata": {
        "colab": {
          "base_uri": "https://localhost:8080/"
        },
        "id": "GeVKAK-3Re5a",
        "outputId": "4ab5ae2a-8b00-471c-8a0f-f6179d716e30"
      },
      "execution_count": null,
      "outputs": [
        {
          "output_type": "stream",
          "name": "stdout",
          "text": [
            "hll wrld\n"
          ]
        }
      ]
    },
    {
      "cell_type": "code",
      "source": [
        "num=[-1, 2, 3, -4, 5]\n",
        "nums=list(map(lambda x:x**2,[i for i in num if i>0]))\n",
        "nums"
      ],
      "metadata": {
        "colab": {
          "base_uri": "https://localhost:8080/"
        },
        "id": "UN3mVIWaVQuI",
        "outputId": "7695d8f3-64e5-4a94-ae7a-9a414ff0d638"
      },
      "execution_count": null,
      "outputs": [
        {
          "output_type": "execute_result",
          "data": {
            "text/plain": [
              "[4, 9, 25]"
            ]
          },
          "metadata": {},
          "execution_count": 98
        }
      ]
    },
    {
      "cell_type": "code",
      "source": [
        "name=[\"apple\", \"banana\", \"pear\", \"kiwi\"]\n",
        "names=sorted(name,key=lambda x:len(x))\n",
        "names"
      ],
      "metadata": {
        "colab": {
          "base_uri": "https://localhost:8080/"
        },
        "id": "Sody4Mk1WmkW",
        "outputId": "ce3c3839-4d3c-4c05-f240-94b85224d745"
      },
      "execution_count": null,
      "outputs": [
        {
          "output_type": "execute_result",
          "data": {
            "text/plain": [
              "['pear', 'kiwi', 'apple', 'banana']"
            ]
          },
          "metadata": {},
          "execution_count": 99
        }
      ]
    },
    {
      "cell_type": "code",
      "source": [
        "num=[1, 2, 2, 3, 4, 4, 5]\n",
        "uni=[]\n",
        "for i in num:\n",
        "  if i not in uni:\n",
        "    uni.append(i)\n",
        "\n",
        "uni"
      ],
      "metadata": {
        "colab": {
          "base_uri": "https://localhost:8080/"
        },
        "id": "7zNVYVOEXP7I",
        "outputId": "5b1c38f2-ef06-4631-d387-4ca571899e04"
      },
      "execution_count": null,
      "outputs": [
        {
          "output_type": "execute_result",
          "data": {
            "text/plain": [
              "[1, 2, 3, 4, 5]"
            ]
          },
          "metadata": {},
          "execution_count": 101
        }
      ]
    },
    {
      "cell_type": "code",
      "source": [
        "arr=[3, 1, 4, 2]\n",
        "arr.sort(reverse=True)\n",
        "arr"
      ],
      "metadata": {
        "colab": {
          "base_uri": "https://localhost:8080/"
        },
        "id": "xCcYbreLX47k",
        "outputId": "b025fb67-ada8-4c72-b1f8-1397d5d66c9e"
      },
      "execution_count": null,
      "outputs": [
        {
          "output_type": "execute_result",
          "data": {
            "text/plain": [
              "[4, 3, 2, 1]"
            ]
          },
          "metadata": {},
          "execution_count": 104
        }
      ]
    },
    {
      "cell_type": "code",
      "source": [
        "name=[\"apple\", \"banana\", \"orange\", \"kiwi\"]\n",
        "v=['a','e','i','o','u']\n",
        "nm=[i for i in name if i[0] in v]\n",
        "nm\n"
      ],
      "metadata": {
        "colab": {
          "base_uri": "https://localhost:8080/"
        },
        "id": "7dGkTG6gYb_O",
        "outputId": "e61ff800-05eb-4cfc-81e5-17aff110bad7"
      },
      "execution_count": null,
      "outputs": [
        {
          "output_type": "execute_result",
          "data": {
            "text/plain": [
              "['apple', 'orange']"
            ]
          },
          "metadata": {},
          "execution_count": 105
        }
      ]
    },
    {
      "cell_type": "code",
      "source": [
        "num=[-1, 2, 3, -4, 5]\n",
        "sum1=sum(list(filter(lambda x:x>0,num)))\n",
        "sum1"
      ],
      "metadata": {
        "colab": {
          "base_uri": "https://localhost:8080/"
        },
        "id": "Sl3hK3ZRY3pa",
        "outputId": "2c723f81-c5f7-44d4-a4cd-ef41dd78117f"
      },
      "execution_count": null,
      "outputs": [
        {
          "output_type": "execute_result",
          "data": {
            "text/plain": [
              "10"
            ]
          },
          "metadata": {},
          "execution_count": 106
        }
      ]
    },
    {
      "cell_type": "code",
      "source": [
        "num=[-1, 2, 3, -4, 5]\n",
        "sum1=reduce(lambda x,y:x+y,list(filter(lambda x:x>0,num)))\n",
        "sum1"
      ],
      "metadata": {
        "colab": {
          "base_uri": "https://localhost:8080/"
        },
        "id": "5fO2XJkRZP-7",
        "outputId": "9ef5a2a7-603d-4ed4-d5f9-eb30b4fdda39"
      },
      "execution_count": null,
      "outputs": [
        {
          "output_type": "execute_result",
          "data": {
            "text/plain": [
              "10"
            ]
          },
          "metadata": {},
          "execution_count": 108
        }
      ]
    },
    {
      "cell_type": "code",
      "source": [
        "num=[1, 2, 3, 4, 5, 6]\n",
        "su=list(map(lambda x:x**3,list(filter(lambda x:x%2==0,num))))\n",
        "su"
      ],
      "metadata": {
        "colab": {
          "base_uri": "https://localhost:8080/"
        },
        "id": "w-RWDxMyZpiC",
        "outputId": "70b52d9f-724a-42b9-9d7e-589fe813b51b"
      },
      "execution_count": null,
      "outputs": [
        {
          "output_type": "execute_result",
          "data": {
            "text/plain": [
              "[8, 64, 216]"
            ]
          },
          "metadata": {},
          "execution_count": 114
        }
      ]
    },
    {
      "cell_type": "code",
      "source": [
        "name=\"hello world\"\n",
        "nam=[i for i in name if i!=' ']\n",
        "dic={i:name.count(i) for i in nam}\n",
        "dic"
      ],
      "metadata": {
        "colab": {
          "base_uri": "https://localhost:8080/"
        },
        "id": "RTBH6BlBas87",
        "outputId": "abd68116-9682-46da-bd1e-d7c32e968ec4"
      },
      "execution_count": null,
      "outputs": [
        {
          "output_type": "execute_result",
          "data": {
            "text/plain": [
              "{'h': 1, 'e': 1, 'l': 3, 'o': 2, 'w': 1, 'r': 1, 'd': 1}"
            ]
          },
          "metadata": {},
          "execution_count": 116
        }
      ]
    },
    {
      "cell_type": "code",
      "source": [
        "nm=[1, 5, 8, 10]\n",
        "op=[i for i in nm if i>5]\n",
        "op"
      ],
      "metadata": {
        "colab": {
          "base_uri": "https://localhost:8080/"
        },
        "id": "QU2T93GcbWOh",
        "outputId": "3ec61054-12c5-4894-c7b0-4af600bb8149"
      },
      "execution_count": null,
      "outputs": [
        {
          "output_type": "execute_result",
          "data": {
            "text/plain": [
              "[8, 10]"
            ]
          },
          "metadata": {},
          "execution_count": 118
        }
      ]
    },
    {
      "cell_type": "code",
      "source": [
        "ip=\"hello world\"\n",
        "words=list(map(str,ip.split(' ')))\n",
        "dic={i:len(i) for i in words}\n",
        "dic"
      ],
      "metadata": {
        "colab": {
          "base_uri": "https://localhost:8080/"
        },
        "id": "tBjfoEihcNW5",
        "outputId": "964d0950-49ad-435f-9ea6-4caed48f0030"
      },
      "execution_count": null,
      "outputs": [
        {
          "output_type": "execute_result",
          "data": {
            "text/plain": [
              "{'hello': 5, 'world': 5}"
            ]
          },
          "metadata": {},
          "execution_count": 121
        }
      ]
    },
    {
      "cell_type": "code",
      "source": [
        "def prime(n):\n",
        "  if n<=1 :\n",
        "    return False\n",
        "  for i in range(2,(n//2)+1):\n",
        "    if n%i==0 and i!=n:\n",
        "      return False\n",
        "  return True\n",
        "\n",
        "num=[1, 2, 3, 4, 5, 6, 7, 8, 9, 10]\n",
        "primes=list(filter(lambda x:prime(x),num))\n",
        "primes"
      ],
      "metadata": {
        "colab": {
          "base_uri": "https://localhost:8080/"
        },
        "id": "D4pwJKYpsiie",
        "outputId": "7e5f9806-1fcb-4d9e-a971-04d734cbfff7"
      },
      "execution_count": null,
      "outputs": [
        {
          "output_type": "execute_result",
          "data": {
            "text/plain": [
              "[2, 3, 5, 7]"
            ]
          },
          "metadata": {},
          "execution_count": 133
        }
      ]
    },
    {
      "cell_type": "code",
      "source": [
        "name=[('Alice', 30), ('Bob', 15), ('Charlie', 25), ('David', 17)]\n",
        "old=[i[0] for i in name if i[1]>=18]\n",
        "old"
      ],
      "metadata": {
        "colab": {
          "base_uri": "https://localhost:8080/"
        },
        "id": "vOoZ_pHLwnzp",
        "outputId": "a02bce78-37f5-497f-c163-917dc95dc3f3"
      },
      "execution_count": null,
      "outputs": [
        {
          "output_type": "execute_result",
          "data": {
            "text/plain": [
              "['Alice', 'Charlie']"
            ]
          },
          "metadata": {},
          "execution_count": 134
        }
      ]
    },
    {
      "cell_type": "code",
      "source": [
        "name=[\"racecar\", \"hello\", \"level\", \"world\", \"radar\"]\n",
        "def palindrome(name):\n",
        "  l=0\n",
        "  r=len(name)-1\n",
        "  while l<r:\n",
        "    if name[l]!=name[r]:\n",
        "      return False\n",
        "    l+=1\n",
        "    r-=1\n",
        "  return True\n",
        "\n",
        "nm=list(filter(lambda x:palindrome(x),name))\n",
        "nm"
      ],
      "metadata": {
        "colab": {
          "base_uri": "https://localhost:8080/"
        },
        "id": "UGCR6SHYw-oi",
        "outputId": "8b51a831-57a8-41bc-9616-fc0b3fc674be"
      },
      "execution_count": null,
      "outputs": [
        {
          "output_type": "execute_result",
          "data": {
            "text/plain": [
              "['racecar', 'level', 'radar']"
            ]
          },
          "metadata": {},
          "execution_count": 137
        }
      ]
    },
    {
      "cell_type": "code",
      "source": [
        "num=[1, 2, 2, 3, 4, 4, 5]\n",
        "print(sum(set(num)))"
      ],
      "metadata": {
        "colab": {
          "base_uri": "https://localhost:8080/"
        },
        "id": "bgIHHPYvyXz6",
        "outputId": "30cc5006-4dea-4bc6-9d53-18f410b06f82"
      },
      "execution_count": null,
      "outputs": [
        {
          "output_type": "stream",
          "name": "stdout",
          "text": [
            "15\n"
          ]
        }
      ]
    },
    {
      "cell_type": "code",
      "source": [
        "num=[1, 2, 3, 4, 5]\n",
        "nums=[i for i in num if i>(sum(num)/len(num))]\n",
        "nums"
      ],
      "metadata": {
        "colab": {
          "base_uri": "https://localhost:8080/"
        },
        "id": "UY-qq58SynSn",
        "outputId": "df341aa4-a4b2-4ed0-d734-d7388262ee7b"
      },
      "execution_count": null,
      "outputs": [
        {
          "output_type": "execute_result",
          "data": {
            "text/plain": [
              "[4, 5]"
            ]
          },
          "metadata": {},
          "execution_count": 139
        }
      ]
    },
    {
      "cell_type": "markdown",
      "source": [
        "_____________________OOPS______________________\n"
      ],
      "metadata": {
        "id": "Hku3Wtj9F6JV"
      }
    },
    {
      "cell_type": "code",
      "source": [
        "class car:\n",
        "  def __init__(self,make,model,year,ctype):\n",
        "    self.__make=make\n",
        "    self.__model=model\n",
        "    self.__year=year\n",
        "    self.__ctype=ctype\n",
        "  def get_display(self):\n",
        "    print(\"---- car details----\")\n",
        "    print(self.__make)\n",
        "    print(self.__model)\n",
        "    print(self.__year)\n",
        "  def set_make(self,val):\n",
        "    self.__make=val\n",
        "  def set_model(self,val):\n",
        "    self.__model=val\n",
        "  def set_year(self,val):\n",
        "    self.__year=val\n",
        "\n",
        "  def cartype(self):\n",
        "    return self.__ctype\n",
        "\n",
        "obj=car('Ford','F-150',2019,'petrol')\n",
        "obj.get_display()\n",
        "obj.set_make('Nissan')\n",
        "print()\n",
        "obj.get_display()\n",
        "print(obj.cartype())\n",
        "\n",
        "class Electriccar(car):\n",
        "  def __init__(self,make,model,year,ctype,battery_capacity):\n",
        "    super().__init__(make,model,year,ctype)\n",
        "    self.__battery_capacity=battery_capacity\n",
        "  def get_display(self):\n",
        "    print(\"----Electric car details----\")\n",
        "    super().get_display()\n",
        "    return self.__battery_capacity\n",
        "\n",
        "\n",
        "eobj=Electriccar('Tesla','model-y','2024','Electric Car',12000)\n",
        "eobj.get_display()\n",
        "print(eobj.cartype())"
      ],
      "metadata": {
        "colab": {
          "base_uri": "https://localhost:8080/"
        },
        "id": "0XMOmFsvGF6r",
        "outputId": "21d2f090-d99b-4d81-df6b-3e35eabfd8a7"
      },
      "execution_count": null,
      "outputs": [
        {
          "output_type": "stream",
          "name": "stdout",
          "text": [
            "---- car details----\n",
            "Ford\n",
            "F-150\n",
            "2019\n",
            "\n",
            "---- car details----\n",
            "Nissan\n",
            "F-150\n",
            "2019\n",
            "petrol\n",
            "----Electric car details----\n",
            "---- car details----\n",
            "Tesla\n",
            "model-y\n",
            "2024\n",
            "Electric Car\n"
          ]
        }
      ]
    },
    {
      "cell_type": "code",
      "source": [],
      "metadata": {
        "id": "RdriD1d63D2R"
      },
      "execution_count": null,
      "outputs": []
    },
    {
      "cell_type": "markdown",
      "source": [
        "oops(3-10-2024)\n"
      ],
      "metadata": {
        "id": "qcxcfgI639BR"
      }
    },
    {
      "cell_type": "code",
      "source": [
        "class BankAccount:\n",
        "  def __init__(self,account_holder,balance=0):\n",
        "    self.account_holder=account_holder\n",
        "    self.balance=balance\n",
        "  def deposit(self,amount):\n",
        "    self.balance+=amount\n",
        "    print(f\"Money Credited:{amount}\")\n",
        "  def withdraw(self,amount):\n",
        "    if amount>self.balance:\n",
        "      print(\"Insufficient Balance\")\n",
        "    else:\n",
        "      self.balance-=amount\n",
        "      print(f\"Money Debited:{amount}\")\n",
        "  def display_balance(self):\n",
        "    print(f\"Account Balance: {self.balance}\")\n"
      ],
      "metadata": {
        "id": "alQunEee4Bkv"
      },
      "execution_count": null,
      "outputs": []
    },
    {
      "cell_type": "code",
      "source": [
        "h=BankAccount('Hari',25000)\n",
        "h.display_balance()"
      ],
      "metadata": {
        "colab": {
          "base_uri": "https://localhost:8080/"
        },
        "id": "iZRLFg9r5PQe",
        "outputId": "83b7315f-7d6f-4507-d050-8926d79467ab"
      },
      "execution_count": null,
      "outputs": [
        {
          "output_type": "stream",
          "name": "stdout",
          "text": [
            "Account Balance: 25000\n"
          ]
        }
      ]
    },
    {
      "cell_type": "code",
      "source": [
        "h.deposit(2000)\n",
        "h.display_balance()"
      ],
      "metadata": {
        "colab": {
          "base_uri": "https://localhost:8080/"
        },
        "id": "BjynM3sQ5ryb",
        "outputId": "47d551ac-995f-435b-f820-0ccf57eb950f"
      },
      "execution_count": null,
      "outputs": [
        {
          "output_type": "stream",
          "name": "stdout",
          "text": [
            "Money Credited:2000\n",
            "Account Balance: 22450\n"
          ]
        }
      ]
    },
    {
      "cell_type": "code",
      "source": [
        "h.withdraw(2850)\n",
        "h.display_balance()"
      ],
      "metadata": {
        "colab": {
          "base_uri": "https://localhost:8080/"
        },
        "id": "qBtB9gxd51G5",
        "outputId": "9d58a4d1-58c3-40e3-9772-05db95c19978"
      },
      "execution_count": null,
      "outputs": [
        {
          "output_type": "stream",
          "name": "stdout",
          "text": [
            "Money Debited:2850\n",
            "Account Balance: 19600\n"
          ]
        }
      ]
    },
    {
      "cell_type": "code",
      "source": [
        "class Employee:\n",
        "  def __init__(self,name,position,salary):\n",
        "    self.name=name\n",
        "    self.position=position\n",
        "    self.salary=salary\n",
        "  def give_raise(self,amount):\n",
        "    self.salary+=amount\n",
        "  def display_info(self):\n",
        "    print(\"Name:\",self.name)\n",
        "    print(\"Position:\",self.position)\n",
        "    print(\"Salary:\",self.salary)\n",
        "\n",
        "emp1=Employee(\"Hari\",\"Accountant\",25000)\n",
        "emp1.give_raise(5000)\n",
        "emp1.display_info()\n"
      ],
      "metadata": {
        "colab": {
          "base_uri": "https://localhost:8080/"
        },
        "id": "2GnOGQGR7LXj",
        "outputId": "f19ca4ce-ca8d-48b1-93ef-5ff5d2c5bda2"
      },
      "execution_count": null,
      "outputs": [
        {
          "output_type": "stream",
          "name": "stdout",
          "text": [
            "Name: Hari\n",
            "Position: Accountant\n",
            "Salary: 30000\n"
          ]
        }
      ]
    },
    {
      "cell_type": "code",
      "source": [
        "class Manager(Employee):\n",
        "  def __init__(self,name,position,salary,department):\n",
        "    super().__init__(name,position,salary)\n",
        "    self.department=department\n",
        "  def display_info(self):\n",
        "    super().display_info()\n",
        "    print(\"Department:\",self.department)\n",
        "\n",
        "emp2=Manager(\"giri\",\"Accounts Manager\",50000,\"Accounts\")\n",
        "emp2.give_raise(5000)\n",
        "emp2.display_info()\n",
        "print()\n",
        "emp1.display_info()"
      ],
      "metadata": {
        "colab": {
          "base_uri": "https://localhost:8080/"
        },
        "id": "fjHIGx2r8b3X",
        "outputId": "fca80f15-cc22-4412-95d5-26865cc3c9d0"
      },
      "execution_count": null,
      "outputs": [
        {
          "output_type": "stream",
          "name": "stdout",
          "text": [
            "Name: giri\n",
            "Position: Accounts Manager\n",
            "Salary: 55000\n",
            "Department: Accounts\n",
            "\n",
            "Name: Hari\n",
            "Position: Accountant\n",
            "Salary: 30000\n"
          ]
        }
      ]
    },
    {
      "cell_type": "code",
      "source": [
        "class Rectangle:\n",
        "  def __init__(self,length,width) -> None:\n",
        "    self.length=length\n",
        "    self.width=width\n",
        "  def area(self):\n",
        "    area=self.length*self.width\n",
        "    print(f\"Area is: {area}\")\n",
        "  def perimeter(self):\n",
        "    perimeter=2*(self.length+self.width)\n",
        "    print(f\"Perimeter is {perimeter}\")\n",
        "\n",
        "class Square(Rectangle):\n",
        "  def __init__(self,side):\n",
        "    super().__init__(side,side)\n",
        "\n",
        "r=Rectangle(4,2)\n",
        "r.area()\n",
        "r.perimeter()\n",
        "s=Square(4)\n",
        "s.area()\n",
        "s.perimeter()"
      ],
      "metadata": {
        "colab": {
          "base_uri": "https://localhost:8080/"
        },
        "id": "8LRwg5VI-frf",
        "outputId": "112271cf-a882-4723-bae2-fa585bfd4c78"
      },
      "execution_count": null,
      "outputs": [
        {
          "output_type": "stream",
          "name": "stdout",
          "text": [
            "Area is: 8\n",
            "Perimeter is 12\n",
            "Area is: 16\n",
            "Perimeter is 16\n"
          ]
        }
      ]
    },
    {
      "cell_type": "code",
      "source": [
        "class shape:\n",
        "  def __init__(self,l=0,w=0,h=0,name='Rectangle') -> None:\n",
        "    self.l=l\n",
        "    self.w=w\n",
        "    self.h=h\n",
        "    self.name=name\n",
        "  def area(self):\n",
        "    pass\n",
        "\n",
        "class Rectangle(shape):\n",
        "  def __init__(self,l,w=None) -> None:\n",
        "    if w is None:\n",
        "      name='Square'\n",
        "      super().__init__(l,l,name=name)\n",
        "    else:\n",
        "      name='Rectangle'\n",
        "      super().__init__(l,w,name=name)\n",
        "  def area(self):\n",
        "    res=self.l*self.w\n",
        "    print(f\"Area of {self.name}: {res} M^2\")\n",
        "\n",
        "class Circle(shape):\n",
        "  def __init__(self,r) -> None:\n",
        "    self.r=r\n",
        "  def area(self):\n",
        "    res=3.14*(self.r**2)\n",
        "    print(f\"Area of Circle: {res} M^2\")\n",
        "\n",
        "c=Circle(5)\n",
        "c.area()\n",
        "r=Rectangle(4)\n",
        "r.area()\n",
        "r1=Rectangle(4,5)\n",
        "r1.area()"
      ],
      "metadata": {
        "colab": {
          "base_uri": "https://localhost:8080/"
        },
        "id": "zq8iAkT-SQnb",
        "outputId": "d8bba609-d6f9-4a77-cb17-51607ec75ec8"
      },
      "execution_count": null,
      "outputs": [
        {
          "output_type": "stream",
          "name": "stdout",
          "text": [
            "Area of Circle: 78.5 M^2\n",
            "Area of Square: 16 M^2\n",
            "Area of Rectangle: 20 M^2\n"
          ]
        }
      ]
    },
    {
      "cell_type": "code",
      "source": [
        "class stringadd:\n",
        "  def __init__(self,a):\n",
        "    self.a=a\n",
        "\n",
        "  def __add__(self,other):\n",
        "    return int(self.a)+int(other.a)\n",
        "\n",
        "\n",
        "a=stringadd(1)\n",
        "b=stringadd('3')\n",
        "res=a+b\n",
        "print(res)\n",
        "\n"
      ],
      "metadata": {
        "colab": {
          "base_uri": "https://localhost:8080/"
        },
        "id": "2-m4eHfnZuK4",
        "outputId": "988ebe58-b0af-40bd-c27f-5d05eeac40d0"
      },
      "execution_count": null,
      "outputs": [
        {
          "output_type": "stream",
          "name": "stdout",
          "text": [
            "4\n"
          ]
        }
      ]
    },
    {
      "cell_type": "markdown",
      "source": [
        "ABSTARCTION"
      ],
      "metadata": {
        "id": "OaIeumuDSdeN"
      }
    },
    {
      "cell_type": "code",
      "source": [
        "from abc import ABC,abstractmethod\n",
        "class Account(ABC):\n",
        "  def __init__(self,balance=1000):\n",
        "    self.balance=balance\n",
        "  @abstractmethod\n",
        "  def calcint(self):\n",
        "    pass\n",
        "  def get_balance(self):\n",
        "    return self.balance\n",
        "\n",
        "class SavingsAcc(Account):\n",
        "  def __init__(self,bal):\n",
        "    super().__init__(balance=bal)\n",
        "\n",
        "\n",
        "  def calcint(self):\n",
        "    interest=self.balance*0.04\n",
        "    self.balance+=interest\n",
        "    return interest\n",
        "\n",
        "class CurrentsAcc(Account):\n",
        "  def __init__(self,bal):\n",
        "    super().__init__(balance=bal)\n",
        "  def calcint(self):\n",
        "    interest=self.balance*0.02\n",
        "    self.balance+=interest\n",
        "    return interest\n",
        "\n",
        "s1=CurrentsAcc(2000)\n",
        "print(s1.get_balance())\n",
        "print(s1.calcint())\n",
        "print(s1.get_balance())\n",
        "\n",
        "\n",
        "\n"
      ],
      "metadata": {
        "colab": {
          "base_uri": "https://localhost:8080/"
        },
        "id": "2cs5pI8RSc0d",
        "outputId": "91fe4830-b5f9-42d2-ae06-c4df4ae98068"
      },
      "execution_count": null,
      "outputs": [
        {
          "output_type": "stream",
          "name": "stdout",
          "text": [
            "2000\n",
            "40.0\n",
            "2040.0\n"
          ]
        }
      ]
    },
    {
      "cell_type": "markdown",
      "source": [
        "ENcapsulation"
      ],
      "metadata": {
        "id": "D696DF5JZ7wO"
      }
    },
    {
      "cell_type": "code",
      "source": [
        "class BankAccount:\n",
        "  def __init__(self,accno,name,balance):\n",
        "    self.__accno=accno\n",
        "    self.__name=name\n",
        "    self.__balance=balance\n",
        "\n",
        "  def get_balance(self,password):\n",
        "    if self.__authorise(password):\n",
        "      return (f\"Account Balance: {self.__balance}\")\n",
        "    else:\n",
        "      print(\"Incorreect password\")\n",
        "\n",
        "  def set_balance(self,amount,password):\n",
        "    if self.__authorise(password):\n",
        "      self.__balance+=amount\n",
        "      print(f\"{amount} Deposited in {self.__accno}\")\n",
        "    else:\n",
        "      print(\"Incorreect password\")\n",
        "  def get_money(self,amount,password):\n",
        "    if self.__authorise(password):\n",
        "      if amount>self.__balance:\n",
        "        print(\"Not Enough Balance\")\n",
        "      else:\n",
        "        self.__balance-=amount\n",
        "        print(f\"{amount} Deducted from {self.__accno}\")\n",
        "        print(self.get_balance())\n",
        "    else:\n",
        "      print(\"Incorreect password\")\n",
        "\n",
        "  def __authorise(self,password):\n",
        "    O_password='asdf123'\n",
        "    return O_password==password\n",
        "\n",
        "user=BankAccount('256Hari','Harikrishnan',25000)\n",
        "print(user.get_balance('asdf123'))\n",
        "user.set_balance(5000,'asdf123')\n",
        "print(user.get_balance('asdf123'))\n",
        "\n",
        "\n",
        "\n"
      ],
      "metadata": {
        "colab": {
          "base_uri": "https://localhost:8080/"
        },
        "id": "C0COA8bcZ7Y4",
        "outputId": "b4958452-2610-48d1-9f88-68e551bd1f4c"
      },
      "execution_count": null,
      "outputs": [
        {
          "output_type": "stream",
          "name": "stdout",
          "text": [
            "Account Balance: 25000\n",
            "5000 Deposited in 256Hari\n",
            "Account Balance: 30000\n"
          ]
        }
      ]
    },
    {
      "cell_type": "markdown",
      "source": [
        "Challenges\n"
      ],
      "metadata": {
        "id": "1BDeEGSopVHd"
      }
    },
    {
      "cell_type": "code",
      "source": [
        "my_list = [2, 4, [6, 8], 10, [12, [14, 16]], 18]\n",
        "my_list[4][1][1]"
      ],
      "metadata": {
        "colab": {
          "base_uri": "https://localhost:8080/"
        },
        "id": "e43tuNgGpUnm",
        "outputId": "22925896-1009-42dc-9fab-e46f104703ea"
      },
      "execution_count": null,
      "outputs": [
        {
          "output_type": "execute_result",
          "data": {
            "text/plain": [
              "16"
            ]
          },
          "metadata": {},
          "execution_count": 4
        }
      ]
    },
    {
      "cell_type": "code",
      "source": [
        "my_string = \"Python is fun!\"\n",
        "l=''\n",
        "r=len(my_string)-1\n",
        "while r>=0:\n",
        "  l=l+my_string[r]\n",
        "  r-=1\n",
        "l"
      ],
      "metadata": {
        "colab": {
          "base_uri": "https://localhost:8080/",
          "height": 35
        },
        "id": "irPOSJ-sqkro",
        "outputId": "59f16108-076b-490c-b88e-f3fb3d29ddad"
      },
      "execution_count": null,
      "outputs": [
        {
          "output_type": "execute_result",
          "data": {
            "text/plain": [
              "'!nuf si nohtyP'"
            ],
            "application/vnd.google.colaboratory.intrinsic+json": {
              "type": "string"
            }
          },
          "metadata": {},
          "execution_count": 6
        }
      ]
    },
    {
      "cell_type": "code",
      "source": [
        "my_tuple = (1, 2, (3, 4), (5, (6, 7), 8), 9)\n",
        "my_tuple[3][1][1]"
      ],
      "metadata": {
        "colab": {
          "base_uri": "https://localhost:8080/"
        },
        "id": "tSIybWzurs4W",
        "outputId": "e0331656-e83d-4d7e-f6dc-8a421c816c2a"
      },
      "execution_count": null,
      "outputs": [
        {
          "output_type": "execute_result",
          "data": {
            "text/plain": [
              "7"
            ]
          },
          "metadata": {},
          "execution_count": 7
        }
      ]
    },
    {
      "cell_type": "code",
      "source": [
        "my_dict = {\n",
        "    \"name\": \"Alice\",\n",
        "    \"age\": 30,\n",
        "    \"address\": {\n",
        "        \"city\": \"Wonderland\",\n",
        "        \"zipcode\": 12345,\n",
        "        \"coordinates\": {\n",
        "            \"lat\": 52.52,\n",
        "            \"long\": 13.405\n",
        "        }\n",
        "    },\n",
        "    \"skills\": [\"Python\", \"Django\", \"Data Science\"]\n",
        "}\n",
        "\n",
        "my_dict[\"address\"]['coordinates']['long']"
      ],
      "metadata": {
        "colab": {
          "base_uri": "https://localhost:8080/"
        },
        "id": "sgsMwIs0tcJd",
        "outputId": "e354b627-2533-4847-abb6-86992dd59c92"
      },
      "execution_count": null,
      "outputs": [
        {
          "output_type": "execute_result",
          "data": {
            "text/plain": [
              "13.405"
            ]
          },
          "metadata": {},
          "execution_count": 10
        }
      ]
    },
    {
      "cell_type": "code",
      "source": [
        "my_dict.keys()"
      ],
      "metadata": {
        "colab": {
          "base_uri": "https://localhost:8080/"
        },
        "id": "l_dbb1K4t9Kd",
        "outputId": "bc9df7ce-a660-43c1-80c6-09193814430b"
      },
      "execution_count": null,
      "outputs": [
        {
          "output_type": "execute_result",
          "data": {
            "text/plain": [
              "dict_keys(['name', 'age', 'address', 'skills'])"
            ]
          },
          "metadata": {},
          "execution_count": 11
        }
      ]
    },
    {
      "cell_type": "code",
      "source": [
        "def print_dict(d, indent=0):\n",
        "    for key, value in d.items():\n",
        "        print('  ' * indent + str(key) + \": \", end=\"\")\n",
        "        if isinstance(value, dict):\n",
        "            print()  # Print a new line for nested dictionary\n",
        "            print_dict(value, indent + 1)  # Recur for nested dictionaries\n",
        "        else:\n",
        "            print(value)  # Print the value\n",
        "print_dict(my_dict)"
      ],
      "metadata": {
        "colab": {
          "base_uri": "https://localhost:8080/"
        },
        "id": "Wyl0iLe6ugLf",
        "outputId": "eb85a8bf-59e7-4da8-a774-9d29c98703d9"
      },
      "execution_count": null,
      "outputs": [
        {
          "output_type": "stream",
          "name": "stdout",
          "text": [
            "name: Alice\n",
            "age: 30\n",
            "address: \n",
            "  city: Wonderland\n",
            "  zipcode: 12345\n",
            "  coordinates: \n",
            "    lat: 52.52\n",
            "    long: 13.405\n",
            "skills: ['Python', 'Django', 'Data Science']\n"
          ]
        }
      ]
    },
    {
      "cell_type": "code",
      "source": [
        "my_dict['address']['city']"
      ],
      "metadata": {
        "colab": {
          "base_uri": "https://localhost:8080/",
          "height": 35
        },
        "id": "n6bTvV9zvY3a",
        "outputId": "401d6569-50ec-4ba1-93cf-aecf145849c3"
      },
      "execution_count": null,
      "outputs": [
        {
          "output_type": "execute_result",
          "data": {
            "text/plain": [
              "'Wonderland'"
            ],
            "application/vnd.google.colaboratory.intrinsic+json": {
              "type": "string"
            }
          },
          "metadata": {},
          "execution_count": 13
        }
      ]
    },
    {
      "cell_type": "code",
      "source": [
        "numbers = [1, 2, 3, 4, 5]\n",
        "sqr=[i**2 for i in numbers]\n",
        "sqr"
      ],
      "metadata": {
        "colab": {
          "base_uri": "https://localhost:8080/"
        },
        "id": "MH65WVwOvlNc",
        "outputId": "81b641ea-82db-456e-8e7d-56d0a851e844"
      },
      "execution_count": null,
      "outputs": [
        {
          "output_type": "execute_result",
          "data": {
            "text/plain": [
              "[1, 4, 9, 16, 25]"
            ]
          },
          "metadata": {},
          "execution_count": 15
        }
      ]
    },
    {
      "cell_type": "code",
      "source": [
        "my_string = \"hello world\"\n",
        "print(my_string.upper())"
      ],
      "metadata": {
        "colab": {
          "base_uri": "https://localhost:8080/"
        },
        "id": "MDMTy5skvx66",
        "outputId": "db5e9eaa-ca3f-49e0-87de-faaf1dcf6d9c"
      },
      "execution_count": null,
      "outputs": [
        {
          "output_type": "stream",
          "name": "stdout",
          "text": [
            "HELLO WORLD\n"
          ]
        }
      ]
    },
    {
      "cell_type": "code",
      "source": [
        "my_tuple = (10, 20, 30, 40, 50)\n",
        "my_tuple[2]"
      ],
      "metadata": {
        "colab": {
          "base_uri": "https://localhost:8080/"
        },
        "id": "oLdNfBEbv7tB",
        "outputId": "cee36e4d-7259-4d34-c65d-92d9eec5c4b1"
      },
      "execution_count": null,
      "outputs": [
        {
          "output_type": "execute_result",
          "data": {
            "text/plain": [
              "30"
            ]
          },
          "metadata": {},
          "execution_count": 17
        }
      ]
    },
    {
      "cell_type": "code",
      "source": [
        "nested_list = [[1, 2, 3], [4, 5, [6, 7]], [8, 9]]\n",
        "nested_list[1][2][0]"
      ],
      "metadata": {
        "colab": {
          "base_uri": "https://localhost:8080/"
        },
        "id": "p0x0ihElwFVg",
        "outputId": "3e3ab84b-93dd-441b-9af5-65c08198b138"
      },
      "execution_count": null,
      "outputs": [
        {
          "output_type": "execute_result",
          "data": {
            "text/plain": [
              "6"
            ]
          },
          "metadata": {},
          "execution_count": 19
        }
      ]
    },
    {
      "cell_type": "code",
      "source": [
        "my_list = [1, 2, 3, 4, 5]\n",
        "my_list.append(6)\n",
        "print(my_list)\n",
        "print(my_list[1])\n",
        "my_list[3]=40\n",
        "print(my_list)\n",
        "my_list.remove(2)\n",
        "my_list"
      ],
      "metadata": {
        "colab": {
          "base_uri": "https://localhost:8080/"
        },
        "id": "AzmynfBjxCei",
        "outputId": "15151d15-9cff-4bb6-ef99-a112a4419aa5"
      },
      "execution_count": null,
      "outputs": [
        {
          "output_type": "stream",
          "name": "stdout",
          "text": [
            "[1, 2, 3, 4, 5, 6]\n",
            "2\n",
            "[1, 2, 3, 40, 5, 6]\n"
          ]
        },
        {
          "output_type": "execute_result",
          "data": {
            "text/plain": [
              "[1, 3, 40, 5, 6]"
            ]
          },
          "metadata": {},
          "execution_count": 22
        }
      ]
    },
    {
      "cell_type": "code",
      "source": [
        "my_dict = {\n",
        "    \"name\": \"Bob\",\n",
        "    \"age\": 25,\n",
        "}\n",
        "my_dict['city']='New York'\n",
        "print(my_dict['name'])\n",
        "my_dict['age']=26\n",
        "print(my_dict)\n",
        "del my_dict['name']\n",
        "print(my_dict)"
      ],
      "metadata": {
        "colab": {
          "base_uri": "https://localhost:8080/"
        },
        "id": "vKU-hNk97xNv",
        "outputId": "6ce47b73-35a3-4809-bc41-804f164dd53a"
      },
      "execution_count": null,
      "outputs": [
        {
          "output_type": "stream",
          "name": "stdout",
          "text": [
            "Bob\n",
            "{'name': 'Bob', 'age': 26, 'city': 'New York'}\n",
            "{'age': 26, 'city': 'New York'}\n"
          ]
        }
      ]
    },
    {
      "cell_type": "code",
      "source": [
        "my_set = {1, 2, 3}\n",
        "my_set.add(4)\n",
        "print(my_set)\n",
        "if 3 in my_set:\n",
        "  print('Yes')\n",
        "my_set.remove(1)\n",
        "my_set"
      ],
      "metadata": {
        "colab": {
          "base_uri": "https://localhost:8080/"
        },
        "id": "6nlpT2ms8kQ9",
        "outputId": "c8b77cc3-5e1f-4ec9-bb5a-ffdbb8747033"
      },
      "execution_count": null,
      "outputs": [
        {
          "output_type": "stream",
          "name": "stdout",
          "text": [
            "{1, 2, 3, 4}\n",
            "Yes\n"
          ]
        },
        {
          "output_type": "execute_result",
          "data": {
            "text/plain": [
              "{2, 3, 4}"
            ]
          },
          "metadata": {},
          "execution_count": 26
        }
      ]
    },
    {
      "cell_type": "code",
      "source": [
        "my_tuple = (10, 20, 30)\n",
        "my_tuple=list(my_tuple)\n",
        "my_tuple.append(40)\n",
        "my_tuple=tuple(my_tuple)\n",
        "print(my_tuple)\n",
        "print(my_tuple[1])\n",
        "new=list(my_tuple)\n",
        "new[1]=25\n",
        "new=tuple(new)\n",
        "print(new)\n"
      ],
      "metadata": {
        "colab": {
          "base_uri": "https://localhost:8080/"
        },
        "id": "cN9HHJYPVdvP",
        "outputId": "846a3772-1c26-4ae4-eef2-659bc0aae07f"
      },
      "execution_count": null,
      "outputs": [
        {
          "output_type": "stream",
          "name": "stdout",
          "text": [
            "(10, 20, 30, 40)\n",
            "20\n",
            "(10, 25, 30, 40)\n"
          ]
        }
      ]
    },
    {
      "cell_type": "code",
      "source": [
        "my_string = \"Hello, World!\"\n",
        "new=\"\"+my_string+' How are you?'\n",
        "newl=new.split(' ')\n",
        "newl[1]='there!'\n",
        "new2=' '.join(newl)\n",
        "print(new2)\n",
        "new3=new2.replace('there','Hari')\n",
        "print(new3)"
      ],
      "metadata": {
        "colab": {
          "base_uri": "https://localhost:8080/"
        },
        "id": "qfbzGlxOalse",
        "outputId": "22b8c499-e70c-4785-ec52-b8c63027f6bf"
      },
      "execution_count": null,
      "outputs": [
        {
          "output_type": "stream",
          "name": "stdout",
          "text": [
            "Hello, there! How are you?\n",
            "Hello, Hari! How are you?\n"
          ]
        }
      ]
    },
    {
      "cell_type": "code",
      "source": [
        "num = [1, 2, 3, 4, 5, 6, 7, 8, 9, 10]\n",
        "nums=[i**2 for i in num if i%2==0]\n",
        "nums"
      ],
      "metadata": {
        "colab": {
          "base_uri": "https://localhost:8080/"
        },
        "id": "1Wers2QFecv3",
        "outputId": "342d7b68-a70a-4ff6-e478-8749a548555d"
      },
      "execution_count": null,
      "outputs": [
        {
          "output_type": "execute_result",
          "data": {
            "text/plain": [
              "[4, 16, 36, 64, 100]"
            ]
          },
          "metadata": {},
          "execution_count": 47
        }
      ]
    },
    {
      "cell_type": "code",
      "source": [
        "nums=[i**2 if i%2==0 else i**3 for i in num]\n",
        "nums"
      ],
      "metadata": {
        "colab": {
          "base_uri": "https://localhost:8080/"
        },
        "id": "Uxmo6uwper4E",
        "outputId": "62f7fede-47c2-4f20-aaae-7673a62986ad"
      },
      "execution_count": null,
      "outputs": [
        {
          "output_type": "execute_result",
          "data": {
            "text/plain": [
              "[1, 4, 27, 16, 125, 36, 343, 64, 729, 100]"
            ]
          },
          "metadata": {},
          "execution_count": 48
        }
      ]
    },
    {
      "cell_type": "code",
      "source": [
        "people = [(\"Alice\", 30), (\"Bob\", 25), (\"Charlie\", 35)]\n",
        "name={i[0]:i[1] for i in people}\n",
        "name"
      ],
      "metadata": {
        "colab": {
          "base_uri": "https://localhost:8080/"
        },
        "id": "pWXC4AZIfBaB",
        "outputId": "a40f7ccc-d177-47b5-f404-6a4b83ed40b6"
      },
      "execution_count": null,
      "outputs": [
        {
          "output_type": "execute_result",
          "data": {
            "text/plain": [
              "{'Alice': 30, 'Bob': 25, 'Charlie': 35}"
            ]
          },
          "metadata": {},
          "execution_count": 49
        }
      ]
    },
    {
      "cell_type": "code",
      "source": [
        "numbers = [1, 2, 3, 2, 4, 5, 3, 4, 5]\n",
        "num={i for i in numbers if i%2==0}\n",
        "num"
      ],
      "metadata": {
        "colab": {
          "base_uri": "https://localhost:8080/"
        },
        "id": "sHJ7ocrAfcXg",
        "outputId": "d0b98003-868e-492d-c9a0-8b235d409977"
      },
      "execution_count": null,
      "outputs": [
        {
          "output_type": "execute_result",
          "data": {
            "text/plain": [
              "{2, 4}"
            ]
          },
          "metadata": {},
          "execution_count": 50
        }
      ]
    },
    {
      "cell_type": "code",
      "source": [
        "matrix = [[1, 2, 3], [4, 5, 6], [7, 8, 9]]\n",
        "nums=[i for li in matrix for i in li]\n",
        "nums"
      ],
      "metadata": {
        "colab": {
          "base_uri": "https://localhost:8080/"
        },
        "id": "rugkpUsbfomi",
        "outputId": "d8806353-1166-4829-dca9-44e47f05e524"
      },
      "execution_count": null,
      "outputs": [
        {
          "output_type": "execute_result",
          "data": {
            "text/plain": [
              "[1, 2, 3, 4, 5, 6, 7, 8, 9]"
            ]
          },
          "metadata": {},
          "execution_count": 52
        }
      ]
    },
    {
      "cell_type": "code",
      "source": [
        "numbers = [1, 2, 3, 4, 5]\n",
        "nums=list(map(lambda x:x**3,numbers))\n",
        "nums"
      ],
      "metadata": {
        "colab": {
          "base_uri": "https://localhost:8080/"
        },
        "id": "4rJ01euygRhP",
        "outputId": "1465707e-f752-4506-bdea-979730490f2e"
      },
      "execution_count": null,
      "outputs": [
        {
          "output_type": "execute_result",
          "data": {
            "text/plain": [
              "[1, 8, 27, 64, 125]"
            ]
          },
          "metadata": {},
          "execution_count": 54
        }
      ]
    },
    {
      "cell_type": "code",
      "source": [
        "numbers = [1, 2, 3, 4, 5, 6, 7, 8, 9, 10]\n",
        "even=list(filter(lambda x:x%2==0,numbers))\n",
        "even"
      ],
      "metadata": {
        "colab": {
          "base_uri": "https://localhost:8080/"
        },
        "id": "mO4rnKkPgw90",
        "outputId": "f48739a3-1f0d-4fcf-905d-9c1f7892199c"
      },
      "execution_count": null,
      "outputs": [
        {
          "output_type": "execute_result",
          "data": {
            "text/plain": [
              "[2, 4, 6, 8, 10]"
            ]
          },
          "metadata": {},
          "execution_count": 56
        }
      ]
    },
    {
      "cell_type": "code",
      "source": [
        "from functools import reduce\n",
        "numbers = [1, 2, 3, 4, 5]\n",
        "product=reduce(lambda x,y:x*y,numbers)\n",
        "product"
      ],
      "metadata": {
        "colab": {
          "base_uri": "https://localhost:8080/"
        },
        "id": "7XFAPmgKhO8E",
        "outputId": "ac53c189-5343-482f-fb92-8ee8fc2689a1"
      },
      "execution_count": null,
      "outputs": [
        {
          "output_type": "execute_result",
          "data": {
            "text/plain": [
              "120"
            ]
          },
          "metadata": {},
          "execution_count": 59
        }
      ]
    },
    {
      "cell_type": "code",
      "source": [
        "def log_decorator(fun):\n",
        "  def wrapper(*args):\n",
        "    print(f\"First arg:{args[0]}\")\n",
        "    print(f\"Second arg:{args[1]}\")\n",
        "    res=fun(*args)\n",
        "    return res\n",
        "  return wrapper\n",
        "\n",
        "@log_decorator\n",
        "def add(a,b):\n",
        "  return a+b\n",
        "\n",
        "print(add(2,8))"
      ],
      "metadata": {
        "colab": {
          "base_uri": "https://localhost:8080/"
        },
        "id": "_ki9R78vsK6z",
        "outputId": "84dbe660-03c6-4543-9e81-0807478d1efc"
      },
      "execution_count": null,
      "outputs": [
        {
          "output_type": "stream",
          "name": "stdout",
          "text": [
            "First arg:2\n",
            "Second arg:8\n",
            "10\n"
          ]
        }
      ]
    },
    {
      "cell_type": "code",
      "source": [
        "students = {\n",
        "    'Alice': 88,\n",
        "    'Bob': 95,\n",
        "    'Charlie': 87,\n",
        "    'David': 92\n",
        "}\n",
        "h=max(students.values())\n",
        "for i,j in students.items():\n",
        "  if j==h:\n",
        "    print(i,':',j)"
      ],
      "metadata": {
        "id": "q_tgMbPfth-d",
        "colab": {
          "base_uri": "https://localhost:8080/"
        },
        "outputId": "391756a8-9fef-4a5e-d9f2-487011f5b0d9"
      },
      "execution_count": null,
      "outputs": [
        {
          "output_type": "stream",
          "name": "stdout",
          "text": [
            "Bob : 95\n"
          ]
        }
      ]
    },
    {
      "cell_type": "code",
      "source": [
        "products = {\n",
        "    'Laptop': 800,\n",
        "    'Phone': 600,\n",
        "    'Tablet': 300\n",
        "}\n",
        "for i,j in products.items():\n",
        "  j=j*1.10\n",
        "  products[i]=round(j,2)\n",
        "\n",
        "products"
      ],
      "metadata": {
        "colab": {
          "base_uri": "https://localhost:8080/"
        },
        "id": "u5q8ZXCIGAS_",
        "outputId": "e6909448-d883-43df-d000-7974391a9061"
      },
      "execution_count": null,
      "outputs": [
        {
          "output_type": "execute_result",
          "data": {
            "text/plain": [
              "{'Laptop': 880.0, 'Phone': 660.0, 'Tablet': 330.0}"
            ]
          },
          "metadata": {},
          "execution_count": 5
        }
      ]
    },
    {
      "cell_type": "code",
      "source": [
        "employees = {\n",
        "    'Alice': ['task1', 'task2', 'task3'],\n",
        "    'Bob': ['task1', 'task2'],\n",
        "    'Charlie': ['task1', 'task2', 'task3', 'task4'],\n",
        "    'David': ['task1']\n",
        "}\n",
        "emp={i:len(j) for i,j in employees.items()}\n",
        "h=max(emp.values())\n",
        "for i,j in emp.items():\n",
        "  if j==h:\n",
        "    print(i)"
      ],
      "metadata": {
        "colab": {
          "base_uri": "https://localhost:8080/"
        },
        "id": "SkYlagzlHCWd",
        "outputId": "278bf336-817e-49c7-fb23-3e4e92da2529"
      },
      "execution_count": null,
      "outputs": [
        {
          "output_type": "stream",
          "name": "stdout",
          "text": [
            "Charlie\n"
          ]
        }
      ]
    },
    {
      "cell_type": "code",
      "source": [
        "cities = {\n",
        "    'CityA': {'population': 500000, 'area': 400},\n",
        "    'CityB': {'population': 1200000, 'area': 850},\n",
        "    'CityC': {'population': 700000, 'area': 300}\n",
        "}\n",
        "pop={i:j['population']/j['area'] for i,j in cities.items()}\n",
        "print(pop)\n",
        "h=max(pop.values())\n",
        "for i,j in pop.items():\n",
        "  if j==h:\n",
        "    print(i)"
      ],
      "metadata": {
        "colab": {
          "base_uri": "https://localhost:8080/"
        },
        "id": "j7YwHwCTKnDo",
        "outputId": "d132e27b-4194-44db-bf45-22548545176c"
      },
      "execution_count": null,
      "outputs": [
        {
          "output_type": "stream",
          "name": "stdout",
          "text": [
            "{'CityA': 1250.0, 'CityB': 1411.764705882353, 'CityC': 2333.3333333333335}\n",
            "CityC\n"
          ]
        }
      ]
    },
    {
      "cell_type": "code",
      "source": [
        "inventory = {\n",
        "    'Laptop': {'price': 800, 'quantity': 10},\n",
        "    'Phone': {'price': 600, 'quantity': 50},\n",
        "    'Tablet': {'price': 300, 'quantity': 20}\n",
        "}\n",
        "valu={i:j['price']*j['quantity'] for i,j in inventory.items()}\n",
        "price=sum(valu.values())\n",
        "print(price)"
      ],
      "metadata": {
        "colab": {
          "base_uri": "https://localhost:8080/"
        },
        "id": "z1upzhinocIX",
        "outputId": "c7443728-4f1c-4c7a-e777-468d57801b22"
      },
      "execution_count": null,
      "outputs": [
        {
          "output_type": "stream",
          "name": "stdout",
          "text": [
            "44000\n"
          ]
        }
      ]
    },
    {
      "cell_type": "code",
      "source": [
        "grades = {\n",
        "    'Alice': {'math': 85, 'science': 90, 'english': 78},\n",
        "    'Bob': {'math': 70, 'science': 82, 'english': 65},\n",
        "    'Charlie': {'math': 92, 'science': 88, 'english': 95}\n",
        "}\n",
        "stu={i:round(sum(j.values())/3,2) for i,j in grades.items()}\n",
        "stu"
      ],
      "metadata": {
        "colab": {
          "base_uri": "https://localhost:8080/"
        },
        "id": "h631u49SohFe",
        "outputId": "a2569a04-7efd-4c3f-9e7e-1c51734e91c7"
      },
      "execution_count": null,
      "outputs": [
        {
          "output_type": "execute_result",
          "data": {
            "text/plain": [
              "{'Alice': 84.33, 'Bob': 72.33, 'Charlie': 91.67}"
            ]
          },
          "metadata": {},
          "execution_count": 23
        }
      ]
    },
    {
      "cell_type": "code",
      "source": [
        "companies = {\n",
        "    'CompanyA': [('Alice', 70000), ('Bob', 60000), ('Charlie', 80000)],\n",
        "    'CompanyB': [('David', 90000), ('Eve', 95000)],\n",
        "    'CompanyC': [('Frank', 50000), ('Grace', 52000), ('Heidi', 51000)]\n",
        "}\n",
        "average={}\n",
        "for i,j in companies.items():\n",
        "  avg=sum(k[1] for k in j)/len(j)\n",
        "  average[i]=round(avg,2)\n",
        "print(average)\n",
        "comp={i:j for i,j in average.items() if j==max(average.values())}\n",
        "comp"
      ],
      "metadata": {
        "colab": {
          "base_uri": "https://localhost:8080/"
        },
        "id": "q5NTfcxmqpEt",
        "outputId": "c7885f59-6f1f-498e-92f1-3846115ffc52"
      },
      "execution_count": null,
      "outputs": [
        {
          "output_type": "stream",
          "name": "stdout",
          "text": [
            "{'CompanyA': 70000.0, 'CompanyB': 92500.0, 'CompanyC': 51000.0}\n"
          ]
        },
        {
          "output_type": "execute_result",
          "data": {
            "text/plain": [
              "{'CompanyB': 92500.0}"
            ]
          },
          "metadata": {},
          "execution_count": 32
        }
      ]
    },
    {
      "cell_type": "code",
      "source": [
        "# Step 1: Calculate average salary for each company\n",
        "avg_salaries = {company: sum(salary for _, salary in employees) / len(employees)\n",
        "                for company, employees in companies.items()}\n",
        "\n",
        "# Step 2: Find the maximum average salary\n",
        "max_avg_salary = max(avg_salaries.values())\n",
        "\n",
        "# Step 3: Use filter to find the company with the maximum average salary\n",
        "highest_avg_company = dict(filter(lambda item: item[1] == max_avg_salary, avg_salaries.items()))\n",
        "\n",
        "print(highest_avg_company)\n"
      ],
      "metadata": {
        "colab": {
          "base_uri": "https://localhost:8080/"
        },
        "id": "VUqEbxYLtgwZ",
        "outputId": "98f1ab0f-8415-4d2b-a4d3-9e06428d9705"
      },
      "execution_count": null,
      "outputs": [
        {
          "output_type": "stream",
          "name": "stdout",
          "text": [
            "{'CompanyB': 92500.0}\n"
          ]
        }
      ]
    },
    {
      "cell_type": "code",
      "source": [
        "students = {\n",
        "    'Alice': [88, 92, 85],\n",
        "    'Bob': [70, 78, 72],\n",
        "    'Charlie': [95, 90, 93]\n",
        "}\n",
        "avg=max([sum(i)/len(i) for i in students.values()])\n",
        "avgs={i:sum(j)/len(j) for i,j in students.items() if sum(j)/len(j)==avg}\n",
        "avgs"
      ],
      "metadata": {
        "colab": {
          "base_uri": "https://localhost:8080/"
        },
        "id": "M6f6_QLiwZhP",
        "outputId": "da8d96e6-8f56-4d9f-cbcc-a126f30b1142"
      },
      "execution_count": null,
      "outputs": [
        {
          "output_type": "execute_result",
          "data": {
            "text/plain": [
              "{'Charlie': 92.66666666666667}"
            ]
          },
          "metadata": {},
          "execution_count": 43
        }
      ]
    },
    {
      "cell_type": "code",
      "source": [
        "\n",
        "lst=[1,2,3,4,5,6,7]\n",
        "lst1=iter(lst)## iterator\n",
        "lst1"
      ],
      "metadata": {
        "colab": {
          "base_uri": "https://localhost:8080/"
        },
        "id": "xEdmEJqXRYxz",
        "outputId": "d03143ff-ba69-4e6f-8236-88de6a4ed583"
      },
      "execution_count": null,
      "outputs": [
        {
          "output_type": "execute_result",
          "data": {
            "text/plain": [
              "<list_iterator at 0x7b627b399db0>"
            ]
          },
          "metadata": {},
          "execution_count": 64
        }
      ]
    },
    {
      "cell_type": "code",
      "source": [
        "next(lst1)"
      ],
      "metadata": {
        "colab": {
          "base_uri": "https://localhost:8080/"
        },
        "id": "XdTA8I0GSOX-",
        "outputId": "dd3212d3-7927-44c0-f39a-b46f10a293fb"
      },
      "execution_count": null,
      "outputs": [
        {
          "output_type": "execute_result",
          "data": {
            "text/plain": [
              "1"
            ]
          },
          "metadata": {},
          "execution_count": 62
        }
      ]
    },
    {
      "cell_type": "code",
      "source": [
        "for i in lst1:\n",
        "  print(i)"
      ],
      "metadata": {
        "colab": {
          "base_uri": "https://localhost:8080/"
        },
        "id": "XByNRbbNSSMu",
        "outputId": "93fb9c62-99ea-4175-9d68-dcc51afc379f"
      },
      "execution_count": null,
      "outputs": [
        {
          "output_type": "stream",
          "name": "stdout",
          "text": [
            "1\n",
            "2\n",
            "3\n",
            "4\n",
            "5\n",
            "6\n",
            "7\n"
          ]
        }
      ]
    },
    {
      "cell_type": "code",
      "source": [
        "def my_gen(n):####Generator\n",
        "  for i in range(n):\n",
        "    yield i\n",
        "g=my_gen(5)\n",
        "next(g)"
      ],
      "metadata": {
        "colab": {
          "base_uri": "https://localhost:8080/"
        },
        "id": "5yPVW68mQo40",
        "outputId": "15b6cf6b-87a3-4081-ab38-4ff6f5dedf53"
      },
      "execution_count": null,
      "outputs": [
        {
          "output_type": "execute_result",
          "data": {
            "text/plain": [
              "0"
            ]
          },
          "metadata": {},
          "execution_count": 11
        }
      ]
    },
    {
      "cell_type": "code",
      "source": [
        "for i in g:\n",
        "  print(i)"
      ],
      "metadata": {
        "colab": {
          "base_uri": "https://localhost:8080/"
        },
        "id": "ndErevyaQsbC",
        "outputId": "bb86aa13-4eef-45dd-ed07-7071039278ad"
      },
      "execution_count": null,
      "outputs": [
        {
          "output_type": "stream",
          "name": "stdout",
          "text": [
            "1\n",
            "2\n",
            "3\n",
            "4\n"
          ]
        }
      ]
    },
    {
      "cell_type": "code",
      "source": [
        "x=lambda x,y:x*y\n",
        "x(5,6)"
      ],
      "metadata": {
        "colab": {
          "base_uri": "https://localhost:8080/"
        },
        "id": "OzLGX4xZfyp_",
        "outputId": "cd56cfb0-d24e-4676-9e68-70ddbfbd722d"
      },
      "execution_count": null,
      "outputs": [
        {
          "output_type": "execute_result",
          "data": {
            "text/plain": [
              "30"
            ]
          },
          "metadata": {},
          "execution_count": 18
        }
      ]
    },
    {
      "cell_type": "code",
      "source": [
        "x=lambda x:'Zero' if x==0 else 'even' if x%2==0 else 'odd'\n",
        "x(3)"
      ],
      "metadata": {
        "colab": {
          "base_uri": "https://localhost:8080/",
          "height": 35
        },
        "id": "ZDeF_JTthQ5d",
        "outputId": "77987dfe-8329-41cf-edc2-b6d7f3a3c5bb"
      },
      "execution_count": null,
      "outputs": [
        {
          "output_type": "execute_result",
          "data": {
            "text/plain": [
              "'odd'"
            ],
            "application/vnd.google.colaboratory.intrinsic+json": {
              "type": "string"
            }
          },
          "metadata": {},
          "execution_count": 23
        }
      ]
    },
    {
      "cell_type": "code",
      "source": [
        "num=[1,2,3,4,5,6,7,8,9,10]\n",
        "stat=list(map(lambda x:('Even',x) if x%2==0 else ('Odd',x),num))\n",
        "print(*stat,sep=',')"
      ],
      "metadata": {
        "colab": {
          "base_uri": "https://localhost:8080/"
        },
        "id": "pQdP8yT1h5as",
        "outputId": "2e875dcb-51f9-46fc-f586-42cd8f3e8f2e"
      },
      "execution_count": null,
      "outputs": [
        {
          "output_type": "stream",
          "name": "stdout",
          "text": [
            "('Odd', 1),('Even', 2),('Odd', 3),('Even', 4),('Odd', 5),('Even', 6),('Odd', 7),('Even', 8),('Odd', 9),('Even', 10)\n"
          ]
        }
      ]
    },
    {
      "cell_type": "code",
      "source": [
        "num=[1,2,3,4,5,6,7,8,9,10]\n",
        "def gen2(num):\n",
        "  for i in num:\n",
        "    yield i\n",
        "\n",
        "geno=gen2(num)\n",
        "next(geno)"
      ],
      "metadata": {
        "colab": {
          "base_uri": "https://localhost:8080/"
        },
        "id": "zr5_tb8_oqYv",
        "outputId": "fffbbcbf-11c2-4e3c-b9e1-4d990e00badc"
      },
      "execution_count": null,
      "outputs": [
        {
          "output_type": "execute_result",
          "data": {
            "text/plain": [
              "1"
            ]
          },
          "metadata": {},
          "execution_count": 80
        }
      ]
    },
    {
      "cell_type": "code",
      "source": [
        "try:\n",
        "  print(next(geno))\n",
        "except StopIteration as e:\n",
        "  print(\"End of iteration\")\n",
        "else:\n",
        "  print(\"-----Success-----\")\n",
        "finally:\n",
        "  print(\"End of program\")"
      ],
      "metadata": {
        "colab": {
          "base_uri": "https://localhost:8080/"
        },
        "id": "h8DnPv1oo-Ec",
        "outputId": "cb3fd033-4e33-4bc3-ff30-1dbe6013ced4"
      },
      "execution_count": null,
      "outputs": [
        {
          "output_type": "stream",
          "name": "stdout",
          "text": [
            "End of iteration\n",
            "End of program\n"
          ]
        }
      ]
    },
    {
      "cell_type": "code",
      "source": [
        "num=[1,2,3,4,5,6,7,8,9,10]\n",
        "nums=list(filter(lambda x:x if x%2==0 else True, num))\n",
        "nums"
      ],
      "metadata": {
        "colab": {
          "base_uri": "https://localhost:8080/"
        },
        "id": "X_AYFMvqtkFL",
        "outputId": "fd65664b-7dc6-482f-e03d-7a73ac93c03b"
      },
      "execution_count": null,
      "outputs": [
        {
          "output_type": "execute_result",
          "data": {
            "text/plain": [
              "[1, 2, 3, 4, 5, 6, 7, 8, 9, 10]"
            ]
          },
          "metadata": {},
          "execution_count": 101
        }
      ]
    },
    {
      "cell_type": "code",
      "source": [
        "class Vehicle:\n",
        "  def __init__(self,brand,model,year):\n",
        "    self.brand=brand\n",
        "    self.model=model\n",
        "    self.year=year\n",
        "  def vehicle_info(self):\n",
        "    print(f\"Brand: {self.brand}, Model: {self.model}, Year: {self.year}\")\n",
        "\n",
        "class Car(Vehicle):\n",
        "  def __init__(self,brand,model,year,fuel_type):\n",
        "    super().__init__(brand,model,year)\n",
        "    self.fuel_type=fuel_type\n",
        "  def vehicle_info(self):\n",
        "    print(f\"Brand: {self.brand}, Model: {self.model}, Year: {self.year}, Fuel: {self.fuel_type}\")\n",
        "\n",
        "ve=Vehicle('ford','f150',2021)\n",
        "ve.vehicle_info()\n",
        "\n",
        "ce=Car('Maruti','Alto',2020,'petrol')\n",
        "ce.vehicle_info()\n"
      ],
      "metadata": {
        "colab": {
          "base_uri": "https://localhost:8080/"
        },
        "id": "EYMVrHw2ZIkP",
        "outputId": "ba358fbe-c869-4505-c1d7-ecb06cdf2b6f"
      },
      "execution_count": null,
      "outputs": [
        {
          "output_type": "stream",
          "name": "stdout",
          "text": [
            "Brand: ford, Model: f150, Year: 2021\n",
            "Brand: Maruti, Model: Alto, Year: 2020, Fuel: petrol\n"
          ]
        }
      ]
    },
    {
      "cell_type": "code",
      "source": [
        "class BankAccount:\n",
        "  def __init__(self,account_holder,balance):\n",
        "    self._account_holder=account_holder\n",
        "    self.__balance=balance\n",
        "  def get_balance(self):\n",
        "    return f\"Balance : {self.__balance}\"\n",
        "  def set_balance(self,amount):\n",
        "    if amount>0:\n",
        "      self.__balance+=amount\n",
        "      print(\"Amount credited\")\n",
        "    else:\n",
        "      print(\"Invalid amount\")\n",
        "  def withdraw(self,amount):\n",
        "    if amount>self.__balance:\n",
        "      print(\"Insufficient Balance\")\n",
        "    else:\n",
        "      self.__balance-=amount\n",
        "      print(f\"{amount} Debited from Account\")\n",
        "\n",
        "b=BankAccount('Hari',5000)\n",
        "print(b.get_balance())\n",
        "b.set_balance(500)\n",
        "print(b.get_balance())\n",
        "b.withdraw(1000)\n",
        "print(b.get_balance())\n",
        "print(b._BankAccount__balance)##### Mangled Name for private attributes"
      ],
      "metadata": {
        "colab": {
          "base_uri": "https://localhost:8080/"
        },
        "id": "t4lVGsxbcnhl",
        "outputId": "c77f2b76-90ad-4760-8b94-e11299ee0947"
      },
      "execution_count": null,
      "outputs": [
        {
          "output_type": "stream",
          "name": "stdout",
          "text": [
            "Balance : 5000\n",
            "Amount credited\n",
            "Balance : 5500\n",
            "1000 Debited from Account\n",
            "Balance : 4500\n",
            "4500\n"
          ]
        }
      ]
    },
    {
      "cell_type": "code",
      "source": [
        "num=10\n",
        "assert num>10"
      ],
      "metadata": {
        "colab": {
          "base_uri": "https://localhost:8080/",
          "height": 159
        },
        "id": "DluVHCzf32tM",
        "outputId": "901073a9-603c-4c74-8a2b-f31b7c39a870"
      },
      "execution_count": null,
      "outputs": [
        {
          "output_type": "error",
          "ename": "AssertionError",
          "evalue": "",
          "traceback": [
            "\u001b[0;31m---------------------------------------------------------------------------\u001b[0m",
            "\u001b[0;31mAssertionError\u001b[0m                            Traceback (most recent call last)",
            "\u001b[0;32m<ipython-input-23-49b7f0e774e1>\u001b[0m in \u001b[0;36m<cell line: 2>\u001b[0;34m()\u001b[0m\n\u001b[1;32m      1\u001b[0m \u001b[0mnum\u001b[0m\u001b[0;34m=\u001b[0m\u001b[0;36m10\u001b[0m\u001b[0;34m\u001b[0m\u001b[0;34m\u001b[0m\u001b[0m\n\u001b[0;32m----> 2\u001b[0;31m \u001b[0;32massert\u001b[0m \u001b[0mnum\u001b[0m\u001b[0;34m>\u001b[0m\u001b[0;36m10\u001b[0m\u001b[0;34m\u001b[0m\u001b[0;34m\u001b[0m\u001b[0m\n\u001b[0m",
            "\u001b[0;31mAssertionError\u001b[0m: "
          ]
        }
      ]
    },
    {
      "cell_type": "code",
      "source": [],
      "metadata": {
        "id": "kg4OU9kd36Xn"
      },
      "execution_count": null,
      "outputs": []
    },
    {
      "cell_type": "code",
      "source": [
        "try:\n",
        "  num=10\n",
        "  assert num>10\n",
        "  print(\"Yes it is\")\n",
        "except AssertionError as e:\n",
        "  print(\"num is not greater than 10\")"
      ],
      "metadata": {
        "colab": {
          "base_uri": "https://localhost:8080/"
        },
        "id": "F8Z66HPq4Ayb",
        "outputId": "6a0aedf0-3b67-4c25-c5d1-caafa33f255e"
      },
      "execution_count": null,
      "outputs": [
        {
          "output_type": "stream",
          "name": "stdout",
          "text": [
            "num is not greater than 10\n"
          ]
        }
      ]
    },
    {
      "cell_type": "code",
      "source": [
        "a=[1,2,3,4,5]\n",
        "b=iter(a)\n",
        "next(b)"
      ],
      "metadata": {
        "colab": {
          "base_uri": "https://localhost:8080/"
        },
        "id": "JKoBSUxp5lnl",
        "outputId": "12fb2db0-3775-4baa-f0e3-2001a1ae3f8d"
      },
      "execution_count": null,
      "outputs": [
        {
          "output_type": "execute_result",
          "data": {
            "text/plain": [
              "1"
            ]
          },
          "metadata": {},
          "execution_count": 36
        }
      ]
    },
    {
      "cell_type": "code",
      "source": [
        "for i in b:\n",
        "  print(i)"
      ],
      "metadata": {
        "colab": {
          "base_uri": "https://localhost:8080/"
        },
        "id": "GVcFCr9B5x9C",
        "outputId": "12dabbe6-98a6-425f-9a90-1587d1606773"
      },
      "execution_count": null,
      "outputs": [
        {
          "output_type": "stream",
          "name": "stdout",
          "text": [
            "2\n",
            "3\n",
            "4\n",
            "5\n"
          ]
        }
      ]
    },
    {
      "cell_type": "code",
      "source": [
        "a=[1,2,3,4,5]\n",
        "def my_gen(a):\n",
        "  for i in a:\n",
        "    yield i\n",
        "a=my_gen(a)"
      ],
      "metadata": {
        "id": "41j_c5Vf6Auj"
      },
      "execution_count": null,
      "outputs": []
    },
    {
      "cell_type": "code",
      "source": [
        "next(a)"
      ],
      "metadata": {
        "colab": {
          "base_uri": "https://localhost:8080/"
        },
        "id": "m1lawoBw6b7K",
        "outputId": "815df39f-75c8-4be3-b564-998e863e8e88"
      },
      "execution_count": null,
      "outputs": [
        {
          "output_type": "execute_result",
          "data": {
            "text/plain": [
              "5"
            ]
          },
          "metadata": {},
          "execution_count": 51
        }
      ]
    },
    {
      "cell_type": "code",
      "source": [
        "class person:\n",
        "  def __init__(self,name,age):\n",
        "    self.name=name\n",
        "    self.age=age\n",
        "  def dis_info(self):\n",
        "    print(f'Name is {self.name}\\nAge is {self.age}')\n",
        "\n",
        "\n",
        "class Employee(person):\n",
        "  def __init__(self,name,age,emp_id):\n",
        "    super().__init__(name,age)\n",
        "    self.emp_id=emp_id\n",
        "  def dis_info(self):\n",
        "    super().dis_info()\n",
        "    print(f\"Emp-id is {self.emp_id}\")\n",
        "\n",
        "class Manager(Employee):\n",
        "  def __init__(self,name,age,emp_id,dep):\n",
        "    super().__init__(name,age,emp_id)\n",
        "    self.dep=dep\n",
        "    self.dep_obj=c.get_name()\n",
        "  def dis_info(self):\n",
        "    super().dis_info()\n",
        "    print(f\"Department is {self.dep}\")\n",
        "    print(f\"DEP_Name is {self.dep_obj}\")\n",
        "\n",
        "p=person(\"Hari\",55)\n",
        "p.dis_info()\n",
        "print()\n",
        "E=Employee(\"Hari\",26,'56khhj')\n",
        "E.dis_info()\n",
        "print()\n",
        "\n",
        "\n",
        "# class Department:\n",
        "#   def __init__(self,dept_name):\n",
        "#     self.dept_name=dept_name\n",
        "#   def get_name(self):\n",
        "#     return self.dept_name\n",
        "\n",
        "# c=Department('mongo')\n",
        "M=Manager(\"Das\",55,'M2khj','Sorting')\n",
        "M.dis_info()\n",
        "\n"
      ],
      "metadata": {
        "colab": {
          "base_uri": "https://localhost:8080/",
          "height": 454
        },
        "id": "6ldLXr3eYG5s",
        "outputId": "7d08c324-34cb-4aae-91bf-443ca9c4c9f2"
      },
      "execution_count": null,
      "outputs": [
        {
          "output_type": "stream",
          "name": "stdout",
          "text": [
            "Name is Hari\n",
            "Age is 55\n",
            "\n",
            "Name is Hari\n",
            "Age is 26\n",
            "Emp-id is 56khhj\n",
            "\n"
          ]
        },
        {
          "output_type": "error",
          "ename": "NameError",
          "evalue": "name 'c' is not defined",
          "traceback": [
            "\u001b[0;31m---------------------------------------------------------------------------\u001b[0m",
            "\u001b[0;31mNameError\u001b[0m                                 Traceback (most recent call last)",
            "\u001b[0;32m<ipython-input-1-902846da8f33>\u001b[0m in \u001b[0;36m<cell line: 42>\u001b[0;34m()\u001b[0m\n\u001b[1;32m     40\u001b[0m \u001b[0;34m\u001b[0m\u001b[0m\n\u001b[1;32m     41\u001b[0m \u001b[0;31m# c=Department('mongo')\u001b[0m\u001b[0;34m\u001b[0m\u001b[0;34m\u001b[0m\u001b[0m\n\u001b[0;32m---> 42\u001b[0;31m \u001b[0mM\u001b[0m\u001b[0;34m=\u001b[0m\u001b[0mManager\u001b[0m\u001b[0;34m(\u001b[0m\u001b[0;34m\"Das\"\u001b[0m\u001b[0;34m,\u001b[0m\u001b[0;36m55\u001b[0m\u001b[0;34m,\u001b[0m\u001b[0;34m'M2khj'\u001b[0m\u001b[0;34m,\u001b[0m\u001b[0;34m'Sorting'\u001b[0m\u001b[0;34m)\u001b[0m\u001b[0;34m\u001b[0m\u001b[0;34m\u001b[0m\u001b[0m\n\u001b[0m\u001b[1;32m     43\u001b[0m \u001b[0mM\u001b[0m\u001b[0;34m.\u001b[0m\u001b[0mdis_info\u001b[0m\u001b[0;34m(\u001b[0m\u001b[0;34m)\u001b[0m\u001b[0;34m\u001b[0m\u001b[0;34m\u001b[0m\u001b[0m\n\u001b[1;32m     44\u001b[0m \u001b[0;34m\u001b[0m\u001b[0m\n",
            "\u001b[0;32m<ipython-input-1-902846da8f33>\u001b[0m in \u001b[0;36m__init__\u001b[0;34m(self, name, age, emp_id, dep)\u001b[0m\n\u001b[1;32m     19\u001b[0m     \u001b[0msuper\u001b[0m\u001b[0;34m(\u001b[0m\u001b[0;34m)\u001b[0m\u001b[0;34m.\u001b[0m\u001b[0m__init__\u001b[0m\u001b[0;34m(\u001b[0m\u001b[0mname\u001b[0m\u001b[0;34m,\u001b[0m\u001b[0mage\u001b[0m\u001b[0;34m,\u001b[0m\u001b[0memp_id\u001b[0m\u001b[0;34m)\u001b[0m\u001b[0;34m\u001b[0m\u001b[0;34m\u001b[0m\u001b[0m\n\u001b[1;32m     20\u001b[0m     \u001b[0mself\u001b[0m\u001b[0;34m.\u001b[0m\u001b[0mdep\u001b[0m\u001b[0;34m=\u001b[0m\u001b[0mdep\u001b[0m\u001b[0;34m\u001b[0m\u001b[0;34m\u001b[0m\u001b[0m\n\u001b[0;32m---> 21\u001b[0;31m     \u001b[0mself\u001b[0m\u001b[0;34m.\u001b[0m\u001b[0mdep_obj\u001b[0m\u001b[0;34m=\u001b[0m\u001b[0mc\u001b[0m\u001b[0;34m.\u001b[0m\u001b[0mget_name\u001b[0m\u001b[0;34m(\u001b[0m\u001b[0;34m)\u001b[0m\u001b[0;34m\u001b[0m\u001b[0;34m\u001b[0m\u001b[0m\n\u001b[0m\u001b[1;32m     22\u001b[0m   \u001b[0;32mdef\u001b[0m \u001b[0mdis_info\u001b[0m\u001b[0;34m(\u001b[0m\u001b[0mself\u001b[0m\u001b[0;34m)\u001b[0m\u001b[0;34m:\u001b[0m\u001b[0;34m\u001b[0m\u001b[0;34m\u001b[0m\u001b[0m\n\u001b[1;32m     23\u001b[0m     \u001b[0msuper\u001b[0m\u001b[0;34m(\u001b[0m\u001b[0;34m)\u001b[0m\u001b[0;34m.\u001b[0m\u001b[0mdis_info\u001b[0m\u001b[0;34m(\u001b[0m\u001b[0;34m)\u001b[0m\u001b[0;34m\u001b[0m\u001b[0;34m\u001b[0m\u001b[0m\n",
            "\u001b[0;31mNameError\u001b[0m: name 'c' is not defined"
          ]
        }
      ]
    },
    {
      "cell_type": "code",
      "source": [
        "for i in range(15):\n",
        "  print(i)\n",
        "  if i==11:\n",
        "    exit()\n",
        "else:\n",
        "  print(\"f\")"
      ],
      "metadata": {
        "colab": {
          "base_uri": "https://localhost:8080/"
        },
        "id": "oYxTJ_SwEOsb",
        "outputId": "abbbb2ae-5b16-4912-e5d9-26147aef7b2f"
      },
      "execution_count": null,
      "outputs": [
        {
          "output_type": "stream",
          "name": "stdout",
          "text": [
            "0\n",
            "1\n",
            "2\n",
            "3\n",
            "4\n",
            "5\n",
            "6\n",
            "7\n",
            "8\n",
            "9\n",
            "10\n",
            "11\n",
            "12\n",
            "13\n",
            "14\n",
            "f\n"
          ]
        }
      ]
    },
    {
      "cell_type": "code",
      "source": [
        "class Manager:\n",
        "  def __init__(self,name,age):\n",
        "    self.__name=name\n",
        "    self.age=age\n",
        "\n",
        "  def __info(self):\n",
        "    print(self.__name,self.age)\n",
        "  def get_age(self):\n",
        "    return self.__name\n",
        "  def get_info(self):\n",
        "    return self.__info()"
      ],
      "metadata": {
        "id": "Cg1QOnhkMgdF"
      },
      "execution_count": null,
      "outputs": []
    },
    {
      "cell_type": "code",
      "source": [
        "m=Manager('hhdh',25)\n",
        "print(m.get_age())\n",
        "m.get_info()"
      ],
      "metadata": {
        "colab": {
          "base_uri": "https://localhost:8080/"
        },
        "id": "WhiBIBbxMymG",
        "outputId": "f902792d-e9e4-42d4-893f-7a36a0eda25d"
      },
      "execution_count": null,
      "outputs": [
        {
          "output_type": "stream",
          "name": "stdout",
          "text": [
            "hhdh\n",
            "hhdh 25\n"
          ]
        }
      ]
    },
    {
      "cell_type": "code",
      "source": [
        "def square(fun):\n",
        "  def wrapper(a,b):\n",
        "    res=fun(a**2,b**2)\n",
        "    return res**2\n",
        "  return wrapper\n",
        "\n",
        "@square\n",
        "def summ(a,b):\n",
        "  return a+b\n",
        "\n",
        "s=summ(2,3)\n",
        "s"
      ],
      "metadata": {
        "colab": {
          "base_uri": "https://localhost:8080/"
        },
        "id": "ZpQGLtnKQzIP",
        "outputId": "e7633ee6-e9f1-4b1b-fc38-809a95a943b5"
      },
      "execution_count": null,
      "outputs": [
        {
          "output_type": "execute_result",
          "data": {
            "text/plain": [
              "169"
            ]
          },
          "metadata": {},
          "execution_count": 43
        }
      ]
    },
    {
      "cell_type": "code",
      "source": [
        "num=[1,2,3,4,5]\n",
        "nums=list(map(lambda x:x+1 if x%2==0 else x,num))\n",
        "print(nums)"
      ],
      "metadata": {
        "colab": {
          "base_uri": "https://localhost:8080/"
        },
        "id": "zDRGFPBKU5yF",
        "outputId": "e788c3e2-2799-4b4f-d48a-3cd865c4e5a7"
      },
      "execution_count": null,
      "outputs": [
        {
          "output_type": "stream",
          "name": "stdout",
          "text": [
            "[1, 3, 3, 5, 5]\n"
          ]
        }
      ]
    },
    {
      "cell_type": "code",
      "source": [
        "num=[1,2,3,4,5]\n",
        "nums=list(filter(lambda x:x%2==0,num))\n",
        "nums"
      ],
      "metadata": {
        "colab": {
          "base_uri": "https://localhost:8080/"
        },
        "id": "Fd8AaATZWPA7",
        "outputId": "11108774-b382-4e03-a031-869a64f18ba3"
      },
      "execution_count": null,
      "outputs": [
        {
          "output_type": "execute_result",
          "data": {
            "text/plain": [
              "[2, 4]"
            ]
          },
          "metadata": {},
          "execution_count": 52
        }
      ]
    },
    {
      "cell_type": "code",
      "source": [
        "from functools import reduce\n",
        "num=[1,2,3,4,5]\n",
        "nums=reduce(lambda x,y:x+y,num)\n",
        "nums"
      ],
      "metadata": {
        "colab": {
          "base_uri": "https://localhost:8080/"
        },
        "id": "3MOd1O2KWfF5",
        "outputId": "6ca6d444-7f47-41dc-e62b-7dc25e323494"
      },
      "execution_count": null,
      "outputs": [
        {
          "output_type": "execute_result",
          "data": {
            "text/plain": [
              "15"
            ]
          },
          "metadata": {},
          "execution_count": 54
        }
      ]
    },
    {
      "cell_type": "code",
      "source": [
        "class Car:\n",
        "  def __init__(self,make,model,year):\n",
        "    self.make=make\n",
        "    self.model=model\n",
        "    self.year=year\n",
        "  def details(self):\n",
        "    return f\"Make:{self.make}, Moedl:{self.model}, Year:{self.year}\"\n",
        "  @classmethod\n",
        "  def from_string(cls,s):\n",
        "    make,model,year=s.split(',')\n",
        "    return cls(make,model,int(year))\n",
        "\n",
        "  @staticmethod\n",
        "  def is_vintage(year):\n",
        "    res=2024-year\n",
        "    return 'Vintage' if res>=25 else 'Not-vintage'\n",
        "\n",
        "\n",
        "car1=Car('BMW','350-D',2023)\n",
        "print(car1.details())\n",
        "car2=Car.from_string('Benz,c-class,2021')\n",
        "print(car2.details())\n",
        "print(Car.is_vintage(1985))"
      ],
      "metadata": {
        "colab": {
          "base_uri": "https://localhost:8080/"
        },
        "id": "m6o-OO2x9Tix",
        "outputId": "8991098e-f2ad-4a0e-e442-5b198fca8603"
      },
      "execution_count": null,
      "outputs": [
        {
          "output_type": "stream",
          "name": "stdout",
          "text": [
            "Make:BMW, Moedl:350-D, Year:2023\n",
            "Make:Benz, Moedl:c-class, Year:2021\n",
            "Vintage\n"
          ]
        }
      ]
    },
    {
      "cell_type": "code",
      "source": [
        "class Electriccar(Car):\n",
        "  def __init__(self,make,model,year,battery_size):\n",
        "    super().__init__(make,model,year)\n",
        "    self.battery_size=battery_size\n",
        "\n",
        "  def battery_info(self):\n",
        "    return self.battery_size\n",
        "\n",
        "  def details(self):\n",
        "    return f\"Make:{self.make}, Moedl:{self.model}, Year:{self.year}, Battery:{self.battery_size}\"\n",
        "\n",
        "  def upgrade_battery(self,val):\n",
        "    self.battery_size=val\n",
        "\n",
        "  def comapre_battery(self,ob1):\n",
        "    bat1=int(self.battery_size[:-2])\n",
        "    bat2=int(ob1.battery_size[:-2])\n",
        "    if bat1>bat2:\n",
        "      return f\"{self.model}\"\n",
        "    elif bat2>bat1:\n",
        "      return f\"{ob1.model}\"\n",
        "    else:\n",
        "      return \"same size\"\n",
        "\n",
        "  def car_range(self):\n",
        "    bat=int(self.battery_size[:-2])\n",
        "    return f\"{bat*5}Km\"\n",
        "\n",
        "  def __str__(self):\n",
        "    return f\"{self.make} {self.model}({self.year}) with a battery sixe of {self.battery_size}\"\n",
        "\n",
        "  def get_age(self):\n",
        "    return 2024-self.year\n",
        "\n",
        "\n",
        "ecar1=Electriccar('Tesla','model-2',2023,'1220Kw')\n",
        "ecar2=Electriccar('Tesla','model-x',2020,'1420Kw')\n",
        "print(ecar1.comapre_battery(ecar2))\n",
        "print(ecar1.car_range())\n",
        "print(ecar2)\n",
        "print(ecar2.get_age())"
      ],
      "metadata": {
        "colab": {
          "base_uri": "https://localhost:8080/"
        },
        "id": "yzXaouwh-rCM",
        "outputId": "e3477713-067b-4c7d-c065-5bcb430cbad5"
      },
      "execution_count": null,
      "outputs": [
        {
          "output_type": "stream",
          "name": "stdout",
          "text": [
            "model-x\n",
            "6100Km\n",
            "Tesla model-x(2020) with a battery sixe of 1420Kw\n",
            "4\n"
          ]
        }
      ]
    },
    {
      "cell_type": "code",
      "source": [],
      "metadata": {
        "id": "e3gnGV1g-9rc"
      },
      "execution_count": null,
      "outputs": []
    },
    {
      "cell_type": "code",
      "source": [
        "input_list = [1, 2, 3, 4, 5, 6]\n",
        "output_list = [i for i in input_list if i%2==0]\n",
        "output_list\n"
      ],
      "metadata": {
        "colab": {
          "base_uri": "https://localhost:8080/"
        },
        "id": "64QMPI8lL1DO",
        "outputId": "a8469a94-58e6-4a38-a525-d2be0407ff55"
      },
      "execution_count": null,
      "outputs": [
        {
          "output_type": "execute_result",
          "data": {
            "text/plain": [
              "[2, 4, 6]"
            ]
          },
          "metadata": {},
          "execution_count": 2
        }
      ]
    },
    {
      "cell_type": "code",
      "source": [
        "inp = \"hellohari\"\n",
        "dic={}\n",
        "for i in inp:\n",
        "  if i in dic:\n",
        "    dic[i]+=1\n",
        "  else:\n",
        "    dic[i]=1\n",
        "print(dic)"
      ],
      "metadata": {
        "colab": {
          "base_uri": "https://localhost:8080/"
        },
        "id": "ba2KFzm1MURv",
        "outputId": "7f0edfe1-fbbf-4d4f-e957-467fbc8d4fb0"
      },
      "execution_count": null,
      "outputs": [
        {
          "output_type": "stream",
          "name": "stdout",
          "text": [
            "{'h': 2, 'e': 1, 'l': 2, 'o': 1, 'a': 1, 'r': 1, 'i': 1}\n"
          ]
        }
      ]
    },
    {
      "cell_type": "code",
      "source": [
        "input_list = [1, 2, 2, 3, 4, 4, 5]\n",
        "output_list = list(set(input_list))\n",
        "output_list\n"
      ],
      "metadata": {
        "colab": {
          "base_uri": "https://localhost:8080/"
        },
        "id": "WsSJuoaFNC2L",
        "outputId": "921ad1b2-7a16-4463-8314-3a6f7800bdb2"
      },
      "execution_count": null,
      "outputs": [
        {
          "output_type": "execute_result",
          "data": {
            "text/plain": [
              "[1, 2, 3, 4, 5]"
            ]
          },
          "metadata": {},
          "execution_count": 5
        }
      ]
    },
    {
      "cell_type": "code",
      "source": [
        "inp = \"racekcar\"\n",
        "l=0\n",
        "r=len(inp)-1\n",
        "flag=0\n",
        "while l<r:\n",
        "  if inp[l]!=inp[r]:\n",
        "    flag=1\n",
        "    break\n",
        "  l+=1\n",
        "  r-=1\n",
        "if flag==0:\n",
        "  print('P')\n",
        "else:\n",
        "  print('N')\n",
        "\n"
      ],
      "metadata": {
        "colab": {
          "base_uri": "https://localhost:8080/"
        },
        "id": "P6en9NkMNZ4r",
        "outputId": "4ebb1b9c-999e-428c-91c5-df10d36c9318"
      },
      "execution_count": null,
      "outputs": [
        {
          "output_type": "stream",
          "name": "stdout",
          "text": [
            "N\n"
          ]
        }
      ]
    },
    {
      "cell_type": "code",
      "source": [
        "inp = \"hello\"\n",
        "out=''+inp[::-1]\n",
        "print(out)"
      ],
      "metadata": {
        "colab": {
          "base_uri": "https://localhost:8080/"
        },
        "id": "L4-hk-IJPKq1",
        "outputId": "5b00f53b-822a-4968-c666-45d8150373a3"
      },
      "execution_count": null,
      "outputs": [
        {
          "output_type": "stream",
          "name": "stdout",
          "text": [
            "olleh\n"
          ]
        }
      ]
    },
    {
      "cell_type": "code",
      "source": [
        "lis = [1, 2, 2, 3, 4, 4, 5]\n",
        "out=[]\n",
        "for i in lis:\n",
        "  if i not in out:\n",
        "    out.append(i)\n",
        "out"
      ],
      "metadata": {
        "colab": {
          "base_uri": "https://localhost:8080/"
        },
        "id": "aqkob2gjPwCP",
        "outputId": "2670b96a-7351-45d6-a156-d2f3fd31612a"
      },
      "execution_count": null,
      "outputs": [
        {
          "output_type": "execute_result",
          "data": {
            "text/plain": [
              "[1, 2, 3, 4, 5]"
            ]
          },
          "metadata": {},
          "execution_count": 7
        }
      ]
    },
    {
      "cell_type": "code",
      "source": [
        "tup = (1, 2, 3, 4, 5, 6)\n",
        "out=(i for i in tup if i%2==0)\n",
        "tuple(out)"
      ],
      "metadata": {
        "colab": {
          "base_uri": "https://localhost:8080/"
        },
        "id": "lZpkTOyHQXcR",
        "outputId": "dd7f4837-6205-4643-d1a4-a20c2795b427"
      },
      "execution_count": null,
      "outputs": [
        {
          "output_type": "execute_result",
          "data": {
            "text/plain": [
              "(2, 4, 6)"
            ]
          },
          "metadata": {},
          "execution_count": 11
        }
      ]
    },
    {
      "cell_type": "code",
      "source": [
        "lis = [1, 2, 3, 4, 5]\n",
        "set1 = set(lis)\n",
        "set2 = {3, 4, 5, 6}\n",
        "intr={i for i in set1 if i in set2}\n",
        "intr"
      ],
      "metadata": {
        "colab": {
          "base_uri": "https://localhost:8080/"
        },
        "id": "vcTzmQtMRKR1",
        "outputId": "1d5e5651-c499-490c-cca1-7a9fe0e91b63"
      },
      "execution_count": null,
      "outputs": [
        {
          "output_type": "execute_result",
          "data": {
            "text/plain": [
              "{3, 4, 5}"
            ]
          },
          "metadata": {},
          "execution_count": 12
        }
      ]
    },
    {
      "cell_type": "code",
      "source": [
        "scores = {'Alice': 85, 'Bob': 92, 'Charlie': 87}\n",
        "for i,j in scores.items():\n",
        "  if j==max(scores.values()):\n",
        "    print(i)"
      ],
      "metadata": {
        "colab": {
          "base_uri": "https://localhost:8080/"
        },
        "id": "WkTZZfW0R7pZ",
        "outputId": "1b00ed1c-1216-4c4e-b04d-fafe5ba90374"
      },
      "execution_count": null,
      "outputs": [
        {
          "output_type": "stream",
          "name": "stdout",
          "text": [
            "Bob\n"
          ]
        }
      ]
    },
    {
      "cell_type": "code",
      "source": [
        "top=max(scores,key=scores.get)\n",
        "top"
      ],
      "metadata": {
        "colab": {
          "base_uri": "https://localhost:8080/",
          "height": 35
        },
        "id": "gL4rhF5XS6C0",
        "outputId": "e38045bc-bfb3-4424-a8e7-00bcf67c1b01"
      },
      "execution_count": null,
      "outputs": [
        {
          "output_type": "execute_result",
          "data": {
            "text/plain": [
              "'Bob'"
            ],
            "application/vnd.google.colaboratory.intrinsic+json": {
              "type": "string"
            }
          },
          "metadata": {},
          "execution_count": 20
        }
      ]
    },
    {
      "cell_type": "code",
      "source": [
        "li=[1,2,3,4,5,6,9,44,68,23,21,55]\n",
        "l=0\n",
        "sl=0\n",
        "for i in li:\n",
        "  if i%2!=0:\n",
        "    if i>l:\n",
        "      sl=l\n",
        "      l=i\n",
        "    elif i>sl and i<l:\n",
        "      sl=i\n",
        "print(l,sl)\n"
      ],
      "metadata": {
        "colab": {
          "base_uri": "https://localhost:8080/"
        },
        "id": "AtLdlt7o90NW",
        "outputId": "82bd23a3-a851-4824-c14e-185b6ee1d4f1"
      },
      "execution_count": null,
      "outputs": [
        {
          "output_type": "stream",
          "name": "stdout",
          "text": [
            "55 23\n"
          ]
        }
      ]
    },
    {
      "cell_type": "code",
      "source": [
        "nm={'ha':25,'gh':66,'jf':23}\n",
        "print(nm)\n",
        "val=max(nm.values())\n",
        "key=None\n",
        "for i in nm:\n",
        "  if nm[i]==val:\n",
        "    key=i\n",
        "\n",
        "del nm[key]\n",
        "nm"
      ],
      "metadata": {
        "colab": {
          "base_uri": "https://localhost:8080/"
        },
        "id": "C6af2Vpv_DlR",
        "outputId": "998102a6-ad1e-46f2-d92a-5892ee6f638b"
      },
      "execution_count": null,
      "outputs": [
        {
          "output_type": "stream",
          "name": "stdout",
          "text": [
            "{'ha': 25, 'gh': 66, 'jf': 23}\n"
          ]
        },
        {
          "output_type": "execute_result",
          "data": {
            "text/plain": [
              "{'ha': 25, 'jf': 23}"
            ]
          },
          "metadata": {},
          "execution_count": 2
        }
      ]
    },
    {
      "cell_type": "code",
      "source": [
        "people = {\n",
        "    \"John\": 34,\n",
        "    \"Alice\": 29,\n",
        "    \"Bob\": 42,\n",
        "    \"Diana\": 25\n",
        "}\n",
        "for i in people:\n",
        "  if people[i]==max(people.values()):\n",
        "    print(i)"
      ],
      "metadata": {
        "colab": {
          "base_uri": "https://localhost:8080/"
        },
        "id": "PRmYspRJD72c",
        "outputId": "d1b0198d-c768-4cfc-d018-87c6d716ef14"
      },
      "execution_count": null,
      "outputs": [
        {
          "output_type": "stream",
          "name": "stdout",
          "text": [
            "Bob\n"
          ]
        }
      ]
    },
    {
      "cell_type": "code",
      "source": [
        "oldest_age = max(people.values())\n",
        "oldest_person = list(filter(lambda x: people[x] == oldest_age, people))[0]\n",
        "print(oldest_person)\n"
      ],
      "metadata": {
        "colab": {
          "base_uri": "https://localhost:8080/"
        },
        "id": "VC3Vnn7RFWTb",
        "outputId": "5746d26d-88f1-4bc3-e4e9-dc0db2d59c62"
      },
      "execution_count": null,
      "outputs": [
        {
          "output_type": "stream",
          "name": "stdout",
          "text": [
            "Bob\n"
          ]
        }
      ]
    },
    {
      "cell_type": "code",
      "source": [
        "dict1 = {\n",
        "    \"a\": 1,\n",
        "    \"b\": 2,\n",
        "    \"c\": 3\n",
        "}\n",
        "\n",
        "dict2 = {\n",
        "    \"b\": 20,\n",
        "    \"d\": 4\n",
        "}\n",
        "dict1.update(dict2)\n",
        "print(dict1)"
      ],
      "metadata": {
        "colab": {
          "base_uri": "https://localhost:8080/"
        },
        "id": "Gt0raNIgIO5X",
        "outputId": "bd941983-e25d-40ed-c1ac-5811a48d7213"
      },
      "execution_count": null,
      "outputs": [
        {
          "output_type": "stream",
          "name": "stdout",
          "text": [
            "{'a': 1, 'b': 20, 'c': 3, 'd': 4}\n"
          ]
        }
      ]
    },
    {
      "cell_type": "code",
      "source": [
        "numbers = {\n",
        "    \"a\": 5,\n",
        "    \"b\": 12,\n",
        "    \"c\": 7,\n",
        "    \"d\": 20,\n",
        "    \"e\": 3\n",
        "}\n",
        "num={i:j for i,j in numbers.items() if j>10}\n",
        "num"
      ],
      "metadata": {
        "colab": {
          "base_uri": "https://localhost:8080/"
        },
        "id": "bp_GtgPJIs4V",
        "outputId": "a8013f13-dba5-475c-e01b-f1c167193fb2"
      },
      "execution_count": null,
      "outputs": [
        {
          "output_type": "execute_result",
          "data": {
            "text/plain": [
              "{'b': 12, 'd': 20}"
            ]
          },
          "metadata": {},
          "execution_count": 12
        }
      ]
    },
    {
      "cell_type": "code",
      "source": [
        "num=dict(filter(lambda x:x[1]>10,numbers.items()))\n",
        "num"
      ],
      "metadata": {
        "colab": {
          "base_uri": "https://localhost:8080/"
        },
        "id": "d7EFdbOUJMgL",
        "outputId": "d6a04822-a9da-4e91-d061-3eb8198dbe56"
      },
      "execution_count": null,
      "outputs": [
        {
          "output_type": "execute_result",
          "data": {
            "text/plain": [
              "{'b': 12, 'd': 20}"
            ]
          },
          "metadata": {},
          "execution_count": 13
        }
      ]
    },
    {
      "cell_type": "code",
      "source": [],
      "metadata": {
        "id": "SeViAceFJbpE"
      },
      "execution_count": null,
      "outputs": []
    },
    {
      "cell_type": "code",
      "source": [
        "fruits = {\n",
        "    \"apple\": \"red\",\n",
        "    \"cherry\": \"red\",\n",
        "    \"banana\": \"yellow\",\n",
        "    \"lemon\": \"yellow\",\n",
        "    \"grape\": \"purple\"\n",
        "}\n",
        "val={}\n",
        "for i in fruits.values():\n",
        "  if i in val:\n",
        "    val[i]+=1\n",
        "  else:\n",
        "    val[i]=1\n",
        "val\n"
      ],
      "metadata": {
        "colab": {
          "base_uri": "https://localhost:8080/"
        },
        "id": "1oLDLhiYKIZ0",
        "outputId": "a3db9d1a-c0ac-4635-ee74-d4b5f3927f4e"
      },
      "execution_count": null,
      "outputs": [
        {
          "output_type": "execute_result",
          "data": {
            "text/plain": [
              "{'red': 2, 'yellow': 2, 'purple': 1}"
            ]
          },
          "metadata": {},
          "execution_count": 24
        }
      ]
    },
    {
      "cell_type": "code",
      "source": [
        "original = {\n",
        "    \"a\": 1,\n",
        "    \"b\": 2,\n",
        "    \"c\": 3\n",
        "}\n",
        "invert={}\n",
        "for i in original:\n",
        "  invert[original[i]]=i\n",
        "\n",
        "invert\n"
      ],
      "metadata": {
        "colab": {
          "base_uri": "https://localhost:8080/"
        },
        "id": "NH7YWx0nLhqO",
        "outputId": "8f592911-5297-4be1-86d7-3dec1ecc7281"
      },
      "execution_count": null,
      "outputs": [
        {
          "output_type": "execute_result",
          "data": {
            "text/plain": [
              "{1: 'a', 2: 'b', 3: 'c'}"
            ]
          },
          "metadata": {},
          "execution_count": 12
        }
      ]
    },
    {
      "cell_type": "code",
      "source": [
        "inv={j:i for i,j in original.items()}\n",
        "inv"
      ],
      "metadata": {
        "colab": {
          "base_uri": "https://localhost:8080/"
        },
        "id": "NutnNWIegPcI",
        "outputId": "f3fb31a6-e48b-493e-e45b-8a1a7c2926f6"
      },
      "execution_count": null,
      "outputs": [
        {
          "output_type": "execute_result",
          "data": {
            "text/plain": [
              "{1: 'a', 2: 'b', 3: 'c'}"
            ]
          },
          "metadata": {},
          "execution_count": 13
        }
      ]
    },
    {
      "cell_type": "code",
      "source": [
        "data = [\n",
        "    (\"fruit\", \"apple\"),\n",
        "    (\"fruit\", \"banana\"),\n",
        "    (\"vegetable\", \"carrot\"),\n",
        "    (\"fruit\", \"orange\"),\n",
        "    (\"vegetable\", \"lettuce\"),\n",
        "]\n",
        "\n",
        "dict1={}\n",
        "for i in data:\n",
        "  if i[0] not in dict1:\n",
        "    dict1[i[0]]=[i[1]]\n",
        "  else:\n",
        "    dict1[i[0]].append(i[1])\n",
        "\n",
        "dict1"
      ],
      "metadata": {
        "colab": {
          "base_uri": "https://localhost:8080/"
        },
        "id": "m4Iy1Ch2hcAj",
        "outputId": "308a25cd-7e35-4d9f-d0f8-d709fc9593a0"
      },
      "execution_count": null,
      "outputs": [
        {
          "output_type": "execute_result",
          "data": {
            "text/plain": [
              "{'fruit': ['apple', 'banana', 'orange'], 'vegetable': ['carrot', 'lettuce']}"
            ]
          },
          "metadata": {},
          "execution_count": 16
        }
      ]
    },
    {
      "cell_type": "code",
      "source": [
        "inventory = {\n",
        "    \"Alice\": \"apple\",\n",
        "    \"Bob\": \"banana\",\n",
        "    \"Charlie\": \"apple\",\n",
        "    \"David\": \"orange\",\n",
        "    \"Eve\": \"banana\"\n",
        "}\n",
        "val={}\n",
        "for i,j in inventory.items():\n",
        "  if j in val:\n",
        "    val[j]+=1\n",
        "  else:\n",
        "    val[j]=1\n",
        "for i in val:\n",
        "  if val[i]==max(val.values()):\n",
        "    print(i,end=' ')"
      ],
      "metadata": {
        "colab": {
          "base_uri": "https://localhost:8080/"
        },
        "id": "GCzRm5hhi8OS",
        "outputId": "4b492bb7-5a23-4bae-b4f5-8a7511055700"
      },
      "execution_count": null,
      "outputs": [
        {
          "output_type": "stream",
          "name": "stdout",
          "text": [
            "apple banana "
          ]
        }
      ]
    },
    {
      "cell_type": "code",
      "source": [
        "data = {\n",
        "    \"a\": 1,\n",
        "    \"b\": 2,\n",
        "    \"c\": 1,\n",
        "    \"d\": 3,\n",
        "    \"e\": 1\n",
        "}\n",
        "\n",
        "key=[i for i,j in data.items() if j==1]\n",
        "for i in key:\n",
        "  del data[i]\n",
        "\n",
        "data"
      ],
      "metadata": {
        "colab": {
          "base_uri": "https://localhost:8080/"
        },
        "id": "_MJNv1PWj6vQ",
        "outputId": "71bea259-81cb-45a6-ec25-dceee4fd4725"
      },
      "execution_count": null,
      "outputs": [
        {
          "output_type": "execute_result",
          "data": {
            "text/plain": [
              "{'b': 2, 'd': 3}"
            ]
          },
          "metadata": {},
          "execution_count": 30
        }
      ]
    },
    {
      "cell_type": "code",
      "source": [
        "nested_dict = {\n",
        "    \"fruits\": {\n",
        "        \"apple\": 1,\n",
        "        \"banana\": 2\n",
        "    },\n",
        "    \"vegetables\": {\n",
        "        \"carrot\": 3,\n",
        "        \"lettuce\": 4\n",
        "    }\n",
        "}\n",
        "\n",
        "my={}\n",
        "for i,j in nested_dict.items():\n",
        "  for k,l in j.items():\n",
        "    my[f\"{i}_{k}\"]=l\n",
        "\n",
        "my\n"
      ],
      "metadata": {
        "colab": {
          "base_uri": "https://localhost:8080/"
        },
        "id": "yWDVaCldltkv",
        "outputId": "588b7a42-70b7-4429-f67a-57313ddf3164"
      },
      "execution_count": null,
      "outputs": [
        {
          "output_type": "execute_result",
          "data": {
            "text/plain": [
              "{'fruits_apple': 1,\n",
              " 'fruits_banana': 2,\n",
              " 'vegetables_carrot': 3,\n",
              " 'vegetables_lettuce': 4}"
            ]
          },
          "metadata": {},
          "execution_count": 31
        }
      ]
    },
    {
      "cell_type": "code",
      "source": [
        "a=[]\n",
        "a.extend([4,5])\n",
        "a"
      ],
      "metadata": {
        "colab": {
          "base_uri": "https://localhost:8080/"
        },
        "id": "pGBe6N1Xnoxv",
        "outputId": "4f90c440-79ca-44eb-dc75-ad3caf303226"
      },
      "execution_count": null,
      "outputs": [
        {
          "output_type": "execute_result",
          "data": {
            "text/plain": [
              "[4, 5]"
            ]
          },
          "metadata": {},
          "execution_count": 35
        }
      ]
    },
    {
      "cell_type": "code",
      "source": [
        "dict1 = {\n",
        "    \"a\": 1,\n",
        "    \"b\": 2,\n",
        "    \"c\": 3\n",
        "}\n",
        "\n",
        "dict2 = {\n",
        "    \"b\": 3,\n",
        "    \"c\": 4,\n",
        "    \"d\": 5\n",
        "}\n",
        "\n",
        "dict3={i:j for i,j in dict1.items()}\n",
        "for key,val in dict2.items():\n",
        "  if key in dict3:\n",
        "    if type(dict3[key])=='list':\n",
        "      dict3[key].append(val)\n",
        "    else:\n",
        "      dict3[key]=[dict3[key],val]\n",
        "  else:\n",
        "    dict3[key]=val\n",
        "\n",
        "\n",
        "dict3"
      ],
      "metadata": {
        "colab": {
          "base_uri": "https://localhost:8080/"
        },
        "id": "46QEUeGpoC3H",
        "outputId": "43739ec4-a2ee-4caa-9058-9ed9da2ddadd"
      },
      "execution_count": null,
      "outputs": [
        {
          "output_type": "execute_result",
          "data": {
            "text/plain": [
              "{'a': 1, 'b': [2, 3], 'c': [3, 4], 'd': 5}"
            ]
          },
          "metadata": {},
          "execution_count": 45
        }
      ]
    },
    {
      "cell_type": "code",
      "source": [
        "inp = \"Hello World\"\n",
        "input=inp.split(' ')\n",
        "inpu=''.join(input)\n",
        "inpu\n"
      ],
      "metadata": {
        "colab": {
          "base_uri": "https://localhost:8080/",
          "height": 35
        },
        "id": "etLTHDlgyZno",
        "outputId": "21f349ce-abdc-4356-ceb1-876cc27052a4"
      },
      "execution_count": null,
      "outputs": [
        {
          "output_type": "execute_result",
          "data": {
            "text/plain": [
              "'HelloWorld'"
            ],
            "application/vnd.google.colaboratory.intrinsic+json": {
              "type": "string"
            }
          },
          "metadata": {},
          "execution_count": 52
        }
      ]
    },
    {
      "cell_type": "code",
      "source": [
        "inp = \"Hello World\"\n",
        "val={}\n",
        "for i in inpu:\n",
        "  if i in val:\n",
        "    val[i]+=1\n",
        "  else:\n",
        "    val[i]=1\n",
        "\n",
        "val\n"
      ],
      "metadata": {
        "colab": {
          "base_uri": "https://localhost:8080/"
        },
        "id": "P-6zzHvex_I7",
        "outputId": "bf4e4a83-b726-4e17-f0b7-5b33b0efd4dc"
      },
      "execution_count": null,
      "outputs": [
        {
          "output_type": "execute_result",
          "data": {
            "text/plain": [
              "{'H': 1, 'e': 1, 'l': 3, 'o': 2, 'W': 1, 'r': 1, 'd': 1}"
            ]
          },
          "metadata": {},
          "execution_count": 53
        }
      ]
    },
    {
      "cell_type": "code",
      "source": [
        "numbers = [4, 5, 6, 5, 4, 3, 6, 4, 6, 7]\n",
        "fre={}\n",
        "for i in numbers:\n",
        "  if i in fre:\n",
        "    fre[i]+=1\n",
        "  else:\n",
        "    fre[i]=1\n",
        "\n",
        "res={}\n",
        "for i,j in fre.items():\n",
        "  if j not in res:\n",
        "    res[j]=[i]\n",
        "  else:\n",
        "    res[j].append(i)\n",
        "\n",
        "res\n"
      ],
      "metadata": {
        "colab": {
          "base_uri": "https://localhost:8080/"
        },
        "id": "yKgq16QW0ogh",
        "outputId": "3aff2422-9290-4dfe-f117-453f8a27fba8"
      },
      "execution_count": null,
      "outputs": [
        {
          "output_type": "execute_result",
          "data": {
            "text/plain": [
              "{3: [4, 6], 2: [5], 1: [3, 7]}"
            ]
          },
          "metadata": {},
          "execution_count": 57
        }
      ]
    },
    {
      "cell_type": "code",
      "source": [
        "items = {\n",
        "    \"apple\": 10,\n",
        "    \"banana\": 5,\n",
        "    \"orange\": 5,\n",
        "    \"mango\": 12\n",
        "}\n",
        "val=min(items.values())\n",
        "for i,j in items.items():\n",
        "  if j==val:\n",
        "    print(i,end=' ')"
      ],
      "metadata": {
        "colab": {
          "base_uri": "https://localhost:8080/"
        },
        "id": "D_Hg9ZVj2Y2w",
        "outputId": "43380814-a2af-40a6-f9d8-edf2b52c72f5"
      },
      "execution_count": null,
      "outputs": [
        {
          "output_type": "stream",
          "name": "stdout",
          "text": [
            "banana orange "
          ]
        }
      ]
    },
    {
      "cell_type": "code",
      "source": [
        "name='harikrishnan'\n",
        "name=name[:-1]+name[-1].upper()\n",
        "name"
      ],
      "metadata": {
        "colab": {
          "base_uri": "https://localhost:8080/",
          "height": 35
        },
        "id": "bI74fiHuBDvp",
        "outputId": "f039095d-d0db-49fa-9d7e-462acdf022fc"
      },
      "execution_count": null,
      "outputs": [
        {
          "output_type": "execute_result",
          "data": {
            "text/plain": [
              "'harikrishnaN'"
            ],
            "application/vnd.google.colaboratory.intrinsic+json": {
              "type": "string"
            }
          },
          "metadata": {},
          "execution_count": 3
        }
      ]
    },
    {
      "cell_type": "code",
      "source": [
        "numbers = [1, 2, 3, 4, 5]\n",
        "sqrs=list(map(lambda x:x*x,numbers))\n",
        "sqrs"
      ],
      "metadata": {
        "colab": {
          "base_uri": "https://localhost:8080/"
        },
        "id": "i4mNajhkJKHT",
        "outputId": "a7bf79b8-a14c-4fa4-fe61-79901708a294"
      },
      "execution_count": null,
      "outputs": [
        {
          "output_type": "execute_result",
          "data": {
            "text/plain": [
              "[1, 4, 9, 16, 25]"
            ]
          },
          "metadata": {},
          "execution_count": 4
        }
      ]
    },
    {
      "cell_type": "code",
      "source": [
        "numbers = [10, 15, 20, 25, 30, 35]\n",
        "even=list(filter(lambda x:x%2==0,numbers))\n",
        "even"
      ],
      "metadata": {
        "colab": {
          "base_uri": "https://localhost:8080/"
        },
        "id": "JtUaUCfbJgKX",
        "outputId": "c06fc6a7-f83f-4995-b4ba-0e978e1e6300"
      },
      "execution_count": null,
      "outputs": [
        {
          "output_type": "execute_result",
          "data": {
            "text/plain": [
              "[10, 20, 30]"
            ]
          },
          "metadata": {},
          "execution_count": 5
        }
      ]
    },
    {
      "cell_type": "code",
      "source": [
        "words = ['apple', 'banana', 'cherry', 'date']\n",
        "length=[len(i) for i in words]\n",
        "length"
      ],
      "metadata": {
        "colab": {
          "base_uri": "https://localhost:8080/"
        },
        "id": "Nki_ZIxOKOAW",
        "outputId": "e5582bb0-9de1-4970-a8fa-f712b87d4755"
      },
      "execution_count": null,
      "outputs": [
        {
          "output_type": "execute_result",
          "data": {
            "text/plain": [
              "[5, 6, 6, 4]"
            ]
          },
          "metadata": {},
          "execution_count": 6
        }
      ]
    },
    {
      "cell_type": "code",
      "source": [
        "numbers = [1, 2, 3, 4, 5]\n",
        "cubes={i:i**3 for i in numbers}\n",
        "cubes"
      ],
      "metadata": {
        "colab": {
          "base_uri": "https://localhost:8080/"
        },
        "id": "BPnM_V1GKjV7",
        "outputId": "c17961d0-d42d-481b-e3ec-f8520248d56e"
      },
      "execution_count": null,
      "outputs": [
        {
          "output_type": "execute_result",
          "data": {
            "text/plain": [
              "{1: 1, 2: 8, 3: 27, 4: 64, 5: 125}"
            ]
          },
          "metadata": {},
          "execution_count": 8
        }
      ]
    },
    {
      "cell_type": "code",
      "source": [
        "from functools import reduce\n",
        "numbers = [2, 3, 4]\n",
        "sum=reduce(lambda x,y:x*y,numbers)\n",
        "sum"
      ],
      "metadata": {
        "colab": {
          "base_uri": "https://localhost:8080/"
        },
        "id": "tVZaHezXLL6r",
        "outputId": "63fea1c8-4c81-448d-dab9-a30b8617bc30"
      },
      "execution_count": null,
      "outputs": [
        {
          "output_type": "execute_result",
          "data": {
            "text/plain": [
              "24"
            ]
          },
          "metadata": {},
          "execution_count": 10
        }
      ]
    },
    {
      "cell_type": "code",
      "source": [
        "ages = {'Alice': 22, 'Bob': 17, 'Charlie': 18, 'David': 16}\n",
        "abv_18={i:j for i,j in ages.items() if j>=18}\n",
        "abv_18"
      ],
      "metadata": {
        "colab": {
          "base_uri": "https://localhost:8080/"
        },
        "id": "wmbvJelNMpec",
        "outputId": "e88b9260-ef0e-480f-db19-7704d79604c1"
      },
      "execution_count": null,
      "outputs": [
        {
          "output_type": "execute_result",
          "data": {
            "text/plain": [
              "{'Alice': 22, 'Charlie': 18}"
            ]
          },
          "metadata": {},
          "execution_count": 13
        }
      ]
    },
    {
      "cell_type": "code",
      "source": [
        "students = [\n",
        "    {'name': 'Alice', 'score': 45},\n",
        "    {'name': 'Bob', 'score': 55},\n",
        "    {'name': 'Charlie', 'score': 70},\n",
        "    {'name': 'David', 'score': 30}\n",
        "]\n",
        "\n",
        "student=list(map(lambda x:x if x['score']>50 else '',students))\n",
        "student"
      ],
      "metadata": {
        "colab": {
          "base_uri": "https://localhost:8080/"
        },
        "id": "ZU_VeKz7Ndw3",
        "outputId": "ee1ffa70-ead9-4815-cd9b-722853909eea"
      },
      "execution_count": null,
      "outputs": [
        {
          "output_type": "stream",
          "name": "stdout",
          "text": [
            "45\n",
            "55\n",
            "70\n",
            "30\n"
          ]
        },
        {
          "output_type": "execute_result",
          "data": {
            "text/plain": [
              "['', {'name': 'Bob', 'score': 55}, {'name': 'Charlie', 'score': 70}, '']"
            ]
          },
          "metadata": {},
          "execution_count": 20
        }
      ]
    },
    {
      "cell_type": "code",
      "source": [],
      "metadata": {
        "id": "QebrGBvKP11m"
      },
      "execution_count": null,
      "outputs": []
    },
    {
      "cell_type": "code",
      "source": [
        "stu=[i for i in students if i['score']>50]\n",
        "stu"
      ],
      "metadata": {
        "colab": {
          "base_uri": "https://localhost:8080/"
        },
        "id": "Ff4ejXqTRAHB",
        "outputId": "bf35393f-3a0e-489f-9a62-4b0436e71d85"
      },
      "execution_count": null,
      "outputs": [
        {
          "output_type": "execute_result",
          "data": {
            "text/plain": [
              "[{'name': 'Bob', 'score': 55}, {'name': 'Charlie', 'score': 70}]"
            ]
          },
          "metadata": {},
          "execution_count": 21
        }
      ]
    },
    {
      "cell_type": "code",
      "source": [
        "numbers = [1, 2, 3, 4, 5, 6, 7, 8, 9, 10, 11, 12]\n",
        "nums=[i for i in numbers if i%3==0]\n",
        "nums"
      ],
      "metadata": {
        "colab": {
          "base_uri": "https://localhost:8080/"
        },
        "id": "tjAhK48CRTVb",
        "outputId": "57bc40c2-e2b0-4dd8-d97f-b4e3a47ba3cc"
      },
      "execution_count": null,
      "outputs": [
        {
          "output_type": "execute_result",
          "data": {
            "text/plain": [
              "[3, 6, 9, 12]"
            ]
          },
          "metadata": {},
          "execution_count": 23
        }
      ]
    },
    {
      "cell_type": "code",
      "source": [
        "nums=list(filter(lambda x:x%3==0,numbers))\n",
        "nums"
      ],
      "metadata": {
        "colab": {
          "base_uri": "https://localhost:8080/"
        },
        "id": "8zRkQ5osRabx",
        "outputId": "27a71b8f-8e6b-4eab-dcb5-d1558d4792d6"
      },
      "execution_count": null,
      "outputs": [
        {
          "output_type": "execute_result",
          "data": {
            "text/plain": [
              "[3, 6, 9, 12]"
            ]
          },
          "metadata": {},
          "execution_count": 24
        }
      ]
    },
    {
      "cell_type": "code",
      "source": [
        "numbers = [1, 2, 3, 4, 5, 6, 7, 8, 9, 10, 11, 12]\n",
        "num=[i for i in numbers if i%3==0]"
      ],
      "metadata": {
        "id": "9fZ6nYxfSdh4"
      },
      "execution_count": null,
      "outputs": []
    },
    {
      "cell_type": "code",
      "source": [
        "prices = [10.99, 20.50, 5.99, 15.00]\n",
        "sum1=round(reduce(lambda x,y:x+y,prices),2)\n",
        "sum1"
      ],
      "metadata": {
        "colab": {
          "base_uri": "https://localhost:8080/"
        },
        "id": "jWF4bxKKSq4-",
        "outputId": "9c856695-ef60-4580-9397-e552a50fe7e8"
      },
      "execution_count": null,
      "outputs": [
        {
          "output_type": "execute_result",
          "data": {
            "text/plain": [
              "52.48"
            ]
          },
          "metadata": {},
          "execution_count": 27
        }
      ]
    },
    {
      "cell_type": "code",
      "source": [
        "products = {\n",
        "    'apple': 1.00,\n",
        "    'banana': 0.50,\n",
        "    'orange': 0.75\n",
        "}\n",
        "updated={i:j*1.1 for i,j in products.items()}\n",
        "updated"
      ],
      "metadata": {
        "colab": {
          "base_uri": "https://localhost:8080/"
        },
        "id": "Fpd8F3d_TM9X",
        "outputId": "668f8ab5-6f9d-4612-c8cc-7f37b5328bbd"
      },
      "execution_count": null,
      "outputs": [
        {
          "output_type": "execute_result",
          "data": {
            "text/plain": [
              "{'apple': 1.1, 'banana': 0.55, 'orange': 0.8250000000000001}"
            ]
          },
          "metadata": {},
          "execution_count": 29
        }
      ]
    },
    {
      "cell_type": "code",
      "source": [
        "people = [('Alice', 30), ('Bob', 25), ('Charlie', 35)]\n",
        "data= [{'name':i[0],'age':i[1]} for i in people]\n",
        "data"
      ],
      "metadata": {
        "colab": {
          "base_uri": "https://localhost:8080/"
        },
        "id": "-8QML91rYY3l",
        "outputId": "75e9b15e-0bbb-479f-a1b7-335382c62cbd"
      },
      "execution_count": null,
      "outputs": [
        {
          "output_type": "execute_result",
          "data": {
            "text/plain": [
              "[{'name': 'Alice', 'age': 30},\n",
              " {'name': 'Bob', 'age': 25},\n",
              " {'name': 'Charlie', 'age': 35}]"
            ]
          },
          "metadata": {},
          "execution_count": 1
        }
      ]
    },
    {
      "cell_type": "code",
      "source": [
        "names = ['alice', 'bob', 'charlie']\n",
        "name=list(map(lambda x:x.upper(),names))\n",
        "name"
      ],
      "metadata": {
        "colab": {
          "base_uri": "https://localhost:8080/"
        },
        "id": "TmUw4qzgahPT",
        "outputId": "dc4e9f8a-d789-4639-adb5-ee88c440be1d"
      },
      "execution_count": null,
      "outputs": [
        {
          "output_type": "execute_result",
          "data": {
            "text/plain": [
              "['ALICE', 'BOB', 'CHARLIE']"
            ]
          },
          "metadata": {},
          "execution_count": 2
        }
      ]
    },
    {
      "cell_type": "code",
      "source": [
        "numbers = [5, 10, 15, 20, 25, 30]\n",
        "nums=list(filter(lambda x:x>10,numbers))\n",
        "nums"
      ],
      "metadata": {
        "colab": {
          "base_uri": "https://localhost:8080/"
        },
        "id": "lUb1tZ9ZawLv",
        "outputId": "da0910a8-540f-44c5-ec5f-2cda7ba6bcda"
      },
      "execution_count": null,
      "outputs": [
        {
          "output_type": "execute_result",
          "data": {
            "text/plain": [
              "[15, 20, 25, 30]"
            ]
          },
          "metadata": {},
          "execution_count": 3
        }
      ]
    },
    {
      "cell_type": "code",
      "source": [
        "type('name')"
      ],
      "metadata": {
        "colab": {
          "base_uri": "https://localhost:8080/"
        },
        "id": "Clcf8ZOQbLZp",
        "outputId": "923fcf14-ca71-444b-aabb-1aaea4d7c9d5"
      },
      "execution_count": null,
      "outputs": [
        {
          "output_type": "execute_result",
          "data": {
            "text/plain": [
              "str"
            ]
          },
          "metadata": {},
          "execution_count": 5
        }
      ]
    },
    {
      "cell_type": "code",
      "source": [
        "mixed = [1, 'apple', 2, 'banana', 3, 'cherry']\n",
        "strings=[i for i in mixed if isinstance(i,str)]\n",
        "strings"
      ],
      "metadata": {
        "colab": {
          "base_uri": "https://localhost:8080/"
        },
        "id": "KyO_IIcCbBTL",
        "outputId": "50e841d1-3f0f-410a-98db-1d863aa1f78c"
      },
      "execution_count": null,
      "outputs": [
        {
          "output_type": "execute_result",
          "data": {
            "text/plain": [
              "['apple', 'banana', 'cherry']"
            ]
          },
          "metadata": {},
          "execution_count": 9
        }
      ]
    },
    {
      "cell_type": "code",
      "source": [
        "from functools import reduce\n",
        "numbers = [10, 5, 20, 15]\n",
        "mx=reduce(lambda x,y:x if x>y else y,numbers)\n",
        "mx"
      ],
      "metadata": {
        "colab": {
          "base_uri": "https://localhost:8080/"
        },
        "id": "4jOqmzJwbqBG",
        "outputId": "858f0dfb-28e7-47c1-e9a6-0c81f7b13938"
      },
      "execution_count": null,
      "outputs": [
        {
          "output_type": "execute_result",
          "data": {
            "text/plain": [
              "20"
            ]
          },
          "metadata": {},
          "execution_count": 12
        }
      ]
    },
    {
      "cell_type": "code",
      "source": [
        "people = [\n",
        "    ('Alice', 22, ['red', 'blue']),\n",
        "    ('Bob', 17, ['green']),\n",
        "    ('Charlie', 18, ['yellow', 'pink']),\n",
        "    ('David', 25, ['purple', 'orange'])\n",
        "]\n",
        "data={i[0]:i[2] for i in people if i[1]>=18}\n",
        "data"
      ],
      "metadata": {
        "colab": {
          "base_uri": "https://localhost:8080/"
        },
        "id": "STzIZ97pdscV",
        "outputId": "ec14b685-19e4-43b1-e7b5-48f50fcb3771"
      },
      "execution_count": null,
      "outputs": [
        {
          "output_type": "execute_result",
          "data": {
            "text/plain": [
              "{'Alice': ['red', 'blue'],\n",
              " 'Charlie': ['yellow', 'pink'],\n",
              " 'David': ['purple', 'orange']}"
            ]
          },
          "metadata": {},
          "execution_count": 2
        }
      ]
    },
    {
      "cell_type": "code",
      "source": [
        "products = [\n",
        "    {'name': 'Laptop', 'price': 899.99},\n",
        "    {'name': 'Mouse', 'price': 25.00},\n",
        "    {'name': 'Keyboard', 'price': 49.99},\n",
        "    {'name': 'Monitor', 'price': 199.99},\n",
        "    {'name': 'USB Cable', 'price': 10.00}\n",
        "]\n",
        "data=[{'name':i['name'].lower(),'price':i['price']} for i in products if i['price']>20]\n",
        "data"
      ],
      "metadata": {
        "colab": {
          "base_uri": "https://localhost:8080/"
        },
        "id": "pAyW_ZMseMrL",
        "outputId": "350d0d37-765f-42ea-f520-f3c6f9ecdda6"
      },
      "execution_count": null,
      "outputs": [
        {
          "output_type": "execute_result",
          "data": {
            "text/plain": [
              "[{'name': 'laptop', 'price': 899.99},\n",
              " {'name': 'mouse', 'price': 25.0},\n",
              " {'name': 'keyboard', 'price': 49.99},\n",
              " {'name': 'monitor', 'price': 199.99}]"
            ]
          },
          "metadata": {},
          "execution_count": 4
        }
      ]
    },
    {
      "cell_type": "code",
      "source": [
        "students = [\n",
        "    {'name': 'Alice', 'grades': [55, 70, 65]},\n",
        "    {'name': 'Bob', 'grades': [45, 50]},\n",
        "    {'name': 'Charlie', 'grades': [80, 85, 90]},\n",
        "    {'name': 'David', 'grades': [30, 40, 50]}\n",
        "]\n",
        "val=[i for inner in students for i in inner['grades'] if i >= 60]\n",
        "val"
      ],
      "metadata": {
        "colab": {
          "base_uri": "https://localhost:8080/"
        },
        "id": "wuPSmCZVfhjY",
        "outputId": "e0400aba-4a63-40cc-97fb-a68aeb7902fb"
      },
      "execution_count": null,
      "outputs": [
        {
          "output_type": "execute_result",
          "data": {
            "text/plain": [
              "[70, 65, 80, 85, 90]"
            ]
          },
          "metadata": {},
          "execution_count": 11
        }
      ]
    },
    {
      "cell_type": "code",
      "source": [
        "fruits = [\n",
        "    {'name': 'apple', 'quantity': 10},\n",
        "    {'name': 'banana', 'quantity': 3},\n",
        "    {'name': 'cherry', 'quantity': 7},\n",
        "    {'name': 'date', 'quantity': 5},\n",
        "    {'name': 'elderberry', 'quantity': 12}\n",
        "]\n",
        "data={i['name']:i['quantity']*2 for i in fruits if i['quantity']>5}\n",
        "data"
      ],
      "metadata": {
        "colab": {
          "base_uri": "https://localhost:8080/"
        },
        "id": "2BuF82gLiKv3",
        "outputId": "6c00a086-5812-4112-ecce-4c1b7b5a4167"
      },
      "execution_count": null,
      "outputs": [
        {
          "output_type": "execute_result",
          "data": {
            "text/plain": [
              "{'apple': 20, 'cherry': 14, 'elderberry': 24}"
            ]
          },
          "metadata": {},
          "execution_count": 14
        }
      ]
    },
    {
      "cell_type": "code",
      "source": [
        "students = [\n",
        "    {'name': 'Alice', 'grades': [90, 80, 70]},\n",
        "    {'name': 'Bob', 'grades': [60, 70]},\n",
        "    {'name': 'Charlie', 'grades': [100, 90, 80, 70]},\n",
        "    {'name': 'David', 'grades': [50]}\n",
        "]\n",
        "data={i['name']:sum(i['grades'])/len(i['grades']) for i in students if len(i['grades'])>=3}\n",
        "data"
      ],
      "metadata": {
        "colab": {
          "base_uri": "https://localhost:8080/"
        },
        "id": "bejRklDKjTMo",
        "outputId": "5cbebaeb-855f-4866-e13e-34343e98165e"
      },
      "execution_count": null,
      "outputs": [
        {
          "output_type": "execute_result",
          "data": {
            "text/plain": [
              "{'Alice': 80.0, 'Charlie': 85.0}"
            ]
          },
          "metadata": {},
          "execution_count": 17
        }
      ]
    },
    {
      "cell_type": "code",
      "source": [
        "products = [\n",
        "    {'name': 'Laptop', 'price': 899.99},\n",
        "    {'name': 'Mouse', 'price': 25.00},\n",
        "    {'name': 'Keyboard', 'price': 49.99},\n",
        "    {'name': 'Monitor', 'price': 199.99},\n",
        "    {'name': 'USB Cable', 'price': 15.00}\n",
        "]\n",
        "data=[i['name'] for i in products if i['price']*.9 > 30]\n",
        "data"
      ],
      "metadata": {
        "colab": {
          "base_uri": "https://localhost:8080/"
        },
        "id": "0l6TrDPfkQvm",
        "outputId": "966206be-b4d7-4227-c0c5-abb94470d9aa"
      },
      "execution_count": null,
      "outputs": [
        {
          "output_type": "execute_result",
          "data": {
            "text/plain": [
              "['Laptop', 'Keyboard', 'Monitor']"
            ]
          },
          "metadata": {},
          "execution_count": 18
        }
      ]
    },
    {
      "cell_type": "code",
      "source": [
        "employees = [\n",
        "    {'name': 'Alice', 'salary': 60000},\n",
        "    {'name': 'Bob', 'salary': 45000},\n",
        "    {'name': 'Charlie', 'salary': 70000},\n",
        "    {'name': 'David', 'salary': 48000}\n",
        "]\n",
        "data={i['name']:i['salary']*1.05 for i in employees if i['salary']>50000}\n",
        "data"
      ],
      "metadata": {
        "colab": {
          "base_uri": "https://localhost:8080/"
        },
        "id": "rj4MdFvqlL97",
        "outputId": "64b1f239-def8-449b-c2f2-1d497318c768"
      },
      "execution_count": null,
      "outputs": [
        {
          "output_type": "execute_result",
          "data": {
            "text/plain": [
              "{'Alice': 63000.0, 'Charlie': 73500.0}"
            ]
          },
          "metadata": {},
          "execution_count": 19
        }
      ]
    },
    {
      "cell_type": "code",
      "source": [
        "students = [\n",
        "    {'name': 'Eve', 'scores': [85, 70, 90]},\n",
        "    {'name': 'Frank', 'scores': [60, 65, 70]},\n",
        "    {'name': 'Grace', 'scores': [75, 80, 85]},\n",
        "    {'name': 'Heidi', 'scores': [50, 55, 60]}\n",
        "]\n",
        "data=[i['name'] for i in students if sum(i['scores'])/len(i['scores'])>=75]\n",
        "data"
      ],
      "metadata": {
        "colab": {
          "base_uri": "https://localhost:8080/"
        },
        "id": "rBcd-p0-lusv",
        "outputId": "62c3bb19-cd29-4430-f333-d48a2d5a97b7"
      },
      "execution_count": null,
      "outputs": [
        {
          "output_type": "execute_result",
          "data": {
            "text/plain": [
              "['Eve', 'Grace']"
            ]
          },
          "metadata": {},
          "execution_count": 20
        }
      ]
    },
    {
      "cell_type": "code",
      "source": [
        "products = [\n",
        "    {'name': 'Shampoo', 'quantity': 15},\n",
        "    {'name': 'Soap', 'quantity': 8},\n",
        "    {'name': 'Conditioner', 'quantity': 20},\n",
        "    {'name': 'Toothpaste', 'quantity': 5}\n",
        "]\n",
        "data={i['name']:i['quantity']*2 for i in products if i['quantity']>10}\n",
        "data"
      ],
      "metadata": {
        "colab": {
          "base_uri": "https://localhost:8080/"
        },
        "id": "k9m4-X6TmSvG",
        "outputId": "b695e657-168c-4b21-a53e-2f5133446318"
      },
      "execution_count": null,
      "outputs": [
        {
          "output_type": "execute_result",
          "data": {
            "text/plain": [
              "{'Shampoo': 30, 'Conditioner': 40}"
            ]
          },
          "metadata": {},
          "execution_count": 21
        }
      ]
    },
    {
      "cell_type": "code",
      "source": [
        "cars = [\n",
        "    {'make': 'Toyota', 'model': 'Camry', 'year': 2012},\n",
        "    {'make': 'Honda', 'model': 'Civic', 'year': 2009},\n",
        "    {'make': 'Ford', 'model': 'Focus', 'year': 2015},\n",
        "    {'make': 'Chevrolet', 'model': 'Malibu', 'year': 2008}\n",
        "]\n",
        "data=[f\"{i['make']} {i['model']} ({i['year']})\" for i in cars if i['year']>=2010]\n",
        "data"
      ],
      "metadata": {
        "colab": {
          "base_uri": "https://localhost:8080/"
        },
        "id": "xVz1w0Y7mwD1",
        "outputId": "e7d5989a-aa54-4714-d1e1-eb2cd78f4669"
      },
      "execution_count": null,
      "outputs": [
        {
          "output_type": "execute_result",
          "data": {
            "text/plain": [
              "['Toyota Camry (2012)', 'Ford Focus (2015)']"
            ]
          },
          "metadata": {},
          "execution_count": 29
        }
      ]
    },
    {
      "cell_type": "code",
      "source": [],
      "metadata": {
        "id": "N2VxVL-mnphG"
      },
      "execution_count": null,
      "outputs": []
    },
    {
      "cell_type": "code",
      "source": [
        "def nums(x):\n",
        "  for i in range(1,x):\n",
        "    yield i\n",
        "\n",
        "y=nums(5)\n",
        "print(next(y))"
      ],
      "metadata": {
        "colab": {
          "base_uri": "https://localhost:8080/"
        },
        "id": "UxwhgyIohyUK",
        "outputId": "fe3ea44a-3ee4-4111-9f8b-364d96a338e0"
      },
      "execution_count": null,
      "outputs": [
        {
          "output_type": "stream",
          "name": "stdout",
          "text": [
            "1\n"
          ]
        }
      ]
    },
    {
      "cell_type": "code",
      "source": [
        "for i in y:\n",
        "  print(i)"
      ],
      "metadata": {
        "colab": {
          "base_uri": "https://localhost:8080/"
        },
        "id": "n4F3fDiOiorJ",
        "outputId": "082c3035-73dd-4f4b-f642-b926ccd84296"
      },
      "execution_count": null,
      "outputs": [
        {
          "output_type": "stream",
          "name": "stdout",
          "text": [
            "2\n",
            "3\n",
            "4\n"
          ]
        }
      ]
    },
    {
      "cell_type": "code",
      "source": [
        "def funmain(fu):\n",
        "  def wrapper():\n",
        "    print('Hello')\n",
        "    fu()\n",
        "    print('Bi')\n",
        "  return wrapper\n",
        "\n",
        "@funmain\n",
        "def fun():\n",
        "  print('Hi')\n",
        "\n",
        "x=fun()"
      ],
      "metadata": {
        "colab": {
          "base_uri": "https://localhost:8080/"
        },
        "id": "9qtaCHGEmU1R",
        "outputId": "58696ce1-9f2b-4e03-8d8b-ed83081dfd02"
      },
      "execution_count": null,
      "outputs": [
        {
          "output_type": "stream",
          "name": "stdout",
          "text": [
            "Hello\n",
            "Hi\n",
            "Bi\n"
          ]
        }
      ]
    },
    {
      "cell_type": "code",
      "source": [
        "def time(func):\n",
        "  def wrapper(a,b):\n",
        "    print('start')\n",
        "    f=func(a,b)\n",
        "    print(f)\n",
        "    print('End')\n",
        "\n",
        "  return wrapper\n",
        "\n",
        "@time\n",
        "def sum(a,b):\n",
        "  return a+b\n",
        "\n",
        "s=sum(9,9)\n"
      ],
      "metadata": {
        "colab": {
          "base_uri": "https://localhost:8080/"
        },
        "id": "cIIOeeSZm5Mv",
        "outputId": "22649c30-543a-453d-bfc8-cbd8350ad9fc"
      },
      "execution_count": null,
      "outputs": [
        {
          "output_type": "stream",
          "name": "stdout",
          "text": [
            "start\n",
            "18\n",
            "End\n"
          ]
        }
      ]
    },
    {
      "cell_type": "code",
      "source": [
        "numbers = [3, 5, 7, 9, 11, 13, 15]\n",
        "num=list(filter(lambda x:x%3==0,numbers))\n",
        "num"
      ],
      "metadata": {
        "colab": {
          "base_uri": "https://localhost:8080/"
        },
        "id": "JGATWb_F0bQC",
        "outputId": "b7aa0fd9-16e0-41eb-c941-10fac30aa5d4"
      },
      "execution_count": null,
      "outputs": [
        {
          "output_type": "execute_result",
          "data": {
            "text/plain": [
              "[3, 9, 15]"
            ]
          },
          "metadata": {},
          "execution_count": 3
        }
      ]
    },
    {
      "cell_type": "code",
      "source": [
        "num=[i for i in numbers if i%3==0]\n",
        "num"
      ],
      "metadata": {
        "colab": {
          "base_uri": "https://localhost:8080/"
        },
        "id": "ledTF4dL0sks",
        "outputId": "7a147c69-e349-4d40-cc93-fdbcdbc446c8"
      },
      "execution_count": null,
      "outputs": [
        {
          "output_type": "execute_result",
          "data": {
            "text/plain": [
              "[3, 9, 15]"
            ]
          },
          "metadata": {},
          "execution_count": 4
        }
      ]
    },
    {
      "cell_type": "code",
      "source": [
        "salaries = {'Alice': 6000, 'Bob': 4500, 'Charlie': 8000, 'Diana': 4000}\n",
        "for i in salaries:\n",
        "  salaries[i]=round(salaries[i]*1.1,3)\n",
        "\n",
        "salaries"
      ],
      "metadata": {
        "colab": {
          "base_uri": "https://localhost:8080/"
        },
        "id": "CyeROpj-090R",
        "outputId": "70c8b112-7435-4ba1-d87b-78a6c4f8f8e1"
      },
      "execution_count": null,
      "outputs": [
        {
          "output_type": "execute_result",
          "data": {
            "text/plain": [
              "{'Alice': 6600.0, 'Bob': 4950.0, 'Charlie': 8800.0, 'Diana': 4400.0}"
            ]
          },
          "metadata": {},
          "execution_count": 8
        }
      ]
    },
    {
      "cell_type": "code",
      "source": [
        "sentence = \"Python programming is both fun and powerful.\"\n",
        "l=' '.join([i[::-1] for i in sentence.split(' ')])\n",
        "l"
      ],
      "metadata": {
        "colab": {
          "base_uri": "https://localhost:8080/",
          "height": 35
        },
        "id": "5nbO7YOY18tG",
        "outputId": "0e6bbd92-7bec-4c49-d434-93ddf3ecff58"
      },
      "execution_count": null,
      "outputs": [
        {
          "output_type": "execute_result",
          "data": {
            "text/plain": [
              "'nohtyP gnimmargorp si htob nuf dna .lufrewop'"
            ],
            "application/vnd.google.colaboratory.intrinsic+json": {
              "type": "string"
            }
          },
          "metadata": {},
          "execution_count": 16
        }
      ]
    },
    {
      "cell_type": "code",
      "source": [
        "numbers_tuple = (2, 4, 6, 8, 10, 12, 14, 16, 18)\n",
        "even=[i for i in numbers_tuple if i%2==0 and i>10]\n",
        "even"
      ],
      "metadata": {
        "colab": {
          "base_uri": "https://localhost:8080/"
        },
        "id": "7FoNtZ1l21pi",
        "outputId": "4e73da70-2074-4f72-a440-c53c3880a12e"
      },
      "execution_count": null,
      "outputs": [
        {
          "output_type": "execute_result",
          "data": {
            "text/plain": [
              "[12, 14, 16, 18]"
            ]
          },
          "metadata": {},
          "execution_count": 21
        }
      ]
    },
    {
      "cell_type": "code",
      "source": [
        "even=list(filter(lambda x:x%2==0 and x>10,numbers_tuple))\n",
        "even"
      ],
      "metadata": {
        "colab": {
          "base_uri": "https://localhost:8080/"
        },
        "id": "7F6Nl9vI3lKc",
        "outputId": "537ae1b7-efd8-413d-ef96-e4157e2a1fe5"
      },
      "execution_count": null,
      "outputs": [
        {
          "output_type": "execute_result",
          "data": {
            "text/plain": [
              "[12, 14, 16, 18]"
            ]
          },
          "metadata": {},
          "execution_count": 22
        }
      ]
    },
    {
      "cell_type": "code",
      "source": [
        "set1 = {1, 2, 3, 4, 5}\n",
        "set2 = {4, 5, 6, 7, 8}\n",
        "set3=set1.intersection(set2)\n",
        "print(set3)\n",
        "set4=set1&set2\n",
        "\n",
        "print(set4)"
      ],
      "metadata": {
        "colab": {
          "base_uri": "https://localhost:8080/"
        },
        "id": "SehPDWQ637Dq",
        "outputId": "a6d00841-75c7-4a9f-fff3-ac52842f6744"
      },
      "execution_count": null,
      "outputs": [
        {
          "output_type": "stream",
          "name": "stdout",
          "text": [
            "{4, 5}\n",
            "{4, 5}\n"
          ]
        }
      ]
    },
    {
      "cell_type": "code",
      "source": [
        "numbers = [1, 2, 3, 4, 5, 6, 7, 8, 9, 10]\n",
        "nums=[i*i for i in numbers if i%2!=0]\n",
        "nums\n",
        "\n",
        "num=list(map(lambda x:x*x,list(filter(lambda x:x%2!=0,numbers))))\n",
        "num"
      ],
      "metadata": {
        "colab": {
          "base_uri": "https://localhost:8080/"
        },
        "id": "KI3bwskG4UKt",
        "outputId": "6a288d8b-7fce-4afe-ec34-1be22b5fa064"
      },
      "execution_count": null,
      "outputs": [
        {
          "output_type": "execute_result",
          "data": {
            "text/plain": [
              "[1, 9, 25, 49, 81]"
            ]
          },
          "metadata": {},
          "execution_count": 40
        }
      ]
    },
    {
      "cell_type": "code",
      "source": [
        "lines = [\n",
        "        \"Name: Alice, Salary: 6000\\n\",\n",
        "        \"Name: Bob, Salary: 4500\\n\",\n",
        "        \"Name: Charlie, Salary: 8000\\n\",\n",
        "        \"Name: Diana, Salary: 4000\\n\"\n",
        "    ]\n",
        "\n",
        "    # Open the file in write mode\n",
        "with open('employees.txt', 'w') as file:\n",
        "      file.writelines(lines)"
      ],
      "metadata": {
        "id": "KQSFt4BC6TR1"
      },
      "execution_count": null,
      "outputs": []
    },
    {
      "cell_type": "code",
      "source": [
        "with open('employees.txt', 'r') as file:\n",
        "  content=file.read()\n",
        "  print(content)"
      ],
      "metadata": {
        "colab": {
          "base_uri": "https://localhost:8080/"
        },
        "id": "CFRb6OaW6hie",
        "outputId": "7d08f46a-8bd5-43ec-b947-330dd1800668"
      },
      "execution_count": null,
      "outputs": [
        {
          "output_type": "stream",
          "name": "stdout",
          "text": [
            "Name: Alice, Salary: 6000\n",
            "Name: Bob, Salary: 4500\n",
            "Name: Charlie, Salary: 8000\n",
            "Name: Diana, Salary: 4000\n",
            "\n"
          ]
        }
      ]
    },
    {
      "cell_type": "code",
      "source": [],
      "metadata": {
        "id": "6K3mXxF7Ctmp"
      },
      "execution_count": null,
      "outputs": []
    },
    {
      "cell_type": "code",
      "source": [
        "for i in range(1,6):\n",
        "  for j in range(1,i+1):\n",
        "    print('*',end=\" \")\n",
        "  print()\n"
      ],
      "metadata": {
        "colab": {
          "base_uri": "https://localhost:8080/"
        },
        "id": "7pqOfoOHCwBy",
        "outputId": "65ce0580-e327-4f21-b598-8d91d468edc0"
      },
      "execution_count": null,
      "outputs": [
        {
          "output_type": "stream",
          "name": "stdout",
          "text": [
            "* \n",
            "* * \n",
            "* * * \n",
            "* * * * \n",
            "* * * * * \n"
          ]
        }
      ]
    },
    {
      "cell_type": "code",
      "source": [
        "for i in range(5,0,-1):\n",
        "  for j in range(i):\n",
        "    print('*',end=' ')\n",
        "  print()"
      ],
      "metadata": {
        "colab": {
          "base_uri": "https://localhost:8080/"
        },
        "id": "H_oY-R3oDaVv",
        "outputId": "54ef9539-cca7-417c-9bd4-ddfeb0be0a81"
      },
      "execution_count": null,
      "outputs": [
        {
          "output_type": "stream",
          "name": "stdout",
          "text": [
            "* * * * * \n",
            "* * * * \n",
            "* * * \n",
            "* * \n",
            "* \n"
          ]
        }
      ]
    },
    {
      "cell_type": "code",
      "source": [],
      "metadata": {
        "id": "_ijW1KDfEC6r"
      },
      "execution_count": null,
      "outputs": []
    },
    {
      "cell_type": "code",
      "source": [
        "n=7\n",
        "for i in range(n,0,-1):\n",
        "  for j in range(i):\n",
        "    print(' ',end='')\n",
        "  for k in range(n+1-i):\n",
        "    print('*',end=' ')\n",
        "  print()"
      ],
      "metadata": {
        "colab": {
          "base_uri": "https://localhost:8080/"
        },
        "id": "RTIulKjbEWai",
        "outputId": "f29c2179-8963-48ee-8a57-cacd139007c5"
      },
      "execution_count": null,
      "outputs": [
        {
          "output_type": "stream",
          "name": "stdout",
          "text": [
            "       * \n",
            "      * * \n",
            "     * * * \n",
            "    * * * * \n",
            "   * * * * * \n",
            "  * * * * * * \n",
            " * * * * * * * \n"
          ]
        }
      ]
    },
    {
      "cell_type": "code",
      "source": [
        "n=13\n",
        "v=n//2+1\n",
        "s=1\n",
        "m=2\n",
        "j=n//2\n",
        "for i in range(1,n+1):\n",
        "  if i<=n//2+1:\n",
        "    for i in range(v):\n",
        "      print(' ',end='')\n",
        "    for i in range(s):\n",
        "      print('*',end=' ')\n",
        "    v-=1\n",
        "    s+=1\n",
        "    print()\n",
        "  if i>n//2+1:\n",
        "    for i in range(m):\n",
        "      print(' ',end='')\n",
        "    for i in range(j):\n",
        "      print('*',end=' ')\n",
        "    m+=1\n",
        "    j-=1\n",
        "    print()\n"
      ],
      "metadata": {
        "colab": {
          "base_uri": "https://localhost:8080/"
        },
        "id": "h3HwQEnXFpPt",
        "outputId": "6d8ac54e-677e-4958-c42e-79b5700f474f"
      },
      "execution_count": null,
      "outputs": [
        {
          "output_type": "stream",
          "name": "stdout",
          "text": [
            "       * \n",
            "      * * \n",
            "     * * * \n",
            "    * * * * \n",
            "   * * * * * \n",
            "  * * * * * * \n",
            " * * * * * * * \n",
            "  * * * * * * \n",
            "   * * * * * \n",
            "    * * * * \n",
            "     * * * \n",
            "      * * \n",
            "       * \n"
          ]
        }
      ]
    },
    {
      "cell_type": "code",
      "source": [],
      "metadata": {
        "id": "guZS2wwQKmPV"
      },
      "execution_count": null,
      "outputs": []
    },
    {
      "cell_type": "code",
      "source": [
        "n = 10 # Change this to any odd or even number\n",
        "\n",
        "# Calculate the number of rows for the top half and bottom half\n",
        "if n % 2 == 0:\n",
        "    half = n // 2\n",
        "else:\n",
        "    half = n // 2 + 1\n",
        "\n",
        "# Top half of the diamond\n",
        "v = half - 1  # Starting spaces\n",
        "s = 1  # Starting stars\n",
        "\n",
        "for i in range(half):\n",
        "    print(' ' * v + '* ' * s)\n",
        "    v -= 1\n",
        "    s += 1\n",
        "\n",
        "# Bottom half of the diamond\n",
        "v = 1  # Reset spaces for the bottom half\n",
        "s = half - 1  # Starting stars for the bottom half\n",
        "\n",
        "for i in range(half - 1):\n",
        "    print(' ' * v + '* ' * s)\n",
        "    v += 1\n",
        "    s -= 1\n"
      ],
      "metadata": {
        "colab": {
          "base_uri": "https://localhost:8080/"
        },
        "id": "NBbjwa9sLBhY",
        "outputId": "5408f2ed-cf7a-4c77-ef56-41e3463ded37"
      },
      "execution_count": null,
      "outputs": [
        {
          "output_type": "stream",
          "name": "stdout",
          "text": [
            "    * \n",
            "   * * \n",
            "  * * * \n",
            " * * * * \n",
            "* * * * * \n",
            " * * * * \n",
            "  * * * \n",
            "   * * \n",
            "    * \n"
          ]
        }
      ]
    },
    {
      "cell_type": "code",
      "source": [
        "for i in range(1,6):\n",
        "  for j in range(1,6):\n",
        "    if i==1 or i==5 or j==1 or j==5:\n",
        "      print('*',end=' ')\n",
        "    else:\n",
        "      print(' ',end=' ')\n",
        "  print()"
      ],
      "metadata": {
        "colab": {
          "base_uri": "https://localhost:8080/"
        },
        "id": "865VzfaxRCje",
        "outputId": "2f3f8c1b-34aa-488d-ebfa-adf9c8b24e2e"
      },
      "execution_count": null,
      "outputs": [
        {
          "output_type": "stream",
          "name": "stdout",
          "text": [
            "* * * * * \n",
            "*       * \n",
            "*       * \n",
            "*       * \n",
            "* * * * * \n"
          ]
        }
      ]
    },
    {
      "cell_type": "code",
      "source": [
        "lst = [1, 2, 2, 3, 4, 4, 5, 1]\n",
        "for i in range(len(lst)-1,-1,-1):\n",
        "  if lst[i] in lst[:i]:\n",
        "    lst.pop(i)\n",
        "lst"
      ],
      "metadata": {
        "colab": {
          "base_uri": "https://localhost:8080/"
        },
        "id": "BFCHrEhYjKk9",
        "outputId": "29b52b0b-4ea4-497f-9f6e-462f2b034666"
      },
      "execution_count": null,
      "outputs": [
        {
          "output_type": "execute_result",
          "data": {
            "text/plain": [
              "[1, 2, 3, 4, 5]"
            ]
          },
          "metadata": {},
          "execution_count": 79
        }
      ]
    },
    {
      "cell_type": "code",
      "source": [
        "inp= [1, 2, 2, 3, 3, 3, 4, 2, 2, 5]\n",
        "for i in range(len(inp)-1,0,-1):\n",
        "  if inp[i]==inp[i-1]:\n",
        "    inp.pop(i)\n",
        "inp"
      ],
      "metadata": {
        "colab": {
          "base_uri": "https://localhost:8080/"
        },
        "id": "MeqpghE-pkcK",
        "outputId": "75e99dd0-032c-46fc-82b0-181498cf8839"
      },
      "execution_count": null,
      "outputs": [
        {
          "output_type": "execute_result",
          "data": {
            "text/plain": [
              "[1, 2, 3, 4, 2, 5]"
            ]
          },
          "metadata": {},
          "execution_count": 80
        }
      ]
    },
    {
      "cell_type": "code",
      "source": [
        "inp=[0, 1, 9, 0, 3, 0, 12, 0]\n",
        "n=len(inp)#8\n",
        "for i in range(n):\n",
        "  if inp[i]==0:\n",
        "    for j in range(i,n-1):\n",
        "      inp[j]=inp[j+1]\n",
        "    i-=1\n",
        "    inp[-1]=0\n",
        "inp"
      ],
      "metadata": {
        "colab": {
          "base_uri": "https://localhost:8080/"
        },
        "id": "Q9tE4yIlqoXr",
        "outputId": "22b1be4d-000b-4276-d20a-79f94f7c7afc"
      },
      "execution_count": null,
      "outputs": [
        {
          "output_type": "execute_result",
          "data": {
            "text/plain": [
              "[1, 9, 3, 12, 0, 0, 0, 0]"
            ]
          },
          "metadata": {},
          "execution_count": 97
        }
      ]
    },
    {
      "cell_type": "code",
      "source": [
        "inp=[0, 1, 9, 0, 3, 0, 12, 0]\n",
        "count=0\n",
        "for i in range(len(inp)):\n",
        "  if inp[i]!=0:\n",
        "    inp[count]=inp[i]\n",
        "    count+=1\n",
        "while count<len(inp):\n",
        "  inp[count]=0\n",
        "  count+=1\n",
        "inp"
      ],
      "metadata": {
        "colab": {
          "base_uri": "https://localhost:8080/"
        },
        "id": "pQx7Kr1mu-xz",
        "outputId": "cd7be7c0-8571-4b71-b94a-e857c9c7ab83"
      },
      "execution_count": null,
      "outputs": [
        {
          "output_type": "execute_result",
          "data": {
            "text/plain": [
              "[1, 9, 3, 12, 0, 0, 0, 0]"
            ]
          },
          "metadata": {},
          "execution_count": 99
        }
      ]
    },
    {
      "cell_type": "code",
      "source": [
        "inp=[12, 35,33, 1, 10, 34, 1]\n",
        "lrg=0\n",
        "slrg=0\n",
        "for i in inp:\n",
        "  if i>=lrg:\n",
        "    slrg=lrg\n",
        "    lrg=i\n",
        "  elif i>=slrg and i<lrg:\n",
        "    slrg=i\n",
        "print(f\"largest={lrg} SecondLargest={slrg}\")"
      ],
      "metadata": {
        "colab": {
          "base_uri": "https://localhost:8080/"
        },
        "id": "qzF5YVxvvq-g",
        "outputId": "4f42e6f5-3a19-4a7d-c9c3-440e11a955ab"
      },
      "execution_count": null,
      "outputs": [
        {
          "output_type": "stream",
          "name": "stdout",
          "text": [
            "largest=35 SecondLargest=34\n"
          ]
        }
      ]
    },
    {
      "cell_type": "code",
      "source": [
        "inp= \"Hello, World!\"\n",
        "lt=[i for i in inp if i.isalpha()]\n",
        "print(set(lt))\n"
      ],
      "metadata": {
        "colab": {
          "base_uri": "https://localhost:8080/"
        },
        "id": "oI1NwoCIxULm",
        "outputId": "5ecfb4df-50da-420e-9065-aa7d69ad8d8f"
      },
      "execution_count": null,
      "outputs": [
        {
          "output_type": "stream",
          "name": "stdout",
          "text": [
            "{'H', 'r', 'e', 'o', 'l', 'W', 'd'}\n"
          ]
        }
      ]
    },
    {
      "cell_type": "code",
      "source": [
        "a,b=[ \"listen\", \"silent\"]\n",
        "a=''.join(sorted(list(map(lambda x:x.lower(),a))))\n",
        "b=''.join(sorted(list(map(lambda x:x.lower(),b))))\n",
        "print(a==b)"
      ],
      "metadata": {
        "colab": {
          "base_uri": "https://localhost:8080/"
        },
        "id": "pjqzPhevzkeQ",
        "outputId": "fe645cb3-f519-4a52-fbbe-a675375eda64"
      },
      "execution_count": null,
      "outputs": [
        {
          "output_type": "stream",
          "name": "stdout",
          "text": [
            "True\n"
          ]
        }
      ]
    },
    {
      "cell_type": "code",
      "source": [
        "inp=\"malayalam\"\n",
        "c=[]\n",
        "def palindrome(x):\n",
        "  s=0\n",
        "  e=len(x)-1\n",
        "  while s<e:\n",
        "    if x[s]!=x[e]:\n",
        "      return False\n",
        "    s+=1\n",
        "    e-=1\n",
        "  return True\n",
        "\n",
        "for i in range(len(inp)+1):\n",
        "  for j in range(i,len(inp)+1):\n",
        "    if inp[i:j] and palindrome(inp[i:j]):\n",
        "      c.append(inp[i:j])\n",
        "\n",
        "\n",
        "# print(c)\n",
        "val={i:len(i) for i in c}\n",
        "mx=max(val.values())\n",
        "for key,value in val.items():\n",
        "  if value==mx:\n",
        "    print(key,end=' ')"
      ],
      "metadata": {
        "colab": {
          "base_uri": "https://localhost:8080/"
        },
        "id": "Sz_vJn0W9W9K",
        "outputId": "7fb89f08-43e2-4cfd-a775-d591b8d723d4"
      },
      "execution_count": null,
      "outputs": [
        {
          "output_type": "stream",
          "name": "stdout",
          "text": [
            "malayalam "
          ]
        }
      ]
    },
    {
      "cell_type": "code",
      "source": [
        "list1 = [1, 3, 5]\n",
        "list2 = [2, 4, 6]\n",
        "merg=list1+list2\n",
        "for i in range(len(merg)-1):\n",
        "  for j in range(i+1,len(merg)):\n",
        "    if merg[i]>merg[j]:\n",
        "      merg[i],merg[j]=merg[j],merg[i]\n",
        "\n",
        "merg\n"
      ],
      "metadata": {
        "colab": {
          "base_uri": "https://localhost:8080/"
        },
        "id": "4Z2OaUT2E-go",
        "outputId": "ff611cfc-60c9-477c-b1f4-3386cb9da36b"
      },
      "execution_count": null,
      "outputs": [
        {
          "output_type": "execute_result",
          "data": {
            "text/plain": [
              "[1, 2, 3, 4, 5, 6]"
            ]
          },
          "metadata": {},
          "execution_count": 169
        }
      ]
    },
    {
      "cell_type": "code",
      "source": [
        "list1 = [1, 3, 5]\n",
        "list2 = [2, 4, 6]\n",
        "merg=[]\n",
        "i=j=0\n",
        "while i<len(list1) and j<len(list2):\n",
        "  if list1[i]<list2[j]:\n",
        "    merg.append(list1[i])\n",
        "    i+=1\n",
        "  else:\n",
        "    merg.append(list2[j])\n",
        "    j+=1\n",
        "\n",
        "while i<len(list1):\n",
        "  merg.append(list1[i])\n",
        "  i+=1\n",
        "\n",
        "\n",
        "while j<len(list2):\n",
        "  merg.append(list2[j])\n",
        "  j+=1\n",
        "\n",
        "merg"
      ],
      "metadata": {
        "colab": {
          "base_uri": "https://localhost:8080/"
        },
        "id": "IGroihi5Kuhh",
        "outputId": "d2e94ecb-bb14-4d4d-ccb1-a334b7f38e4c"
      },
      "execution_count": null,
      "outputs": [
        {
          "output_type": "execute_result",
          "data": {
            "text/plain": [
              "[1, 2, 3, 4, 5, 6]"
            ]
          },
          "metadata": {},
          "execution_count": 174
        }
      ]
    },
    {
      "cell_type": "code",
      "source": [
        "arr = [1, 2, 3, 4, 5]\n",
        "k = 2\n",
        "for i in range(k):\n",
        "  n=len(arr)-1\n",
        "  last=arr[-1]\n",
        "  while n>0:\n",
        "    arr[n]=arr[n-1]\n",
        "    n-=1\n",
        "  arr[0]=last\n",
        "arr"
      ],
      "metadata": {
        "colab": {
          "base_uri": "https://localhost:8080/"
        },
        "id": "kSdOOEIeQhiH",
        "outputId": "37c8314d-e8cc-4a07-a92d-eebaf2fb4529"
      },
      "execution_count": null,
      "outputs": [
        {
          "output_type": "execute_result",
          "data": {
            "text/plain": [
              "[4, 5, 1, 2, 3]"
            ]
          },
          "metadata": {},
          "execution_count": 176
        }
      ]
    },
    {
      "cell_type": "code",
      "source": [
        "arr = [1, 2, 3, 4, 5]\n",
        "k = 6%len(arr)\n",
        "arr=arr[-k:]+arr[:-k]\n",
        "arr"
      ],
      "metadata": {
        "colab": {
          "base_uri": "https://localhost:8080/"
        },
        "id": "1LgctA0BSVa1",
        "outputId": "0b97d1d4-7326-4c23-b3a6-d58d950a4139"
      },
      "execution_count": null,
      "outputs": [
        {
          "output_type": "execute_result",
          "data": {
            "text/plain": [
              "[5, 1, 2, 3, 4]"
            ]
          },
          "metadata": {},
          "execution_count": 181
        }
      ]
    },
    {
      "cell_type": "code",
      "source": [
        "numss = [3, 7, 1, 2, 8, 4, 5]\n",
        "ans=sum(numss)\n",
        "n=len(numss)+1\n",
        "act_sum=(n*(n+1))/2\n",
        "num=act_sum-ans\n",
        "num"
      ],
      "metadata": {
        "colab": {
          "base_uri": "https://localhost:8080/"
        },
        "id": "9G3pFRYbUp1L",
        "outputId": "22e3faf2-450e-4e62-9cea-0c7037d24bc6"
      },
      "execution_count": null,
      "outputs": [
        {
          "output_type": "execute_result",
          "data": {
            "text/plain": [
              "6.0"
            ]
          },
          "metadata": {},
          "execution_count": 6
        }
      ]
    },
    {
      "cell_type": "code",
      "source": [
        "n=len(numss)+1\n",
        "ans=None\n",
        "for i in range(1,n+1):\n",
        "  if i not in numss:\n",
        "    ans=i\n",
        "ans"
      ],
      "metadata": {
        "colab": {
          "base_uri": "https://localhost:8080/"
        },
        "id": "pZWbH7AyXsTi",
        "outputId": "499d7608-4c84-42fa-ce08-d39fdec3c20a"
      },
      "execution_count": null,
      "outputs": [
        {
          "output_type": "execute_result",
          "data": {
            "text/plain": [
              "6"
            ]
          },
          "metadata": {},
          "execution_count": 8
        }
      ]
    },
    {
      "cell_type": "code",
      "source": [
        "inp=\"abcabcbb\"\n",
        "sub=[]\n",
        "for i in range(len(inp)):\n",
        "  for j in range(i+1,len(inp)):\n",
        "    if inp[i:j]:\n",
        "      sub.append(inp[i:j])\n",
        "\n",
        "def valid(x):\n",
        "  if sorted(x)==sorted(list(set(x))):\n",
        "    return True\n",
        "  else:\n",
        "    return False\n",
        "\n",
        "val={i:len(i) for i in set(sub) if valid(i)}\n",
        "mx=max(val.values())\n",
        "for i,j in val.items():\n",
        "  if j==mx:\n",
        "    print(i)"
      ],
      "metadata": {
        "colab": {
          "base_uri": "https://localhost:8080/"
        },
        "id": "MDUhVr9-YQTP",
        "outputId": "0707e2ab-84a4-4e9a-d151-9e1d5dfa193c"
      },
      "execution_count": null,
      "outputs": [
        {
          "output_type": "stream",
          "name": "stdout",
          "text": [
            "abc\n",
            "bca\n",
            "cab\n"
          ]
        }
      ]
    },
    {
      "cell_type": "code",
      "source": [
        "list1 = [1, 2, 2, 1]\n",
        "list2 = [2, 2]\n",
        "intr=[]\n",
        "for i in list1:\n",
        "  if i in list2 and i not in intr:\n",
        "    intr.append(i)\n",
        "print(*intr)"
      ],
      "metadata": {
        "colab": {
          "base_uri": "https://localhost:8080/"
        },
        "id": "fEBxqF6CZWCx",
        "outputId": "09b6f6a0-198d-4e2b-fb68-647858ea1b35"
      },
      "execution_count": null,
      "outputs": [
        {
          "output_type": "stream",
          "name": "stdout",
          "text": [
            "2\n"
          ]
        }
      ]
    },
    {
      "cell_type": "code",
      "source": [
        "inp=[100, 4, 200, 1, 3, 2]\n",
        "count=0\n",
        "ind=0\n",
        "f=inp[ind]\n",
        "for i in range(len(inp)):\n",
        "  if f-1 in inp:\n",
        "    f=f-1\n",
        "    count+=1\n",
        "  else:\n",
        "    count=0\n",
        "    ind+=1\n",
        "count"
      ],
      "metadata": {
        "colab": {
          "base_uri": "https://localhost:8080/"
        },
        "id": "Z3vCb__GcjY9",
        "outputId": "5ae8e4ba-261e-46f8-f6e6-66dbc6a80609"
      },
      "execution_count": null,
      "outputs": [
        {
          "output_type": "execute_result",
          "data": {
            "text/plain": [
              "0"
            ]
          },
          "metadata": {},
          "execution_count": 30
        }
      ]
    },
    {
      "cell_type": "code",
      "source": [
        "inp=\"the sky is blue\"\n",
        "s=0\n",
        "e=None\n",
        "st=[]\n",
        "for i in range(len(inp)):\n",
        "  if inp[i]==' ':\n",
        "    st.append(inp[s:i])\n",
        "    s=i+1\n",
        "st.append(inp[s:])\n",
        "print(*st[::-1])"
      ],
      "metadata": {
        "colab": {
          "base_uri": "https://localhost:8080/"
        },
        "id": "_CgLDRgWfn8P",
        "outputId": "91a4f453-5fd6-46f3-8647-001e6ce61618"
      },
      "execution_count": null,
      "outputs": [
        {
          "output_type": "stream",
          "name": "stdout",
          "text": [
            "blue is sky the\n"
          ]
        }
      ]
    },
    {
      "cell_type": "code",
      "source": [
        "inp=\"the quick brown fox jumps over the lazy dog the dog\"\n",
        "words=[i for i in inp.split()]\n",
        "freq={}\n",
        "for i in words:\n",
        "  if i in freq:\n",
        "    freq[i]+=1\n",
        "  else:\n",
        "    freq[i]=1\n",
        "freq"
      ],
      "metadata": {
        "colab": {
          "base_uri": "https://localhost:8080/"
        },
        "id": "bb1gR11Bhdy4",
        "outputId": "59d6ec06-99a2-49cf-e780-a9515069c62b"
      },
      "execution_count": null,
      "outputs": [
        {
          "output_type": "execute_result",
          "data": {
            "text/plain": [
              "{'the': 3,\n",
              " 'quick': 1,\n",
              " 'brown': 1,\n",
              " 'fox': 1,\n",
              " 'jumps': 1,\n",
              " 'over': 1,\n",
              " 'lazy': 1,\n",
              " 'dog': 2}"
            ]
          },
          "metadata": {},
          "execution_count": 45
        }
      ]
    },
    {
      "cell_type": "code",
      "source": [
        "dict1 = {'a': 100, 'b': 200, 'c': 300}\n",
        "dict2 = {'a': 50, 'b': 250, 'd': 400}\n",
        "for i in dict2:\n",
        "  if i in dict1:\n",
        "    dict1[i]=dict1[i]+dict2[i]\n",
        "  else:\n",
        "    dict1[i]=dict2[i]\n",
        "\n",
        "print(dict1)\n"
      ],
      "metadata": {
        "colab": {
          "base_uri": "https://localhost:8080/"
        },
        "id": "N3e2VNybpUPc",
        "outputId": "92a39927-4fd4-433c-a829-78644dfddc5d"
      },
      "execution_count": null,
      "outputs": [
        {
          "output_type": "stream",
          "name": "stdout",
          "text": [
            "{'a': 150, 'b': 450, 'c': 300, 'd': 400}\n"
          ]
        }
      ]
    },
    {
      "cell_type": "code",
      "source": [
        "original_dict = {'a': 1, 'b': 2, 'c': 3}\n",
        "inv={j:i for i,j in original_dict.items()}\n",
        "inv"
      ],
      "metadata": {
        "colab": {
          "base_uri": "https://localhost:8080/"
        },
        "id": "4YGzO7L3qbvd",
        "outputId": "01619103-ed53-442b-b82f-1923d75500d5"
      },
      "execution_count": null,
      "outputs": [
        {
          "output_type": "execute_result",
          "data": {
            "text/plain": [
              "{1: 'a', 2: 'b', 3: 'c'}"
            ]
          },
          "metadata": {},
          "execution_count": 48
        }
      ]
    },
    {
      "cell_type": "code",
      "source": [
        "list_of_dicts = [{'a': 1, 'b': 2}, {'a': 3, 'b': 4}, {'a': 5, 'b': 6}]\n",
        "sum1={}\n",
        "for i in list_of_dicts:\n",
        "  if 'a' in sum1:\n",
        "    sum1['a']+=i['a']\n",
        "  if 'b' in sum1:\n",
        "    sum1['b']+=i['b']\n",
        "  else:\n",
        "    sum1['a']=i['a']\n",
        "    sum1['b']=i['b']\n",
        "sum1"
      ],
      "metadata": {
        "colab": {
          "base_uri": "https://localhost:8080/"
        },
        "id": "0GZAPGkLq1D5",
        "outputId": "224e763d-2645-4128-8b64-ebfe8543edd7"
      },
      "execution_count": null,
      "outputs": [
        {
          "output_type": "execute_result",
          "data": {
            "text/plain": [
              "{'a': 9, 'b': 12}"
            ]
          },
          "metadata": {},
          "execution_count": 56
        }
      ]
    },
    {
      "cell_type": "code",
      "source": [
        "list_of_dicts = [{'a': 1, 'b': 2}, {'a': 3, 'b': 4}, {'a': 5, 'b': 6}]\n",
        "freq={}\n",
        "for i in list_of_dicts:\n",
        "  for key,value in i.items():\n",
        "    if key in freq:\n",
        "      freq[key]+=value\n",
        "    else:\n",
        "      freq[key]=value\n",
        "freq"
      ],
      "metadata": {
        "colab": {
          "base_uri": "https://localhost:8080/"
        },
        "id": "9NHms__K6GUi",
        "outputId": "7b9b81b5-1cb6-4881-cfa9-92d20f6eeb55"
      },
      "execution_count": null,
      "outputs": [
        {
          "output_type": "execute_result",
          "data": {
            "text/plain": [
              "{'a': 9, 'b': 12}"
            ]
          },
          "metadata": {},
          "execution_count": 58
        }
      ]
    },
    {
      "cell_type": "code",
      "source": [
        "inp = \"hello world\"\n",
        "freq={}\n",
        "for i in inp:\n",
        "  if i in freq:\n",
        "    freq[i]+=1\n",
        "  else:\n",
        "    freq[i]=1\n",
        "freq"
      ],
      "metadata": {
        "colab": {
          "base_uri": "https://localhost:8080/"
        },
        "id": "dQfZ3LUg71d6",
        "outputId": "d494a58d-a24d-4cc8-f605-a16044622be9"
      },
      "execution_count": null,
      "outputs": [
        {
          "output_type": "execute_result",
          "data": {
            "text/plain": [
              "{'h': 1, 'e': 1, 'l': 3, 'o': 2, ' ': 1, 'w': 1, 'r': 1, 'd': 1}"
            ]
          },
          "metadata": {},
          "execution_count": 61
        }
      ]
    },
    {
      "cell_type": "code",
      "source": [
        "dict1 = {'a': 1, 'b': 2, 'c': 3}\n",
        "dict2 = {'a': 2, 'b': 1, 'd': 4}\n",
        "for i in dict2:\n",
        "  if i in dict1:\n",
        "    dict1[i]+=dict2[i]\n",
        "  else:\n",
        "    dict1[i]=dict2[i]\n",
        "dict1"
      ],
      "metadata": {
        "colab": {
          "base_uri": "https://localhost:8080/"
        },
        "id": "yId8S5nw8pag",
        "outputId": "fdd9d4ed-5dc7-4188-ab54-cc51481d74e1"
      },
      "execution_count": null,
      "outputs": [
        {
          "output_type": "execute_result",
          "data": {
            "text/plain": [
              "{'a': 3, 'b': 3, 'c': 3, 'd': 4}"
            ]
          },
          "metadata": {},
          "execution_count": 63
        }
      ]
    },
    {
      "cell_type": "code",
      "source": [
        "scores = {'Alice': 90, 'Bob': 85, 'Charlie': 95}\n",
        "mx=max(scores.values())\n",
        "for i,j in scores.items():\n",
        "  if j==mx:\n",
        "    print(i)"
      ],
      "metadata": {
        "colab": {
          "base_uri": "https://localhost:8080/"
        },
        "id": "VuGDcMizB7w-",
        "outputId": "581ac282-82f7-4e13-d87a-67e7d33e6b02"
      },
      "execution_count": null,
      "outputs": [
        {
          "output_type": "stream",
          "name": "stdout",
          "text": [
            "Charlie\n"
          ]
        }
      ]
    },
    {
      "cell_type": "code",
      "source": [
        "data = [('a', 1), ('b', 2), ('a', 3), ('b', 4), ('c', 5)]\n",
        "group={}\n",
        "for i in data:\n",
        "  if i[0] in group:\n",
        "    group[i[0]].append(i[1])\n",
        "  else:\n",
        "    group[i[0]]=[i[1]]\n",
        "\n",
        "group"
      ],
      "metadata": {
        "colab": {
          "base_uri": "https://localhost:8080/"
        },
        "id": "Auw72GnuCUtD",
        "outputId": "472d148a-c2fd-400e-81ad-8c153f152b6f"
      },
      "execution_count": null,
      "outputs": [
        {
          "output_type": "execute_result",
          "data": {
            "text/plain": [
              "{'a': [1, 3], 'b': [2, 4], 'c': [5]}"
            ]
          },
          "metadata": {},
          "execution_count": 67
        }
      ]
    },
    {
      "cell_type": "code",
      "source": [
        "dict1 = {'a': [1, 2], 'b': [3]}\n",
        "dict2 = {'a': [4], 'b': [5, 6], 'c': [7]}\n",
        "for i in dict2:\n",
        "  if i in dict1:\n",
        "    dict1[i]+=dict2[i]\n",
        "  else:\n",
        "    dict1[i]=dict2[i]\n",
        "\n",
        "dict1"
      ],
      "metadata": {
        "colab": {
          "base_uri": "https://localhost:8080/"
        },
        "id": "q629PrgdDBxy",
        "outputId": "0735f199-3dbf-4aee-d51d-bb4a9e358046"
      },
      "execution_count": null,
      "outputs": [
        {
          "output_type": "execute_result",
          "data": {
            "text/plain": [
              "{'a': [1, 2, 4], 'b': [3, 5, 6], 'c': [7]}"
            ]
          },
          "metadata": {},
          "execution_count": 68
        }
      ]
    },
    {
      "cell_type": "code",
      "source": [
        "inp = \"hello world\"\n",
        "freq={}\n",
        "for i in inp:\n",
        "  if i in freq:\n",
        "    freq[i]+=1\n",
        "  else:\n",
        "    freq[i]=1\n",
        "freq"
      ],
      "metadata": {
        "colab": {
          "base_uri": "https://localhost:8080/"
        },
        "id": "hY6aZcbCDkgV",
        "outputId": "f9fe5401-4a1d-495b-d48a-a4f6bf6eb15a"
      },
      "execution_count": null,
      "outputs": [
        {
          "output_type": "execute_result",
          "data": {
            "text/plain": [
              "{'h': 1, 'e': 1, 'l': 3, 'o': 2, ' ': 1, 'w': 1, 'r': 1, 'd': 1}"
            ]
          },
          "metadata": {},
          "execution_count": 69
        }
      ]
    },
    {
      "cell_type": "code",
      "source": [
        "dict1 = {'a': 1, 'b': 4, 'c': 3}\n",
        "dict2 = {'a': 2, 'b': 3, 'd': 5}\n",
        "dict1.update(dict2)\n",
        "dict1"
      ],
      "metadata": {
        "colab": {
          "base_uri": "https://localhost:8080/"
        },
        "id": "YkxzfwKMEkby",
        "outputId": "98ec2548-0bb0-4e4a-f4da-8878c7c07d2d"
      },
      "execution_count": null,
      "outputs": [
        {
          "output_type": "execute_result",
          "data": {
            "text/plain": [
              "{'a': 2, 'b': 3, 'c': 3, 'd': 5}"
            ]
          },
          "metadata": {},
          "execution_count": 71
        }
      ]
    },
    {
      "cell_type": "code",
      "source": [
        "\n",
        "match num==2:\n",
        "  case 1:\n",
        "    print('its one')\n",
        "  case 2:\n",
        "    print('is two')\n",
        "  case _:\n",
        "    print('more than two')"
      ],
      "metadata": {
        "colab": {
          "base_uri": "https://localhost:8080/"
        },
        "id": "TJCoVH4rQVaS",
        "outputId": "e6fd54b4-d4e8-4e98-d455-888be8befde4"
      },
      "execution_count": null,
      "outputs": [
        {
          "output_type": "stream",
          "name": "stdout",
          "text": [
            "more than two\n"
          ]
        }
      ]
    },
    {
      "cell_type": "code",
      "source": [
        "word=\"Leetcode\"\n",
        "print(word[1:].islower())"
      ],
      "metadata": {
        "colab": {
          "base_uri": "https://localhost:8080/"
        },
        "id": "N6GsHnl3zJv3",
        "outputId": "1f60cfa9-07ce-4b0c-da94-73e247c29dd3"
      },
      "execution_count": null,
      "outputs": [
        {
          "output_type": "stream",
          "name": "stdout",
          "text": [
            "True\n"
          ]
        }
      ]
    },
    {
      "cell_type": "code",
      "source": [
        "class person:\n",
        "  def __init__(self,name,age):\n",
        "    self.name=name\n",
        "    self.age=age\n",
        "  def greet(self):\n",
        "    return f\"Good Day {self.name} you are {self.age} year old\"\n",
        "\n",
        "hari=person('Hari',26)\n",
        "hari.greet()"
      ],
      "metadata": {
        "colab": {
          "base_uri": "https://localhost:8080/",
          "height": 36
        },
        "id": "dgGXsas589VS",
        "outputId": "3680f22e-bff8-47fd-fcd0-2e4ced97abd8"
      },
      "execution_count": null,
      "outputs": [
        {
          "output_type": "execute_result",
          "data": {
            "text/plain": [
              "'Good Day Hari you are 26 year old'"
            ],
            "application/vnd.google.colaboratory.intrinsic+json": {
              "type": "string"
            }
          },
          "metadata": {},
          "execution_count": 2
        }
      ]
    },
    {
      "cell_type": "code",
      "source": [
        "class project:\n",
        "  def __init__(self,proj_name,duration):\n",
        "    self.proj_name=proj_name\n",
        "    self.duration=duration\n",
        "  def proj_details(self):\n",
        "    return [self.proj_name,self.duration]\n",
        "project1=project('jhdsh',554)\n",
        "print(c.proj_details())"
      ],
      "metadata": {
        "colab": {
          "base_uri": "https://localhost:8080/"
        },
        "id": "M9uQKQCeUYsf",
        "outputId": "dd5feba1-7c89-4b18-813c-3b6ccde219e9"
      },
      "execution_count": null,
      "outputs": [
        {
          "output_type": "stream",
          "name": "stdout",
          "text": [
            "['jhdsh', 554]\n"
          ]
        }
      ]
    },
    {
      "cell_type": "code",
      "source": [
        "class Employee(person,worker):\n",
        "  def __init__(self,name,age,emp_id,projects):\n",
        "    super().__init__(name,age)\n",
        "    self.__emp_id=emp_id\n",
        "    self.project=projects\n",
        "\n",
        "  def show_emp_details(self):\n",
        "    print(f\"Name:{self.name}, Employee_id:{self.__emp_id}\")\n",
        "\n",
        "  def greet(self):\n",
        "    return f\"Good Day {self.name} you are {self.age} year old and your Employee_id is {self.__emp_id}\"\n",
        "\n",
        "  def get_emp_id(self):\n",
        "    return self.__emp_id\n",
        "  def set_emp_id(self,emp_id):\n",
        "    self.__emp_id=emp_id\n",
        "\n",
        "  def work(self):\n",
        "    print(f\"{self.name} is working on their task\")\n",
        "    print(*self.project.proj_details())\n",
        "\n",
        "emp=Employee('hari',26,'hg456',project1)\n",
        "emp.show_emp_details()\n",
        "emp.set_emp_id('hg421')\n",
        "print(emp.get_emp_id())\n",
        "emp.work()\n"
      ],
      "metadata": {
        "colab": {
          "base_uri": "https://localhost:8080/"
        },
        "id": "NkPbjQ-b-flf",
        "outputId": "e699176c-9ba4-4a83-c5d1-a31448c38239"
      },
      "execution_count": null,
      "outputs": [
        {
          "output_type": "stream",
          "name": "stdout",
          "text": [
            "Name:hari, Employee_id:hg456\n",
            "hg421\n",
            "hari is working on their task\n",
            "jhdsh 554\n"
          ]
        }
      ]
    },
    {
      "cell_type": "code",
      "source": [
        "class manager(person,worker):\n",
        "  def __init__(self,name,age,department):\n",
        "    super().__init__(name,age)\n",
        "    self.department=department\n",
        "\n",
        "  def greet(self):\n",
        "    return f\"Good Day {self.name} you are {self.age} year old, and you manage the {self.department} department.\"\n",
        "  def work(self):\n",
        "    print(f\"{self.name} is Managing  their department\")\n",
        "\n",
        "man1=manager('Royal',58,'Finance')\n",
        "print(man1.greet())\n",
        "man1.work()"
      ],
      "metadata": {
        "colab": {
          "base_uri": "https://localhost:8080/"
        },
        "id": "r4jhRSHnCpa2",
        "outputId": "d2501b3c-d0ff-4a7e-944e-3eb36e445e63"
      },
      "execution_count": null,
      "outputs": [
        {
          "output_type": "stream",
          "name": "stdout",
          "text": [
            "Good Day Royal you are 58 year old, and you manage the Finance department.\n",
            "Royal is Managing  their department\n"
          ]
        }
      ]
    },
    {
      "cell_type": "code",
      "source": [
        "from abc import ABC,abstractmethod\n",
        "class worker(ABC):\n",
        "  @abstractmethod\n",
        "  def work(self):\n",
        "    pass"
      ],
      "metadata": {
        "id": "aqbFwepFSIoL"
      },
      "execution_count": null,
      "outputs": []
    },
    {
      "cell_type": "code",
      "source": [
        "class Shape:\n",
        "    def draw(self):\n",
        "        return \"Drawing a shape\"\n",
        "\n",
        "class Circle(Shape):\n",
        "    def draw(self):\n",
        "        return \"Drawing a circle\"\n",
        "\n",
        "class Square(Shape):\n",
        "    def draw(self):\n",
        "        return \"Drawing a square\"\n",
        "\n",
        "def draw_shape(shape):\n",
        "    print(shape.draw())\n",
        "\n",
        "# shapes = [Circle(), Square()]\n",
        "\n",
        "# for shape in shapes:\n",
        "#     draw_shape(shape)\n",
        "\n",
        "print(Circle().draw()\n",
        ",'**********',Square().draw())"
      ],
      "metadata": {
        "colab": {
          "base_uri": "https://localhost:8080/"
        },
        "id": "-XO6mt-GdgDe",
        "outputId": "dc0e1ae7-e5af-4697-bc4c-9534bc29015a"
      },
      "execution_count": null,
      "outputs": [
        {
          "output_type": "stream",
          "name": "stdout",
          "text": [
            "Drawing a circle ********** Drawing a square\n"
          ]
        }
      ]
    },
    {
      "cell_type": "code",
      "source": [
        "data=[list(i for i in range(1,i+1)) for i in range(1,5+1)]\n",
        "data[2:]"
      ],
      "metadata": {
        "colab": {
          "base_uri": "https://localhost:8080/"
        },
        "id": "YnIODJXAJsCQ",
        "outputId": "e7ceef15-67f7-4e46-8ae9-64dff20bfe10"
      },
      "execution_count": null,
      "outputs": [
        {
          "output_type": "execute_result",
          "data": {
            "text/plain": [
              "[[1, 2, 3], [1, 2, 3, 4], [1, 2, 3, 4, 5]]"
            ]
          },
          "metadata": {},
          "execution_count": 13
        }
      ]
    },
    {
      "cell_type": "code",
      "source": [
        "# Input\n",
        "nums = [10, 20, 4, 45, 99]\n",
        "\n",
        "# Expected Output\n",
        "# Modified list: [10, 20, 4, 45]\n",
        "lrg=0\n",
        "slrg=0\n",
        "for i in nums:\n",
        "  if i>lrg:\n",
        "    slrg=lrg\n",
        "    lrg=i\n",
        "  elif i>slrg and i<lrg:\n",
        "    slrg=i\n",
        "nums.remove(slrg)\n",
        "nums"
      ],
      "metadata": {
        "colab": {
          "base_uri": "https://localhost:8080/"
        },
        "id": "_nyQ1oNNoXDZ",
        "outputId": "468e8629-e83e-4007-992f-b28742392047"
      },
      "execution_count": null,
      "outputs": [
        {
          "output_type": "execute_result",
          "data": {
            "text/plain": [
              "[10, 20, 4, 99]"
            ]
          },
          "metadata": {},
          "execution_count": 3
        }
      ]
    },
    {
      "cell_type": "code",
      "source": [
        "b=[4, 5, 4, 5, 6, 7, 7, 8, 4]\n",
        "l=len(b)-1\n",
        "while l>=0:\n",
        "  if b[l] in b[:l]:\n",
        "    b.pop(l)\n",
        "  l-=1\n",
        "b"
      ],
      "metadata": {
        "colab": {
          "base_uri": "https://localhost:8080/"
        },
        "id": "nAoVYEzPqChf",
        "outputId": "ddc10aee-5581-4575-e34f-cbcb38bbcd15"
      },
      "execution_count": null,
      "outputs": [
        {
          "output_type": "execute_result",
          "data": {
            "text/plain": [
              "[4, 5, 6, 7, 8]"
            ]
          },
          "metadata": {},
          "execution_count": 9
        }
      ]
    },
    {
      "cell_type": "code",
      "source": [
        "nums = [4, 5, 4, 5, 6, 7, 7, 8, 4]\n",
        "ans=[]\n",
        "for i in nums:\n",
        "  if i not in ans:\n",
        "    ans.append(i)\n",
        "ans"
      ],
      "metadata": {
        "colab": {
          "base_uri": "https://localhost:8080/"
        },
        "id": "4iHp3UyUDhJp",
        "outputId": "ca6b6625-8857-4e8f-a5b8-d5df8ccb5ef5"
      },
      "execution_count": null,
      "outputs": [
        {
          "output_type": "execute_result",
          "data": {
            "text/plain": [
              "[4, 5, 6, 7, 8]"
            ]
          },
          "metadata": {},
          "execution_count": 11
        }
      ]
    },
    {
      "cell_type": "code",
      "source": [
        "# Input lists\n",
        "list1 = [1, 2, 2, 3, 4, 5]\n",
        "list2 = [2, 3, 3, 5, 6, 7]\n",
        "\n",
        "# Expected Output\n",
        "# Intersection: [2, 3, 5]\n",
        "list3=list(set(list1)&set(list2))\n",
        "list3"
      ],
      "metadata": {
        "colab": {
          "base_uri": "https://localhost:8080/"
        },
        "id": "ycJCJbd5EHG0",
        "outputId": "d8d0ff76-e40a-41e4-ad11-68a7a4aed4ff"
      },
      "execution_count": null,
      "outputs": [
        {
          "output_type": "execute_result",
          "data": {
            "text/plain": [
              "[2, 3, 5]"
            ]
          },
          "metadata": {},
          "execution_count": 14
        }
      ]
    },
    {
      "cell_type": "code",
      "source": [
        "# Input\n",
        "nums = [4, 5, 4, 6, 7, 5, 8]\n",
        "\n",
        "num=[i for i in nums if nums.count(i)==1]\n",
        "num"
      ],
      "metadata": {
        "colab": {
          "base_uri": "https://localhost:8080/"
        },
        "id": "JbSbG9FoEi01",
        "outputId": "efe56995-43dd-47a5-bd83-563f9572404a"
      },
      "execution_count": null,
      "outputs": [
        {
          "output_type": "execute_result",
          "data": {
            "text/plain": [
              "[6, 7, 8]"
            ]
          },
          "metadata": {},
          "execution_count": 16
        }
      ]
    },
    {
      "cell_type": "code",
      "source": [
        "nums = [1, 2, 2, 3, 4, 3, 5]\n",
        "l=len(nums)-1\n",
        "while l>=0:\n",
        "  if nums[l] in nums[:l]:\n",
        "    nums.pop(l)\n",
        "  l-=1\n",
        "nums"
      ],
      "metadata": {
        "colab": {
          "base_uri": "https://localhost:8080/"
        },
        "id": "9GVo2rVtFQnd",
        "outputId": "880658da-ce71-4b4c-de50-4b508375a3d6"
      },
      "execution_count": null,
      "outputs": [
        {
          "output_type": "execute_result",
          "data": {
            "text/plain": [
              "[1, 2, 3, 4, 5]"
            ]
          },
          "metadata": {},
          "execution_count": 18
        }
      ]
    },
    {
      "cell_type": "code",
      "source": [
        "text='Malayalam'\n",
        "text=text.lower()\n",
        "x=len(text)-1\n",
        "inv=''\n",
        "while x>=0:\n",
        "  inv+=text[x]\n",
        "  x-=1\n",
        "if inv==text:\n",
        "  print('yes')\n",
        "else:\n",
        "  print('No')"
      ],
      "metadata": {
        "colab": {
          "base_uri": "https://localhost:8080/"
        },
        "id": "0KAKa0dYLhIp",
        "outputId": "b2e339f1-22f6-4569-ff30-a1522c3d8f1a"
      },
      "execution_count": null,
      "outputs": [
        {
          "output_type": "stream",
          "name": "stdout",
          "text": [
            "yes\n"
          ]
        }
      ]
    },
    {
      "cell_type": "code",
      "source": [
        "class Book:\n",
        "  def __init__(self,title='title',author='author',year_published='2000'):\n",
        "    self.title=title\n",
        "    self.author=author\n",
        "    self.year_published=year_published\n",
        "\n",
        "  def display_info(self):\n",
        "    print(self.title,self.author,self.year_published)\n",
        "\n",
        "  def __del__(self):\n",
        "    print(\"Book Oject is Deleted\")\n",
        "\n",
        "book=Book()\n",
        "book.display_info()"
      ],
      "metadata": {
        "colab": {
          "base_uri": "https://localhost:8080/"
        },
        "id": "BKm4Lwhjm1pr",
        "outputId": "cf7fee2c-6238-4c41-d173-094eca335f9e"
      },
      "execution_count": null,
      "outputs": [
        {
          "output_type": "stream",
          "name": "stdout",
          "text": [
            "title author 2000\n",
            "Book Oject is Deleted\n"
          ]
        }
      ]
    },
    {
      "cell_type": "code",
      "source": [
        "def divide_numbers(a,b):\n",
        "  try:\n",
        "    res=a/b\n",
        "  except ZeroDivisionError as e:\n",
        "    print(e)\n",
        "  except TypeError as e:\n",
        "    print(e)\n",
        "  else:\n",
        "    print('Ans is:',res)\n",
        "\n",
        "divide_numbers(4,2)"
      ],
      "metadata": {
        "colab": {
          "base_uri": "https://localhost:8080/"
        },
        "id": "dH--6ootoQPR",
        "outputId": "cf309645-5557-480b-eb03-72fba2b3504e"
      },
      "execution_count": null,
      "outputs": [
        {
          "output_type": "stream",
          "name": "stdout",
          "text": [
            "Ans is: 2.0\n"
          ]
        }
      ]
    },
    {
      "cell_type": "code",
      "source": [
        "my_list = [3, 7, 2, 9, 1]\n",
        "my_list.sort()\n",
        "my_list.append(4)\n",
        "small=min(my_list)\n",
        "my_list.remove(small)\n",
        "my_list\n",
        "sums=sum(my_list)\n",
        "sums"
      ],
      "metadata": {
        "colab": {
          "base_uri": "https://localhost:8080/"
        },
        "id": "MpFQxMGYo7Rq",
        "outputId": "3ab871d4-f830-4823-b9a8-44782374256b"
      },
      "execution_count": null,
      "outputs": [
        {
          "output_type": "execute_result",
          "data": {
            "text/plain": [
              "25"
            ]
          },
          "metadata": {},
          "execution_count": 21
        }
      ]
    },
    {
      "cell_type": "code",
      "source": [
        "my_dict = {'a': 10, 'b': 20, 'c': 30}\n",
        "my_dict['d']=40\n",
        "del my_dict['b']\n",
        "if 'c' in my_dict.keys():\n",
        "  print('yes')\n",
        "print(my_dict.keys())"
      ],
      "metadata": {
        "colab": {
          "base_uri": "https://localhost:8080/"
        },
        "id": "8tMj1Pbfs-DH",
        "outputId": "1c170e64-6b48-4dd8-9ef8-1f6ebcd0c54f"
      },
      "execution_count": null,
      "outputs": [
        {
          "output_type": "stream",
          "name": "stdout",
          "text": [
            "yes\n",
            "dict_keys(['a', 'c', 'd'])\n"
          ]
        }
      ]
    },
    {
      "cell_type": "code",
      "source": [
        "li=[1, 2, 3, 4, 5, 6]\n",
        "ans=[i*i for i in li if i%2==0]\n",
        "ans"
      ],
      "metadata": {
        "colab": {
          "base_uri": "https://localhost:8080/"
        },
        "id": "QZlcQk6nt0FD",
        "outputId": "72b4b601-973b-4b20-cb85-2df88f8a1dd2"
      },
      "execution_count": null,
      "outputs": [
        {
          "output_type": "execute_result",
          "data": {
            "text/plain": [
              "[4, 16, 36]"
            ]
          },
          "metadata": {},
          "execution_count": 31
        }
      ]
    },
    {
      "cell_type": "code",
      "source": [
        "di=[(1, 'one'), (2, 'two'), (3, 'three')]\n",
        "ans={i[0]:i[1] for i in di}\n",
        "ans"
      ],
      "metadata": {
        "colab": {
          "base_uri": "https://localhost:8080/"
        },
        "id": "iS36t7F-vHXm",
        "outputId": "76fab453-1e1c-45ad-ebd1-5f920fc9de61"
      },
      "execution_count": null,
      "outputs": [
        {
          "output_type": "execute_result",
          "data": {
            "text/plain": [
              "{1: 'one', 2: 'two', 3: 'three'}"
            ]
          },
          "metadata": {},
          "execution_count": 33
        }
      ]
    },
    {
      "cell_type": "code",
      "source": [
        "x=lambda x,y:x*y\n",
        "x(6,7)"
      ],
      "metadata": {
        "colab": {
          "base_uri": "https://localhost:8080/"
        },
        "id": "aXwTEB-1vhpv",
        "outputId": "28e28a5c-628a-435c-9ca9-1e816f4c891f"
      },
      "execution_count": null,
      "outputs": [
        {
          "output_type": "execute_result",
          "data": {
            "text/plain": [
              "42"
            ]
          },
          "metadata": {},
          "execution_count": 36
        }
      ]
    },
    {
      "cell_type": "code",
      "source": [
        "def my_gen(n):\n",
        "  for i in range(1,n+1):\n",
        "    yield i\n",
        "gen=my_gen(5)\n",
        "for i in gen:\n",
        "  print(i)\n"
      ],
      "metadata": {
        "colab": {
          "base_uri": "https://localhost:8080/"
        },
        "id": "9LUVyOzRv40V",
        "outputId": "6afa332d-5f14-405e-9444-922938e72da6"
      },
      "execution_count": null,
      "outputs": [
        {
          "output_type": "stream",
          "name": "stdout",
          "text": [
            "1\n",
            "2\n",
            "3\n",
            "4\n",
            "5\n"
          ]
        }
      ]
    },
    {
      "cell_type": "code",
      "source": [
        "\n",
        "def to_upper(func):\n",
        "  def wrapper():\n",
        "    res=func()\n",
        "    return res.upper()\n",
        "  return wrapper\n",
        "\n",
        "@to_upper\n",
        "def greet():\n",
        "  return 'hello'\n",
        "greet()"
      ],
      "metadata": {
        "colab": {
          "base_uri": "https://localhost:8080/",
          "height": 36
        },
        "id": "J6Clq9u11BeL",
        "outputId": "47dfad75-c222-4b73-e7f5-8b30dee5ed62"
      },
      "execution_count": null,
      "outputs": [
        {
          "output_type": "execute_result",
          "data": {
            "text/plain": [
              "'HELLO'"
            ],
            "application/vnd.google.colaboratory.intrinsic+json": {
              "type": "string"
            }
          },
          "metadata": {},
          "execution_count": 45
        }
      ]
    },
    {
      "cell_type": "code",
      "source": [
        "for i in range(1,11):\n",
        "  if i==8:\n",
        "    break\n",
        "  elif i%2==0:\n",
        "    print(i)\n",
        "  elif i%2!=0:\n",
        "    continue\n"
      ],
      "metadata": {
        "colab": {
          "base_uri": "https://localhost:8080/"
        },
        "id": "itdjMWef2lTD",
        "outputId": "c24c1d31-9586-4e4d-ef22-e5597459be5b"
      },
      "execution_count": null,
      "outputs": [
        {
          "output_type": "stream",
          "name": "stdout",
          "text": [
            "2\n",
            "4\n",
            "6\n"
          ]
        }
      ]
    },
    {
      "cell_type": "code",
      "source": [
        "def compare(a,b):\n",
        " greater= a if a>b else b\n",
        " summ=a+b\n",
        " return (f\"greater is:{greater} and sum is {summ}\")\n",
        "print(compare(8,5))"
      ],
      "metadata": {
        "colab": {
          "base_uri": "https://localhost:8080/"
        },
        "id": "kUYsodO44q9X",
        "outputId": "9d53b746-b46c-4c15-dfa5-6643cc8ac4ca"
      },
      "execution_count": null,
      "outputs": [
        {
          "output_type": "stream",
          "name": "stdout",
          "text": [
            "greater is:8 and sum is 13\n"
          ]
        }
      ]
    },
    {
      "cell_type": "code",
      "source": [
        "if '':\n",
        "  print('True')\n",
        "else:\n",
        "  print(\"False\")"
      ],
      "metadata": {
        "colab": {
          "base_uri": "https://localhost:8080/"
        },
        "id": "QDlFt17fQOl_",
        "outputId": "1c8adc61-80bc-472f-95a1-6ea20e2acb43"
      },
      "execution_count": null,
      "outputs": [
        {
          "output_type": "stream",
          "name": "stdout",
          "text": [
            "False\n"
          ]
        }
      ]
    },
    {
      "cell_type": "code",
      "source": [
        "from datetime import datetime\n",
        "print(datetime.now().strftime(\"%H:%M\"))\n",
        "d=datetime.today()\n",
        "d.day"
      ],
      "metadata": {
        "colab": {
          "base_uri": "https://localhost:8080/"
        },
        "id": "3pAw8FjoQ07f",
        "outputId": "9cd3326f-2176-4de2-dc5f-44c895f2ca5c"
      },
      "execution_count": null,
      "outputs": [
        {
          "output_type": "stream",
          "name": "stdout",
          "text": [
            "18:43\n"
          ]
        },
        {
          "output_type": "execute_result",
          "data": {
            "text/plain": [
              "27"
            ]
          },
          "metadata": {},
          "execution_count": 41
        }
      ]
    },
    {
      "cell_type": "code",
      "source": [
        "match 'hari':\n",
        "  case 'hari':\n",
        "    print(\"Its hari\")\n",
        "  case 'Hari':\n",
        "    print('its complete')\n",
        "  case 'Girir':\n",
        "    print('its giri')\n",
        "  case _:\n",
        "    print('Not found')"
      ],
      "metadata": {
        "colab": {
          "base_uri": "https://localhost:8080/"
        },
        "id": "tSJHbsr7Tro_",
        "outputId": "a1676f06-2b7e-4f64-af3a-5e8d1b646497"
      },
      "execution_count": null,
      "outputs": [
        {
          "output_type": "stream",
          "name": "stdout",
          "text": [
            "Its hari\n"
          ]
        }
      ]
    },
    {
      "cell_type": "code",
      "source": [
        "# li= [10, 15, 21, 33, 42, 55]\n",
        "li=[4, 8, 10]\n",
        "larg=None\n",
        "slarg=None\n",
        "c=0\n",
        "for i in li:\n",
        "  if i%2!=0:\n",
        "    c+=1\n",
        "    if larg==None or i>larg :\n",
        "      slarg=larg\n",
        "      larg=i\n",
        "    elif slarg is None or i>slarg and i<larg:\n",
        "      slarg=i\n",
        "if c<2:\n",
        "  print(None)\n",
        "else:\n",
        "  print(slarg)"
      ],
      "metadata": {
        "colab": {
          "base_uri": "https://localhost:8080/"
        },
        "id": "zcBu_3DyXz4p",
        "outputId": "f2814b7d-8ab4-494a-d314-acb519b9fb0b"
      },
      "execution_count": null,
      "outputs": [
        {
          "output_type": "stream",
          "name": "stdout",
          "text": [
            "None\n"
          ]
        }
      ]
    },
    {
      "cell_type": "code",
      "source": [
        "word1=\"A man a plan a canal Panama\"\n",
        "word2=\"Hello\"\n",
        "\n",
        "def palindrome(word):\n",
        "  word=''.join(word.split()).lower()\n",
        "\n",
        "  end=len(word)-1\n",
        "  strt=0\n",
        "  while strt<end:\n",
        "    if word[end]!=word[strt]:\n",
        "      return False\n",
        "    end-=1\n",
        "    strt+=1\n",
        "  return True\n",
        "\n",
        "print(palindrome(word1))\n"
      ],
      "metadata": {
        "colab": {
          "base_uri": "https://localhost:8080/"
        },
        "id": "64FblPi6aQON",
        "outputId": "7c980271-7c99-48b5-aa2d-d543752d951c"
      },
      "execution_count": null,
      "outputs": [
        {
          "output_type": "stream",
          "name": "stdout",
          "text": [
            "True\n"
          ]
        }
      ]
    },
    {
      "cell_type": "code",
      "source": [
        "lis_words= [\"madam\", \"hello\", \"racecar\", \"python\", \"level\"]\n",
        "pals=[i for i in lis_words if palindrome(i)]\n",
        "pals\n"
      ],
      "metadata": {
        "colab": {
          "base_uri": "https://localhost:8080/"
        },
        "id": "gbogr94mc0pz",
        "outputId": "f0bdb0fb-083a-4959-b295-553f0cf051eb"
      },
      "execution_count": null,
      "outputs": [
        {
          "output_type": "execute_result",
          "data": {
            "text/plain": [
              "['madam', 'racecar', 'level']"
            ]
          },
          "metadata": {},
          "execution_count": 73
        }
      ]
    },
    {
      "cell_type": "code",
      "source": [
        "data = {\n",
        "    \"person1\": {\"first_name\": \"John\", \"last_name\": \"Doe\"},\n",
        "    \"person2\": {\"first_name\": \"Jane\", \"last_name\": \"Smith\"}\n",
        "}\n",
        "datas={i:f\"{j['first_name']} {j['last_name']}\" for i,j in data.items()}\n",
        "datas"
      ],
      "metadata": {
        "colab": {
          "base_uri": "https://localhost:8080/"
        },
        "id": "6aXvzwaEd4on",
        "outputId": "b9aceeea-fc73-483a-e0c5-d6a3f2d14567"
      },
      "execution_count": null,
      "outputs": [
        {
          "output_type": "execute_result",
          "data": {
            "text/plain": [
              "{'person1': 'John Doe', 'person2': 'Jane Smith'}"
            ]
          },
          "metadata": {},
          "execution_count": 81
        }
      ]
    },
    {
      "cell_type": "code",
      "source": [
        "import sys\n",
        "\n",
        "num=[i for i in range(1,10)]\n",
        "my_it=iter(num)\n",
        "next(my_it)"
      ],
      "metadata": {
        "colab": {
          "base_uri": "https://localhost:8080/"
        },
        "id": "KjEsHeeRe5Fh",
        "outputId": "3292b55b-9e43-425f-f000-3b9837f7e18e"
      },
      "execution_count": null,
      "outputs": [
        {
          "output_type": "execute_result",
          "data": {
            "text/plain": [
              "1"
            ]
          },
          "metadata": {},
          "execution_count": 94
        }
      ]
    },
    {
      "cell_type": "code",
      "source": [],
      "metadata": {
        "colab": {
          "base_uri": "https://localhost:8080/",
          "height": 146
        },
        "id": "HGbXkkSFgF4y",
        "outputId": "3396dfa4-815c-4c7f-e2d1-ac19c6e6daa4"
      },
      "execution_count": null,
      "outputs": [
        {
          "output_type": "error",
          "ename": "StopIteration",
          "evalue": "",
          "traceback": [
            "\u001b[0;31m---------------------------------------------------------------------------\u001b[0m",
            "\u001b[0;31mStopIteration\u001b[0m                             Traceback (most recent call last)",
            "\u001b[0;32m<ipython-input-103-457fa1a6d583>\u001b[0m in \u001b[0;36m<cell line: 1>\u001b[0;34m()\u001b[0m\n\u001b[0;32m----> 1\u001b[0;31m \u001b[0mnext\u001b[0m\u001b[0;34m(\u001b[0m\u001b[0mmy_it\u001b[0m\u001b[0;34m)\u001b[0m\u001b[0;34m\u001b[0m\u001b[0;34m\u001b[0m\u001b[0m\n\u001b[0m",
            "\u001b[0;31mStopIteration\u001b[0m: "
          ]
        }
      ]
    },
    {
      "cell_type": "code",
      "source": [
        "data=(2,3,4,5)\n",
        "data=list(data)\n",
        "data.append(6)\n",
        "data=tuple(data)\n",
        "data"
      ],
      "metadata": {
        "colab": {
          "base_uri": "https://localhost:8080/"
        },
        "id": "I1LkdQ1719Sd",
        "outputId": "ced9539f-deee-46e4-fab4-c12b54756ccd"
      },
      "execution_count": null,
      "outputs": [
        {
          "output_type": "execute_result",
          "data": {
            "text/plain": [
              "(2, 3, 4, 5, 6)"
            ]
          },
          "metadata": {},
          "execution_count": 3
        }
      ]
    },
    {
      "cell_type": "code",
      "source": [
        "data=list(map(lambda x:x*x,(i for i in range(1,11))))\n",
        "data"
      ],
      "metadata": {
        "colab": {
          "base_uri": "https://localhost:8080/"
        },
        "id": "ku08d4OQ2qGG",
        "outputId": "f4f043c1-5872-4961-8002-2e3931d19c0a"
      },
      "execution_count": null,
      "outputs": [
        {
          "output_type": "execute_result",
          "data": {
            "text/plain": [
              "[1, 4, 9, 16, 25, 36, 49, 64, 81, 100]"
            ]
          },
          "metadata": {},
          "execution_count": 1
        }
      ]
    },
    {
      "cell_type": "code",
      "source": [
        "x = [4,3,7,4,2,200]\n",
        "y = [1,2,3,10,2,4]\n",
        "common=[]\n",
        "for i in x:\n",
        "  if i in y:\n",
        "    common.append(i)\n",
        "set(common)"
      ],
      "metadata": {
        "colab": {
          "base_uri": "https://localhost:8080/"
        },
        "id": "CsiBfnXO3k49",
        "outputId": "e1cc3ff7-c145-49c4-fb36-f26536dec784"
      },
      "execution_count": null,
      "outputs": [
        {
          "output_type": "execute_result",
          "data": {
            "text/plain": [
              "{2, 3, 4}"
            ]
          },
          "metadata": {},
          "execution_count": 8
        }
      ]
    },
    {
      "cell_type": "code",
      "source": [
        "a = [\n",
        "{\"name\":\"Angela\", \"age\":23,\"place\":\"newyork\"},\n",
        "{\"name\":\"charlie\", \"age\":24,\"place\":\"america\"},\n",
        "{\"name\":\"jobin\", \"age\":23},\n",
        "{\"name\":\"Kiran\", \"age\":43}\n",
        "]\n",
        "b=[]\n",
        "for i in a:\n",
        "  if 'place' not in i.keys():\n",
        "    b.append(i)\n",
        "\n",
        "b"
      ],
      "metadata": {
        "colab": {
          "base_uri": "https://localhost:8080/"
        },
        "id": "xOr6J4cR5o-d",
        "outputId": "11296eec-5dac-438b-afbb-8ad159f38c16"
      },
      "execution_count": null,
      "outputs": [
        {
          "output_type": "execute_result",
          "data": {
            "text/plain": [
              "[{'name': 'jobin', 'age': 23}, {'name': 'Kiran', 'age': 43}]"
            ]
          },
          "metadata": {},
          "execution_count": 13
        }
      ]
    },
    {
      "cell_type": "code",
      "source": [
        "fruits = [\"apple\",\"banana\",\"grapes\",\"apple\",\"mango\",\"grapes\",\"apple\",\"banana\",\"cherry\",\"kiwi\"]\n",
        "data=[{i:len(i)} for i in fruits]\n",
        "print(*data)"
      ],
      "metadata": {
        "colab": {
          "base_uri": "https://localhost:8080/"
        },
        "id": "QFZQaAT16nYm",
        "outputId": "b69d4fd9-7a2e-4ebf-fd7b-942dcd0988dc"
      },
      "execution_count": null,
      "outputs": [
        {
          "output_type": "stream",
          "name": "stdout",
          "text": [
            "{'apple': 5} {'banana': 6} {'grapes': 6} {'apple': 5} {'mango': 5} {'grapes': 6} {'apple': 5} {'banana': 6} {'cherry': 6} {'kiwi': 4}\n"
          ]
        }
      ]
    },
    {
      "cell_type": "code",
      "source": [
        "data={i for i in range(1,11)}\n",
        "data.add(11)\n",
        "data.remove(5)\n",
        "data.pop()\n",
        "data"
      ],
      "metadata": {
        "colab": {
          "base_uri": "https://localhost:8080/"
        },
        "id": "CHDh2mU0svkS",
        "outputId": "842bb257-bfbd-4e3f-a8b0-206e5769f163"
      },
      "execution_count": null,
      "outputs": [
        {
          "output_type": "execute_result",
          "data": {
            "text/plain": [
              "{2, 3, 4, 6, 7, 8, 9, 10, 11}"
            ]
          },
          "metadata": {},
          "execution_count": 11
        }
      ]
    },
    {
      "cell_type": "code",
      "source": [
        "data.remove(11)"
      ],
      "metadata": {
        "id": "db9Q61K4tHaZ"
      },
      "execution_count": null,
      "outputs": []
    },
    {
      "cell_type": "code",
      "source": [
        "A = {10, 20, 30, 40, 50}\n",
        "B = {30, 40, 50, 60, 70}\n",
        "data={i for i in A if i in B}\n",
        "data"
      ],
      "metadata": {
        "colab": {
          "base_uri": "https://localhost:8080/"
        },
        "id": "R7taWK2UuPhQ",
        "outputId": "68039e67-cd9c-4c33-fd3c-d4b567279286"
      },
      "execution_count": null,
      "outputs": [
        {
          "output_type": "execute_result",
          "data": {
            "text/plain": [
              "{30, 40, 50}"
            ]
          },
          "metadata": {},
          "execution_count": 19
        }
      ]
    },
    {
      "cell_type": "code",
      "source": [
        "data=A.intersection(B)\n",
        "data"
      ],
      "metadata": {
        "colab": {
          "base_uri": "https://localhost:8080/"
        },
        "id": "a7mzi-jZuYIB",
        "outputId": "685b6fdd-ee97-459d-ee05-7c7b4302d3fd"
      },
      "execution_count": null,
      "outputs": [
        {
          "output_type": "execute_result",
          "data": {
            "text/plain": [
              "{30, 40, 50}"
            ]
          },
          "metadata": {},
          "execution_count": 22
        }
      ]
    },
    {
      "cell_type": "code",
      "source": [
        "X = {1, 2, 3, 4, 5}\n",
        "Y = {4, 5, 6, 7, 8}\n",
        "data={i for i in X if i not in Y}\n",
        "data"
      ],
      "metadata": {
        "colab": {
          "base_uri": "https://localhost:8080/"
        },
        "id": "CwarooNwuzO1",
        "outputId": "af25aebf-2752-4648-b2f6-666c15581437"
      },
      "execution_count": null,
      "outputs": [
        {
          "output_type": "execute_result",
          "data": {
            "text/plain": [
              "{1, 2, 3}"
            ]
          },
          "metadata": {},
          "execution_count": 23
        }
      ]
    },
    {
      "cell_type": "code",
      "source": [
        "data=X-Y\n",
        "data"
      ],
      "metadata": {
        "colab": {
          "base_uri": "https://localhost:8080/"
        },
        "id": "x48mm8rku50x",
        "outputId": "dc12b0c7-2a91-4f4c-d8fd-09c4edca8559"
      },
      "execution_count": null,
      "outputs": [
        {
          "output_type": "execute_result",
          "data": {
            "text/plain": [
              "{1, 2, 3}"
            ]
          },
          "metadata": {},
          "execution_count": 24
        }
      ]
    },
    {
      "cell_type": "code",
      "source": [
        "P = {100, 200, 300}\n",
        "Q = {200, 300, 400, 500}\n",
        "data=P.union(Q )\n",
        "data=data-{i for i in P if i in Q}\n",
        "data"
      ],
      "metadata": {
        "colab": {
          "base_uri": "https://localhost:8080/"
        },
        "id": "Pt4EIHf9vNWi",
        "outputId": "01b78164-b899-406d-bc26-daffd49df8b2"
      },
      "execution_count": null,
      "outputs": [
        {
          "output_type": "execute_result",
          "data": {
            "text/plain": [
              "{100, 400, 500}"
            ]
          },
          "metadata": {},
          "execution_count": 29
        }
      ]
    },
    {
      "cell_type": "code",
      "source": [
        "set1 = {1, 2, 3, 4}\n",
        "set2 = {1,2,3, 4, 5, 6}\n",
        "set1.issubset(set2)"
      ],
      "metadata": {
        "colab": {
          "base_uri": "https://localhost:8080/"
        },
        "id": "PFMGPeBJw97v",
        "outputId": "959f5148-6dba-49a6-a525-929b99d5afb5"
      },
      "execution_count": null,
      "outputs": [
        {
          "output_type": "execute_result",
          "data": {
            "text/plain": [
              "True"
            ]
          },
          "metadata": {},
          "execution_count": 31
        }
      ]
    },
    {
      "cell_type": "code",
      "source": [
        "S = {10, 20, 30, 40}\n",
        "S.add(50)\n",
        "S"
      ],
      "metadata": {
        "colab": {
          "base_uri": "https://localhost:8080/"
        },
        "id": "3kTcsDT4xUCo",
        "outputId": "99a4f508-aad3-4f74-f247-468d234f8dea"
      },
      "execution_count": null,
      "outputs": [
        {
          "output_type": "execute_result",
          "data": {
            "text/plain": [
              "{10, 20, 30, 40, 50}"
            ]
          },
          "metadata": {},
          "execution_count": 34
        }
      ]
    },
    {
      "cell_type": "code",
      "source": [
        "T = {100, 200, 300, 400}\n",
        "T.remove(300)\n",
        "T"
      ],
      "metadata": {
        "colab": {
          "base_uri": "https://localhost:8080/"
        },
        "id": "-uxwJPqjxf3n",
        "outputId": "382df386-a4c5-4679-9a6d-7f4981e6ed84"
      },
      "execution_count": null,
      "outputs": [
        {
          "output_type": "execute_result",
          "data": {
            "text/plain": [
              "{100, 200, 400}"
            ]
          },
          "metadata": {},
          "execution_count": 36
        }
      ]
    },
    {
      "cell_type": "code",
      "source": [
        "U = {1, 2, 3, 4, 5}\n",
        "U.clear()\n",
        "U"
      ],
      "metadata": {
        "colab": {
          "base_uri": "https://localhost:8080/"
        },
        "id": "ri_v8iDdxoLn",
        "outputId": "41f7b06b-8cd0-47df-b1e3-56d959fa1faa"
      },
      "execution_count": null,
      "outputs": [
        {
          "output_type": "execute_result",
          "data": {
            "text/plain": [
              "set()"
            ]
          },
          "metadata": {},
          "execution_count": 39
        }
      ]
    },
    {
      "cell_type": "code",
      "source": [
        "setA = {5, 10, 15, 20}\n",
        "setB = {15, 20, 25, 30}\n",
        "setA=setA.union(setB)\n"
      ],
      "metadata": {
        "id": "8k-B_u1dx2in"
      },
      "execution_count": null,
      "outputs": []
    },
    {
      "cell_type": "code",
      "source": [
        "setA"
      ],
      "metadata": {
        "colab": {
          "base_uri": "https://localhost:8080/"
        },
        "id": "r0UZGBd7yCRQ",
        "outputId": "55d99869-3447-4c2d-8f28-8bc6a9ce6821"
      },
      "execution_count": null,
      "outputs": [
        {
          "output_type": "execute_result",
          "data": {
            "text/plain": [
              "{5, 10, 15, 20, 25, 30}"
            ]
          },
          "metadata": {},
          "execution_count": 47
        }
      ]
    },
    {
      "cell_type": "code",
      "source": [
        "V = {2, 4, 6, 8, 10}\n",
        "print(max(V))"
      ],
      "metadata": {
        "colab": {
          "base_uri": "https://localhost:8080/"
        },
        "id": "s9qraXcByKtg",
        "outputId": "b289b3ea-cd77-4cba-ab8c-18e27ac62599"
      },
      "execution_count": null,
      "outputs": [
        {
          "output_type": "stream",
          "name": "stdout",
          "text": [
            "10\n"
          ]
        }
      ]
    },
    {
      "cell_type": "code",
      "source": [
        "W = {1, 3, 5, 7, 9}\n",
        "print(5 in W)"
      ],
      "metadata": {
        "colab": {
          "base_uri": "https://localhost:8080/"
        },
        "id": "IVN7NtfJyWfH",
        "outputId": "ed78410e-e800-4432-df6b-d9110e0672ed"
      },
      "execution_count": null,
      "outputs": [
        {
          "output_type": "stream",
          "name": "stdout",
          "text": [
            "True\n"
          ]
        }
      ]
    },
    {
      "cell_type": "code",
      "source": [
        "A = {1, 2, 3, 4, 5}\n",
        "B = {4, 5, 6, 7, 8}\n",
        "c=A.union(B)\n",
        "ans=c-{i for i in A if i in B}\n",
        "ans"
      ],
      "metadata": {
        "colab": {
          "base_uri": "https://localhost:8080/"
        },
        "id": "9BYAM4q2yrzm",
        "outputId": "49daec9a-bd5c-46d2-cd4e-6f61ad26bbf8"
      },
      "execution_count": null,
      "outputs": [
        {
          "output_type": "execute_result",
          "data": {
            "text/plain": [
              "{1, 2, 3, 6, 7, 8}"
            ]
          },
          "metadata": {},
          "execution_count": 52
        }
      ]
    },
    {
      "cell_type": "code",
      "source": [
        "C = {2, 4, 6, 8, 10}\n",
        "even={i for i in C if i%2==0}\n",
        "even"
      ],
      "metadata": {
        "colab": {
          "base_uri": "https://localhost:8080/"
        },
        "id": "DfKBTOikzJa-",
        "outputId": "0f500d9c-2d08-4a23-cff5-745fad9a1b53"
      },
      "execution_count": null,
      "outputs": [
        {
          "output_type": "execute_result",
          "data": {
            "text/plain": [
              "{2, 4, 6, 8, 10}"
            ]
          },
          "metadata": {},
          "execution_count": 54
        }
      ]
    },
    {
      "cell_type": "code",
      "source": [
        "D = {1, 2, 3}\n",
        "E = {3, 4, 5}\n",
        "print(D-E)"
      ],
      "metadata": {
        "colab": {
          "base_uri": "https://localhost:8080/"
        },
        "id": "fsC8M-uqzWV3",
        "outputId": "ed0cb014-76e1-4d5d-b725-695b751362bd"
      },
      "execution_count": null,
      "outputs": [
        {
          "output_type": "stream",
          "name": "stdout",
          "text": [
            "{1, 2}\n"
          ]
        }
      ]
    },
    {
      "cell_type": "code",
      "source": [
        "F = {10, 20, 30, 40, 50}\n",
        "F.remove(20)\n",
        "F"
      ],
      "metadata": {
        "colab": {
          "base_uri": "https://localhost:8080/"
        },
        "id": "2xPScbN5zeSH",
        "outputId": "2ccc28a1-c2bb-4521-8c52-b76d72203d30"
      },
      "execution_count": null,
      "outputs": [
        {
          "output_type": "execute_result",
          "data": {
            "text/plain": [
              "{10, 30, 40, 50}"
            ]
          },
          "metadata": {},
          "execution_count": 56
        }
      ]
    },
    {
      "cell_type": "code",
      "source": [
        "H = {6, 7, 8}\n",
        "G = {1, 2, 3, 4, 5}\n",
        "print(G.issubset(H))\n",
        "if not G.issubset(H):\n",
        "  print('yes: it is disjoint')\n",
        "else:\n",
        "  print('NO')\n"
      ],
      "metadata": {
        "colab": {
          "base_uri": "https://localhost:8080/"
        },
        "id": "K1Ucg6R2z2iw",
        "outputId": "2fa9ac5c-5edf-4d94-b78b-f612735dc265"
      },
      "execution_count": null,
      "outputs": [
        {
          "output_type": "stream",
          "name": "stdout",
          "text": [
            "False\n",
            "yes: it is disjoint\n"
          ]
        }
      ]
    },
    {
      "cell_type": "code",
      "source": [
        "a=(1,23,2)\n",
        "b=(5,9)\n",
        "c=a+b\n",
        "c"
      ],
      "metadata": {
        "colab": {
          "base_uri": "https://localhost:8080/"
        },
        "id": "IL2FslKbQGZc",
        "outputId": "03946d5e-e9dc-4a03-f4a8-6b32165bd936"
      },
      "execution_count": null,
      "outputs": [
        {
          "output_type": "execute_result",
          "data": {
            "text/plain": [
              "(1, 23, 2, 5, 9)"
            ]
          },
          "metadata": {},
          "execution_count": 2
        }
      ]
    },
    {
      "cell_type": "code",
      "source": [
        "i=range(5)\n",
        "for ele in i:\n",
        "  print(ele)"
      ],
      "metadata": {
        "colab": {
          "base_uri": "https://localhost:8080/"
        },
        "id": "gEjD8j63FXmI",
        "outputId": "eb57ae51-8fdd-4338-f21e-c83aac5ecf84"
      },
      "execution_count": null,
      "outputs": [
        {
          "output_type": "stream",
          "name": "stdout",
          "text": [
            "0\n",
            "1\n",
            "2\n",
            "3\n",
            "4\n"
          ]
        }
      ]
    },
    {
      "cell_type": "code",
      "source": [
        "numbers = [3, 11, 7, 5, 13, 4]\n",
        "data=['High' if num>10 else 'Medium' if num>=5 and num<=10 else 'Low' for num in numbers]\n",
        "data"
      ],
      "metadata": {
        "colab": {
          "base_uri": "https://localhost:8080/"
        },
        "id": "UlvSXfhdLG_3",
        "outputId": "72450c4c-1483-447b-e905-9ad60141eb6c"
      },
      "execution_count": null,
      "outputs": [
        {
          "output_type": "execute_result",
          "data": {
            "text/plain": [
              "['Low', 'High', 'Medium', 'Medium', 'High', 'Low']"
            ]
          },
          "metadata": {},
          "execution_count": 2
        }
      ]
    },
    {
      "cell_type": "code",
      "source": [
        "numbers = [-1, 2, 5, 0, 8, 3]\n",
        "data=[i*2 if i%2==0 else i*3  for i in numbers if i>0]\n",
        "data"
      ],
      "metadata": {
        "colab": {
          "base_uri": "https://localhost:8080/"
        },
        "id": "V1pKHqmhMGU7",
        "outputId": "2629d8c4-a7a7-4dbe-85a2-4e011c2a3205"
      },
      "execution_count": null,
      "outputs": [
        {
          "output_type": "execute_result",
          "data": {
            "text/plain": [
              "[4, 15, 16, 9]"
            ]
          },
          "metadata": {},
          "execution_count": 5
        }
      ]
    },
    {
      "cell_type": "code",
      "source": [
        "scores = [95, 85, 76, 67, 54, 88, 100]\n",
        "data=['A' if i>=90 else 'B' if i>=80 else 'C' if i>=70 else 'D' if i>=60 else 'F' for i in scores]\n",
        "data"
      ],
      "metadata": {
        "colab": {
          "base_uri": "https://localhost:8080/"
        },
        "id": "H3csc1wvM0Jf",
        "outputId": "60b2f52b-a702-406b-f17d-afae736414c7"
      },
      "execution_count": null,
      "outputs": [
        {
          "output_type": "execute_result",
          "data": {
            "text/plain": [
              "['A', 'B', 'C', 'D', 'F', 'B', 'A']"
            ]
          },
          "metadata": {},
          "execution_count": 7
        }
      ]
    },
    {
      "cell_type": "code",
      "source": [
        "words = ['hello', 'world', 'Python', 'programming', 'is', 'fun']\n",
        "data=[i.upper() if len(i)>5 else i for i in words]\n",
        "data"
      ],
      "metadata": {
        "colab": {
          "base_uri": "https://localhost:8080/"
        },
        "id": "SyyCL_8eNgFN",
        "outputId": "ddec435e-f01b-454e-fc52-5068489a3e1e"
      },
      "execution_count": null,
      "outputs": [
        {
          "output_type": "execute_result",
          "data": {
            "text/plain": [
              "['hello', 'world', 'PYTHON', 'PROGRAMMING', 'is', 'fun']"
            ]
          },
          "metadata": {},
          "execution_count": 8
        }
      ]
    },
    {
      "cell_type": "code",
      "source": [
        "temperatures = [-10, 0, 5, 10, 15]\n",
        "data=[i*9/5+32 if i>0 else i for i in temperatures]\n",
        "data"
      ],
      "metadata": {
        "colab": {
          "base_uri": "https://localhost:8080/"
        },
        "id": "YXIyU5vbN982",
        "outputId": "893ffaf8-e384-452e-9e4f-6ab233e01023"
      },
      "execution_count": null,
      "outputs": [
        {
          "output_type": "execute_result",
          "data": {
            "text/plain": [
              "[-10, 0, 41.0, 50.0, 59.0]"
            ]
          },
          "metadata": {},
          "execution_count": 9
        }
      ]
    },
    {
      "cell_type": "code",
      "source": [
        "mixed_values = ['Hello', 10, 'WORLD', 20.5, 'Python', None, 5]\n",
        "data=[i.lower() if isinstance(i,str) else i for i in mixed_values]\n",
        "data"
      ],
      "metadata": {
        "colab": {
          "base_uri": "https://localhost:8080/"
        },
        "id": "Fs5d_1WuOX21",
        "outputId": "69a207bc-96a7-46a0-c2d4-7ecb376811e7"
      },
      "execution_count": null,
      "outputs": [
        {
          "output_type": "execute_result",
          "data": {
            "text/plain": [
              "['hello', 10, 'world', 20.5, 'python', None, 5]"
            ]
          },
          "metadata": {},
          "execution_count": 10
        }
      ]
    },
    {
      "cell_type": "code",
      "source": [
        "ages = [15, 22, 'twenty', 17, 18, 30, None, 12]\n",
        "data=['Minor' if i<18 else 'Adult' for i in ages if isinstance(i,int)]\n",
        "data"
      ],
      "metadata": {
        "colab": {
          "base_uri": "https://localhost:8080/"
        },
        "id": "qUZT7yqXPHx8",
        "outputId": "7e4450ac-ea68-456e-af1a-1ad3855aa741"
      },
      "execution_count": null,
      "outputs": [
        {
          "output_type": "execute_result",
          "data": {
            "text/plain": [
              "['Minor', 'Adult', 'Minor', 'Adult', 'Adult', 'Minor']"
            ]
          },
          "metadata": {},
          "execution_count": 11
        }
      ]
    },
    {
      "cell_type": "code",
      "source": [
        "def fibo(n):\n",
        "  a,b=0,1\n",
        "  for i in range(n):\n",
        "    print(a)\n",
        "    a,b=b,b+a\n",
        "\n",
        "fibo(4)"
      ],
      "metadata": {
        "colab": {
          "base_uri": "https://localhost:8080/"
        },
        "id": "-SWu8er82qJL",
        "outputId": "9fdba73e-26fd-4581-ab0d-614fa8490fa9"
      },
      "execution_count": null,
      "outputs": [
        {
          "output_type": "stream",
          "name": "stdout",
          "text": [
            "0\n",
            "1\n",
            "1\n",
            "2\n"
          ]
        }
      ]
    },
    {
      "cell_type": "code",
      "source": [
        "data='aaabbca'\n",
        "# op='a3b2c1a1'\n",
        "val=[i for i in data]\n",
        "val"
      ],
      "metadata": {
        "colab": {
          "base_uri": "https://localhost:8080/"
        },
        "id": "JkSew0KWJJHx",
        "outputId": "093f460c-d330-4de2-df5e-28af0af689e6"
      },
      "execution_count": null,
      "outputs": [
        {
          "output_type": "execute_result",
          "data": {
            "text/plain": [
              "['a', 'a', 'a', 'b', 'b', 'c', 'a']"
            ]
          },
          "metadata": {},
          "execution_count": 18
        }
      ]
    },
    {
      "cell_type": "code",
      "source": [
        "data='aaabbca'\n",
        "# op='a3b2c1a1'\n",
        "val=[i for i in data]\n",
        "ans=[]\n",
        "\n",
        "count=1\n",
        "for i in range(1,len(val)):\n",
        "  if val[i]==val[i-1]:\n",
        "    count+=1\n",
        "  else:\n",
        "    ans.append(val[i-1])\n",
        "    ans.append(str(count))\n",
        "    count=1\n",
        "ans.append(val[-1])\n",
        "ans.append(str(count))\n",
        "print(''.join(ans))\n"
      ],
      "metadata": {
        "colab": {
          "base_uri": "https://localhost:8080/"
        },
        "id": "g1ofL2aUCtDK",
        "outputId": "cc27edd7-1695-4b16-b791-5349e34d4dcf"
      },
      "execution_count": null,
      "outputs": [
        {
          "output_type": "stream",
          "name": "stdout",
          "text": [
            "a3b2c1a1\n"
          ]
        }
      ]
    },
    {
      "cell_type": "code",
      "source": [
        "def is_prime(num):\n",
        "  if num<=1:\n",
        "    return False\n",
        "  else:\n",
        "    for i in range(2,(num//2)+1):\n",
        "      if num%i==0:\n",
        "        return False\n",
        "  return True"
      ],
      "metadata": {
        "id": "NtB2b4rKF8pK"
      },
      "execution_count": 12,
      "outputs": []
    },
    {
      "cell_type": "code",
      "source": [
        "print(is_prime(2))"
      ],
      "metadata": {
        "colab": {
          "base_uri": "https://localhost:8080/"
        },
        "id": "klFJ0HEFgk15",
        "outputId": "8aab0310-d633-44b8-dc58-c9a895a566f0"
      },
      "execution_count": 16,
      "outputs": [
        {
          "output_type": "stream",
          "name": "stdout",
          "text": [
            "True\n"
          ]
        }
      ]
    },
    {
      "cell_type": "code",
      "source": [
        "prime=[i for i in range(51) if is_prime(i)]\n",
        "prime"
      ],
      "metadata": {
        "colab": {
          "base_uri": "https://localhost:8080/"
        },
        "id": "qIGqLBsRhL0Q",
        "outputId": "39fc9a05-d791-4c49-c9f4-e848780fca44"
      },
      "execution_count": 19,
      "outputs": [
        {
          "output_type": "execute_result",
          "data": {
            "text/plain": [
              "[2, 3, 5, 7, 11, 13, 17, 19, 23, 29, 31, 37, 41, 43, 47]"
            ]
          },
          "metadata": {},
          "execution_count": 19
        }
      ]
    },
    {
      "cell_type": "code",
      "source": [
        "num=[1, 2, 2, 3, 4, 4, 5]\n",
        "uni=list(filter(lambda x:num.count(x)==1,num))\n",
        "uni"
      ],
      "metadata": {
        "colab": {
          "base_uri": "https://localhost:8080/"
        },
        "id": "sv95ZTm2hRFo",
        "outputId": "5e2b3e83-9296-4f20-dd3c-620edc0fecec"
      },
      "execution_count": 24,
      "outputs": [
        {
          "output_type": "execute_result",
          "data": {
            "text/plain": [
              "[1, 3, 5]"
            ]
          },
          "metadata": {},
          "execution_count": 24
        }
      ]
    },
    {
      "cell_type": "code",
      "source": [
        "uni={}\n",
        "for i in num:\n",
        "  if i in uni:\n",
        "    uni[i]+=1\n",
        "  else:\n",
        "    uni[i]=1\n",
        "ans=[i for i in uni if uni[i]==1]\n",
        "ans"
      ],
      "metadata": {
        "colab": {
          "base_uri": "https://localhost:8080/"
        },
        "id": "BREk9xORjHqU",
        "outputId": "e3c0194a-e2c5-40a8-eafe-22b41f7e8a46"
      },
      "execution_count": 26,
      "outputs": [
        {
          "output_type": "execute_result",
          "data": {
            "text/plain": [
              "[1, 3, 5]"
            ]
          },
          "metadata": {},
          "execution_count": 26
        }
      ]
    },
    {
      "cell_type": "code",
      "source": [
        "a=0\n",
        "b=1\n",
        "for i in range(10):\n",
        "  print(a)\n",
        "  a,b = b,a+b"
      ],
      "metadata": {
        "colab": {
          "base_uri": "https://localhost:8080/"
        },
        "id": "smZ4k3aFqobn",
        "outputId": "6fb8b048-0c4a-47c0-9bd6-cae8dd48be8a"
      },
      "execution_count": 27,
      "outputs": [
        {
          "output_type": "stream",
          "name": "stdout",
          "text": [
            "0\n",
            "1\n",
            "1\n",
            "2\n",
            "3\n",
            "5\n",
            "8\n",
            "13\n",
            "21\n",
            "34\n"
          ]
        }
      ]
    },
    {
      "cell_type": "code",
      "source": [
        "num=[3, 4, 5, 6, 7, 8, 9, 10]\n",
        "def is_prime(num):\n",
        "  if num<=1:\n",
        "    return False\n",
        "  else:\n",
        "    for i in range(2,(num//2)+1):\n",
        "      if num%i==0:\n",
        "        return False\n",
        "  return True\n",
        "ans=sum([1 for i in num if is_prime(i) ])\n",
        "ans"
      ],
      "metadata": {
        "colab": {
          "base_uri": "https://localhost:8080/"
        },
        "id": "bcXF6P72rUvI",
        "outputId": "e416ba4e-0cc4-4def-c6ab-52967fef2aad"
      },
      "execution_count": 28,
      "outputs": [
        {
          "output_type": "execute_result",
          "data": {
            "text/plain": [
              "3"
            ]
          },
          "metadata": {},
          "execution_count": 28
        }
      ]
    },
    {
      "cell_type": "code",
      "source": [
        "name=\"hello\"\n",
        "uni=set(name)\n",
        "print(len(uni))"
      ],
      "metadata": {
        "colab": {
          "base_uri": "https://localhost:8080/"
        },
        "id": "dyTg0ey1r1gV",
        "outputId": "c59d8695-cb8f-49bc-da8b-52640c0996f8"
      },
      "execution_count": 40,
      "outputs": [
        {
          "output_type": "stream",
          "name": "stdout",
          "text": [
            "4\n"
          ]
        }
      ]
    },
    {
      "cell_type": "code",
      "source": [
        "sent=\"A man a plan a canal Panama\"\n",
        "sent=''.join(sent.split()).lower()\n",
        "s=0\n",
        "e=len(sent)-1\n",
        "flag=1\n",
        "while s<e:\n",
        "  if sent[s]!=sent[e]:\n",
        "    flag=0\n",
        "  s+=1\n",
        "  e-=1\n",
        "if flag==1:\n",
        "  print('palindrome')\n",
        "else:\n",
        "  print('Not palindrome')"
      ],
      "metadata": {
        "colab": {
          "base_uri": "https://localhost:8080/"
        },
        "id": "-irXWvrxsQDu",
        "outputId": "d05bcae5-fc4c-4d71-90cc-4b291d1f745c"
      },
      "execution_count": 49,
      "outputs": [
        {
          "output_type": "stream",
          "name": "stdout",
          "text": [
            "palindrome\n"
          ]
        }
      ]
    },
    {
      "cell_type": "code",
      "source": [
        "name=\"hello\"\n",
        "name=list(set(name))\n",
        "name=sorted(name)\n",
        "name\n"
      ],
      "metadata": {
        "colab": {
          "base_uri": "https://localhost:8080/"
        },
        "id": "Ryh8vJG8tyuX",
        "outputId": "5f6339f2-e5d4-4c49-ad24-8e54a5f5ba6a"
      },
      "execution_count": 55,
      "outputs": [
        {
          "output_type": "execute_result",
          "data": {
            "text/plain": [
              "['e', 'h', 'l', 'o']"
            ]
          },
          "metadata": {},
          "execution_count": 55
        }
      ]
    },
    {
      "cell_type": "code",
      "source": [
        "word=\"abc\"\n",
        "comb=[]\n",
        "for i in range(len(word)):\n",
        "  for j in range(i+1,len(word)+1):\n",
        "    print(word[i:j])\n",
        "\n",
        "\n"
      ],
      "metadata": {
        "colab": {
          "base_uri": "https://localhost:8080/"
        },
        "id": "omnu2OYaubp4",
        "outputId": "14bfa9ea-1b3b-4d71-f96a-10ada3767ba9"
      },
      "execution_count": 66,
      "outputs": [
        {
          "output_type": "stream",
          "name": "stdout",
          "text": [
            "a\n",
            "ab\n",
            "abc\n",
            "b\n",
            "bc\n",
            "c\n"
          ]
        }
      ]
    },
    {
      "cell_type": "code",
      "source": [
        "num=5\n",
        "fact=1\n",
        "for i in range(1,num+1):\n",
        "  fact*=i\n",
        "fact\n"
      ],
      "metadata": {
        "colab": {
          "base_uri": "https://localhost:8080/"
        },
        "id": "SdYTSU0kyy8s",
        "outputId": "64809f30-787b-4b95-e9a4-c254cd9b06dd"
      },
      "execution_count": 70,
      "outputs": [
        {
          "output_type": "execute_result",
          "data": {
            "text/plain": [
              "120"
            ]
          },
          "metadata": {},
          "execution_count": 70
        }
      ]
    },
    {
      "cell_type": "code",
      "source": [
        "word=\"listen\"\n",
        "word2=\"silent\"\n",
        "if sorted(word)==sorted(word2):\n",
        "  print('yes')\n",
        "else:\n",
        "  print('No')"
      ],
      "metadata": {
        "colab": {
          "base_uri": "https://localhost:8080/"
        },
        "id": "a5t5DlGtzoEj",
        "outputId": "9db9157c-6b05-4dbe-e2fc-9a6699696b1c"
      },
      "execution_count": 75,
      "outputs": [
        {
          "output_type": "stream",
          "name": "stdout",
          "text": [
            "yes\n"
          ]
        }
      ]
    },
    {
      "cell_type": "code",
      "source": [
        "num=1211\n",
        "if str(num)==str(num)[::-1]:\n",
        "  print('yes')\n",
        "else:\n",
        "  print('No')"
      ],
      "metadata": {
        "colab": {
          "base_uri": "https://localhost:8080/"
        },
        "id": "u8Iuk74Q0W8i",
        "outputId": "5477121b-0ebd-45cb-d548-403eba845fb2"
      },
      "execution_count": 78,
      "outputs": [
        {
          "output_type": "stream",
          "name": "stdout",
          "text": [
            "No\n"
          ]
        }
      ]
    },
    {
      "cell_type": "code",
      "source": [
        "num=153\n",
        "sum=0\n",
        "n=len(str(num))\n",
        "for i in str(num):\n",
        "  sum+=int(i)**n\n",
        "sum"
      ],
      "metadata": {
        "colab": {
          "base_uri": "https://localhost:8080/"
        },
        "id": "7muBEhXy0zok",
        "outputId": "a5f89d39-f94d-4a5d-f2e1-c903a4a4396f"
      },
      "execution_count": 80,
      "outputs": [
        {
          "output_type": "execute_result",
          "data": {
            "text/plain": [
              "153"
            ]
          },
          "metadata": {},
          "execution_count": 80
        }
      ]
    },
    {
      "cell_type": "code",
      "source": [
        "\n",
        "num=28\n",
        "sum=0\n",
        "for i in range(1,(num//2)+1):\n",
        "  if num%i==0:\n",
        "    sum+=i\n",
        "\n",
        "if sum==num:\n",
        "  print('perfect')\n",
        "else:\n",
        "  print('noot')\n"
      ],
      "metadata": {
        "colab": {
          "base_uri": "https://localhost:8080/"
        },
        "id": "pFGaLihQ3k5R",
        "outputId": "24ecdb44-fc68-497d-c1f2-ef7183225211"
      },
      "execution_count": 82,
      "outputs": [
        {
          "output_type": "stream",
          "name": "stdout",
          "text": [
            "perfect\n"
          ]
        }
      ]
    }
  ]
}